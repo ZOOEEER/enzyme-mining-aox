{
 "cells": [
  {
   "cell_type": "code",
   "execution_count": 1,
   "metadata": {},
   "outputs": [
    {
     "name": "stdout",
     "output_type": "stream",
     "text": [
      "d:\\Python\\aox\\enzyme-mining-aox\n"
     ]
    }
   ],
   "source": [
    "import os\n",
    "from os.path import join\n",
    "import pandas as pd\n",
    "import numpy as np\n",
    "CURRENT_DIR = os.getcwd()\n",
    "print(CURRENT_DIR)"
   ]
  },
  {
   "cell_type": "code",
   "execution_count": 2,
   "metadata": {},
   "outputs": [],
   "source": [
    "DATADIR = os.path.join(CURRENT_DIR, \"data\", \"aox\")\n",
    "filenames = {\n",
    "    # download or curate from the database website\n",
    "    \"brenda_sequence\": join(DATADIR, \"raw\", \"brenda_sequence.tsv\"),\n",
    "    \"brenda_reference\": join(DATADIR, \"raw\", \"brenda_reference.tsv\"),\n",
    "    \"brenda_organism\": join(DATADIR, \"raw\", \"brenda_organism.tsv\"),\n",
    "    \"uniprot_sequence\": join(DATADIR, \"raw\", \"uniprot_sequence.tsv\"),\n",
    "    \"pubmed\": join(DATADIR, \"raw\", \"pubmed.tsv\"),\n",
    "\n",
    "    # manual curate from literature\n",
    "    \"organism\": join(DATADIR, \"raw\", \"organisms.txt\"),\n",
    "    \"known_sequence\": join(DATADIR, \"raw\", \"known_sequence.tsv\"),\n",
    "    \"sequence_fasta\": join(DATADIR, \"raw\", \"sequence.fasta\"),\n",
    "}\n",
    "\n",
    "dirnames = {\n",
    "    # \n",
    "    \"raw_sequence\": join(DATADIR, \"raw\", \"sequence\"),\n",
    "}\n",
    "\n",
    "CACHEDIR = join(DATADIR, \"cache\") # for sequence mining and analysis\n",
    "RESULTDIR = join(DATADIR, \"result\") # for the publication data"
   ]
  },
  {
   "cell_type": "markdown",
   "metadata": {},
   "source": [
    "## 1. Sequence data"
   ]
  },
  {
   "cell_type": "markdown",
   "metadata": {},
   "source": [
    "### 1.1 Sequence data"
   ]
  },
  {
   "cell_type": "markdown",
   "metadata": {},
   "source": [
    "the sequence data in Brenda database"
   ]
  },
  {
   "cell_type": "code",
   "execution_count": 3,
   "metadata": {},
   "outputs": [
    {
     "name": "stdout",
     "output_type": "stream",
     "text": [
      "(107, 4)\n"
     ]
    },
    {
     "data": {
      "text/html": [
       "<div>\n",
       "<style scoped>\n",
       "    .dataframe tbody tr th:only-of-type {\n",
       "        vertical-align: middle;\n",
       "    }\n",
       "\n",
       "    .dataframe tbody tr th {\n",
       "        vertical-align: top;\n",
       "    }\n",
       "\n",
       "    .dataframe thead th {\n",
       "        text-align: right;\n",
       "    }\n",
       "</style>\n",
       "<table border=\"1\" class=\"dataframe\">\n",
       "  <thead>\n",
       "    <tr style=\"text-align: right;\">\n",
       "      <th></th>\n",
       "      <th>UNIPROT</th>\n",
       "      <th>ENTRY NAME</th>\n",
       "      <th>ORGANISM</th>\n",
       "      <th>NO. OF AA</th>\n",
       "    </tr>\n",
       "  </thead>\n",
       "  <tbody>\n",
       "    <tr>\n",
       "      <th>0</th>\n",
       "      <td>F2QY27</td>\n",
       "      <td>ALOX1_KOMPC</td>\n",
       "      <td>Komagataella phaffii (strain ATCC 76273 / CBS ...</td>\n",
       "      <td>663</td>\n",
       "    </tr>\n",
       "    <tr>\n",
       "      <th>1</th>\n",
       "      <td>P04842</td>\n",
       "      <td>ALOX1_KOMPG</td>\n",
       "      <td>Komagataella phaffii (strain GS115 / ATCC 20864)</td>\n",
       "      <td>663</td>\n",
       "    </tr>\n",
       "    <tr>\n",
       "      <th>2</th>\n",
       "      <td>F2R038</td>\n",
       "      <td>ALOX2_KOMPC</td>\n",
       "      <td>Komagataella phaffii (strain ATCC 76273 / CBS ...</td>\n",
       "      <td>663</td>\n",
       "    </tr>\n",
       "    <tr>\n",
       "      <th>3</th>\n",
       "      <td>C4R702</td>\n",
       "      <td>ALOX2_KOMPG</td>\n",
       "      <td>Komagataella phaffii (strain GS115 / ATCC 20864)</td>\n",
       "      <td>663</td>\n",
       "    </tr>\n",
       "    <tr>\n",
       "      <th>4</th>\n",
       "      <td>Q00922</td>\n",
       "      <td>ALOX_CANBO</td>\n",
       "      <td>Candida boidinii</td>\n",
       "      <td>663</td>\n",
       "    </tr>\n",
       "  </tbody>\n",
       "</table>\n",
       "</div>"
      ],
      "text/plain": [
       "  UNIPROT   ENTRY NAME                                           ORGANISM  \\\n",
       "0  F2QY27  ALOX1_KOMPC  Komagataella phaffii (strain ATCC 76273 / CBS ...   \n",
       "1  P04842  ALOX1_KOMPG   Komagataella phaffii (strain GS115 / ATCC 20864)   \n",
       "2  F2R038  ALOX2_KOMPC  Komagataella phaffii (strain ATCC 76273 / CBS ...   \n",
       "3  C4R702  ALOX2_KOMPG   Komagataella phaffii (strain GS115 / ATCC 20864)   \n",
       "4  Q00922   ALOX_CANBO                                   Candida boidinii   \n",
       "\n",
       "   NO. OF AA  \n",
       "0        663  \n",
       "1        663  \n",
       "2        663  \n",
       "3        663  \n",
       "4        663  "
      ]
     },
     "execution_count": 3,
     "metadata": {},
     "output_type": "execute_result"
    }
   ],
   "source": [
    "ec_uniprot = pd.read_csv(filenames['brenda_sequence'], sep=\"\\t\")\n",
    "ec_uniprot = ec_uniprot[[ec_uniprot.columns[i] for i in [0,1,2,3,]]]\n",
    "ec_uniprot.rename(columns={\n",
    "    col:col.strip() for col in ec_uniprot.columns\n",
    "}, inplace=True)\n",
    "ec_uniprot[\"UNIPROT\"] = ec_uniprot[\"UNIPROT\"].apply(lambda x: x.split(\" \")[0])\n",
    "print(ec_uniprot.shape) # Totally 107 sequences\n",
    "ec_uniprot.head()"
   ]
  },
  {
   "cell_type": "code",
   "execution_count": 4,
   "metadata": {},
   "outputs": [
    {
     "name": "stdout",
     "output_type": "stream",
     "text": [
      "(104, 11)\n"
     ]
    },
    {
     "data": {
      "text/html": [
       "<div>\n",
       "<style scoped>\n",
       "    .dataframe tbody tr th:only-of-type {\n",
       "        vertical-align: middle;\n",
       "    }\n",
       "\n",
       "    .dataframe tbody tr th {\n",
       "        vertical-align: top;\n",
       "    }\n",
       "\n",
       "    .dataframe thead th {\n",
       "        text-align: right;\n",
       "    }\n",
       "</style>\n",
       "<table border=\"1\" class=\"dataframe\">\n",
       "  <thead>\n",
       "    <tr style=\"text-align: right;\">\n",
       "      <th></th>\n",
       "      <th>Entry</th>\n",
       "      <th>Reviewed</th>\n",
       "      <th>Entry Name</th>\n",
       "      <th>Protein names</th>\n",
       "      <th>Gene Names</th>\n",
       "      <th>Organism</th>\n",
       "      <th>Length</th>\n",
       "      <th>EC number</th>\n",
       "      <th>Sequence</th>\n",
       "      <th>PubMed ID</th>\n",
       "      <th>Annotation</th>\n",
       "    </tr>\n",
       "  </thead>\n",
       "  <tbody>\n",
       "    <tr>\n",
       "      <th>0</th>\n",
       "      <td>P04842</td>\n",
       "      <td>reviewed</td>\n",
       "      <td>ALOX1_KOMPG</td>\n",
       "      <td>Alcohol oxidase 1 (AO 1) (AOX 1) (EC 1.1.3.13)...</td>\n",
       "      <td>AOX1 PAS_chr4_0821</td>\n",
       "      <td>Komagataella phaffii (strain GS115 / ATCC 2086...</td>\n",
       "      <td>663</td>\n",
       "      <td>1.1.3.13</td>\n",
       "      <td>MAIPEEFDILVLGGGSSGSCIAGRLANLDHSLKVGLIEAGENNLNN...</td>\n",
       "      <td>3889590; 19465926; 1882546; 9396748</td>\n",
       "      <td>5.0</td>\n",
       "    </tr>\n",
       "    <tr>\n",
       "      <th>1</th>\n",
       "      <td>F2QY27</td>\n",
       "      <td>reviewed</td>\n",
       "      <td>ALOX1_KOMPC</td>\n",
       "      <td>Alcohol oxidase 1 (AO 1) (AOX 1) (EC 1.1.3.13)...</td>\n",
       "      <td>AOX1 PP7435_Chr4-0130</td>\n",
       "      <td>Komagataella phaffii (strain ATCC 76273 / CBS ...</td>\n",
       "      <td>663</td>\n",
       "      <td>1.1.3.13</td>\n",
       "      <td>MAIPEEFDILVLGGGSSGSCIAGRLANLDHSLKVGLIEAGENNLNN...</td>\n",
       "      <td>2660463; 21575661; 27388471; 2657390; 9396748</td>\n",
       "      <td>4.0</td>\n",
       "    </tr>\n",
       "  </tbody>\n",
       "</table>\n",
       "</div>"
      ],
      "text/plain": [
       "    Entry  Reviewed   Entry Name  \\\n",
       "0  P04842  reviewed  ALOX1_KOMPG   \n",
       "1  F2QY27  reviewed  ALOX1_KOMPC   \n",
       "\n",
       "                                       Protein names             Gene Names  \\\n",
       "0  Alcohol oxidase 1 (AO 1) (AOX 1) (EC 1.1.3.13)...     AOX1 PAS_chr4_0821   \n",
       "1  Alcohol oxidase 1 (AO 1) (AOX 1) (EC 1.1.3.13)...  AOX1 PP7435_Chr4-0130   \n",
       "\n",
       "                                            Organism  Length EC number  \\\n",
       "0  Komagataella phaffii (strain GS115 / ATCC 2086...     663  1.1.3.13   \n",
       "1  Komagataella phaffii (strain ATCC 76273 / CBS ...     663  1.1.3.13   \n",
       "\n",
       "                                            Sequence  \\\n",
       "0  MAIPEEFDILVLGGGSSGSCIAGRLANLDHSLKVGLIEAGENNLNN...   \n",
       "1  MAIPEEFDILVLGGGSSGSCIAGRLANLDHSLKVGLIEAGENNLNN...   \n",
       "\n",
       "                                       PubMed ID  Annotation  \n",
       "0            3889590; 19465926; 1882546; 9396748         5.0  \n",
       "1  2660463; 21575661; 27388471; 2657390; 9396748         4.0  "
      ]
     },
     "execution_count": 4,
     "metadata": {},
     "output_type": "execute_result"
    }
   ],
   "source": [
    "uniprot_ec = pd.read_csv(filenames['uniprot_sequence'], sep=\"\\t\")\n",
    "print(uniprot_ec.shape) # Totally 104 sequences\n",
    "uniprot_ec.head(2)"
   ]
  },
  {
   "cell_type": "markdown",
   "metadata": {},
   "source": [
    "Checking the differences between the two databases"
   ]
  },
  {
   "cell_type": "code",
   "execution_count": 5,
   "metadata": {},
   "outputs": [
    {
     "name": "stdout",
     "output_type": "stream",
     "text": [
      "Brenda - UniProt:\n",
      "{'CHOX_ARTGO', 'T2M2J4_PHACH', 'Q7WZ62_9ACTN', 'VAOX_PENSI', 'G8ZNE6_TORDC', 'E3QHV8_COLGM'}\n",
      "\n",
      "UniProt - Brenda\n",
      "{'A0A977TIR6_PHACH', 'A0A9Q8V9V0_9HYPO', 'G8ZNE6_TORDE'}\n"
     ]
    }
   ],
   "source": [
    "print(\"Brenda - UniProt:\")\n",
    "print(set(ec_uniprot['ENTRY NAME']) - set(uniprot_ec['Entry Name']))\n",
    "print()\n",
    "\n",
    "print(\"UniProt - Brenda\")\n",
    "print(set(uniprot_ec['Entry Name']) - set(ec_uniprot['ENTRY NAME']))"
   ]
  },
  {
   "cell_type": "markdown",
   "metadata": {},
   "source": [
    "### 1.2 Reference Data"
   ]
  },
  {
   "cell_type": "code",
   "execution_count": 6,
   "metadata": {},
   "outputs": [
    {
     "name": "stdout",
     "output_type": "stream",
     "text": [
      "64\n"
     ]
    },
    {
     "data": {
      "text/html": [
       "<div>\n",
       "<style scoped>\n",
       "    .dataframe tbody tr th:only-of-type {\n",
       "        vertical-align: middle;\n",
       "    }\n",
       "\n",
       "    .dataframe tbody tr th {\n",
       "        vertical-align: top;\n",
       "    }\n",
       "\n",
       "    .dataframe thead th {\n",
       "        text-align: right;\n",
       "    }\n",
       "</style>\n",
       "<table border=\"1\" class=\"dataframe\">\n",
       "  <thead>\n",
       "    <tr style=\"text-align: right;\">\n",
       "      <th></th>\n",
       "      <th>REF</th>\n",
       "      <th>AUTHORS</th>\n",
       "      <th>TITLE</th>\n",
       "      <th>JOURNAL</th>\n",
       "      <th>VOL.</th>\n",
       "      <th>PAGES</th>\n",
       "      <th>YEAR</th>\n",
       "      <th>ORGANISM (UNIPROT)</th>\n",
       "      <th>PUBMED ID</th>\n",
       "      <th>SOURCE</th>\n",
       "    </tr>\n",
       "  </thead>\n",
       "  <tbody>\n",
       "    <tr>\n",
       "      <th>0</th>\n",
       "      <td>484905</td>\n",
       "      <td>Janssen, F.W.; Ruelius, H.W.</td>\n",
       "      <td>Alcohol oxidase, a flavoprotein from several B...</td>\n",
       "      <td>Biochim. Biophys. Acta</td>\n",
       "      <td>151</td>\n",
       "      <td>330-342</td>\n",
       "      <td>1968</td>\n",
       "      <td>Basidiomycota</td>\n",
       "      <td>5636370</td>\n",
       "      <td>Manually annotated by BRENDA team</td>\n",
       "    </tr>\n",
       "    <tr>\n",
       "      <th>1</th>\n",
       "      <td>484906</td>\n",
       "      <td>Janssen, F.W.; Kerwin, R.M.; Ruelius, H.W.</td>\n",
       "      <td>Alcohol oxidase from basidiomycetes</td>\n",
       "      <td>Methods Enzymol.</td>\n",
       "      <td>41B</td>\n",
       "      <td>364-369</td>\n",
       "      <td>1975</td>\n",
       "      <td>Basidiomycota, Polyporus obtusus, Radulodon ca...</td>\n",
       "      <td>236460</td>\n",
       "      <td>Manually annotated by BRENDA team</td>\n",
       "    </tr>\n",
       "  </tbody>\n",
       "</table>\n",
       "</div>"
      ],
      "text/plain": [
       "      REF                                     AUTHORS  \\\n",
       "0  484905                Janssen, F.W.; Ruelius, H.W.   \n",
       "1  484906  Janssen, F.W.; Kerwin, R.M.; Ruelius, H.W.   \n",
       "\n",
       "                                               TITLE                 JOURNAL  \\\n",
       "0  Alcohol oxidase, a flavoprotein from several B...  Biochim. Biophys. Acta   \n",
       "1                Alcohol oxidase from basidiomycetes        Methods Enzymol.   \n",
       "\n",
       "  VOL.    PAGES  YEAR                                 ORGANISM (UNIPROT)  \\\n",
       "0  151  330-342  1968                                      Basidiomycota   \n",
       "1  41B  364-369  1975  Basidiomycota, Polyporus obtusus, Radulodon ca...   \n",
       "\n",
       "  PUBMED ID                             SOURCE  \n",
       "0   5636370  Manually annotated by BRENDA team  \n",
       "1    236460  Manually annotated by BRENDA team  "
      ]
     },
     "execution_count": 6,
     "metadata": {},
     "output_type": "execute_result"
    }
   ],
   "source": [
    "ec_reference = pd.read_csv(filenames['brenda_reference'], sep='\\t')\n",
    "ec_reference.rename(columns={\n",
    "    col: col.strip() for col in ec_reference.columns\n",
    "}, inplace=True)\n",
    "pubmed_reference = set(ec_reference['PUBMED ID'])\n",
    "print(len(pubmed_reference)) # 64 references in Brenda database\n",
    "ec_reference.head(2)"
   ]
  },
  {
   "cell_type": "code",
   "execution_count": 7,
   "metadata": {},
   "outputs": [
    {
     "name": "stdout",
     "output_type": "stream",
     "text": [
      "35\n"
     ]
    }
   ],
   "source": [
    "uniprot_pids = []\n",
    "for l in [ str(pids).split(\"; \") for pids in uniprot_ec['PubMed ID']]:\n",
    "    uniprot_pids.extend(l)\n",
    "set_uniprot_pids = set(uniprot_pids)\n",
    "set_uniprot_pids.remove('nan')\n",
    "print(len(set_uniprot_pids)) # 35 references in UniProt database"
   ]
  },
  {
   "cell_type": "markdown",
   "metadata": {},
   "source": [
    "Obtain basic information about the literature in the pubmed database using `pymed`."
   ]
  },
  {
   "cell_type": "code",
   "execution_count": 8,
   "metadata": {},
   "outputs": [],
   "source": [
    "import time\n",
    "from pymed import PubMed\n",
    "pubmed_path = filenames[\"pubmed\"]\n",
    "if not os.path.exists(pubmed_path):\n",
    "    pubmed = PubMed(tool=\"MyTool\", email=\"my@email.address\")\n",
    "    data = []\n",
    "    for query in set_uniprot_pids:\n",
    "        print(query)\n",
    "        time.sleep(2)\n",
    "        try:\n",
    "            results = pubmed.query(query, max_results=1)\n",
    "            for r in results:\n",
    "                pids = r.pubmed_id.split('\\n')\n",
    "                if query in pids:\n",
    "                    pid = query\n",
    "                else:\n",
    "                    pid = pids[0]\n",
    "                if r.publication_date.year:\n",
    "                    year = r.publication_date.year\n",
    "                else:\n",
    "                    year = 0\n",
    "                data.append([query, r.title, r.abstract, year, r.doi, pid])\n",
    "        except:\n",
    "            print(\"Something error.\")\n",
    "    reference_uniprot = pd.DataFrame(data, columns = [\"query\", \"title\", \"abstract\", \"year\", \"doi\", \"pubmed id\"])\n",
    "\n",
    "    reference_uniprot[\"doi\"] = reference_uniprot[\"doi\"].str.replace(\"\\n\", \" \")\n",
    "    reference_uniprot[\"abstract\"] = reference_uniprot[\"abstract\"].str.replace(\"\\n\", \" \")\n",
    "    reference_uniprot.sort_values(by=\"year\").to_csv(pubmed_path, sep=\"\\t\", index=False)\n",
    "else:\n",
    "    reference_uniprot = pd.read_csv(pubmed_path, sep=\"\\t\")"
   ]
  },
  {
   "cell_type": "markdown",
   "metadata": {},
   "source": [
    "UniProt Sequences evidenced by Brenda references"
   ]
  },
  {
   "cell_type": "code",
   "execution_count": 9,
   "metadata": {},
   "outputs": [
    {
     "name": "stdout",
     "output_type": "stream",
     "text": [
      "18\n"
     ]
    },
    {
     "data": {
      "text/plain": [
       "array(['2582370; 2002763; 1770353; 1882546; 8873445', '17476699',\n",
       "       '17660304'], dtype=object)"
      ]
     },
     "execution_count": 9,
     "metadata": {},
     "output_type": "execute_result"
    }
   ],
   "source": [
    "uniprot_ec['Evidence Brenda'] = uniprot_ec['PubMed ID'].apply(lambda x: np.any([pid in pubmed_reference for pid in str(x).split(\"; \")]))\n",
    "print(uniprot_ec[uniprot_ec['Evidence Brenda'] == True].shape[0]) # 18 sequences\n",
    "uniprot_ec[uniprot_ec['Evidence Brenda'] == True]['PubMed ID'].unique() # 3 references\n",
    "# ['1770353', '17476699', '17660304']"
   ]
  },
  {
   "cell_type": "markdown",
   "metadata": {},
   "source": [
    "The corresponding brenda literature ID (REF)."
   ]
  },
  {
   "cell_type": "code",
   "execution_count": 10,
   "metadata": {},
   "outputs": [
    {
     "data": {
      "text/html": [
       "<div>\n",
       "<style scoped>\n",
       "    .dataframe tbody tr th:only-of-type {\n",
       "        vertical-align: middle;\n",
       "    }\n",
       "\n",
       "    .dataframe tbody tr th {\n",
       "        vertical-align: top;\n",
       "    }\n",
       "\n",
       "    .dataframe thead th {\n",
       "        text-align: right;\n",
       "    }\n",
       "</style>\n",
       "<table border=\"1\" class=\"dataframe\">\n",
       "  <thead>\n",
       "    <tr style=\"text-align: right;\">\n",
       "      <th></th>\n",
       "      <th>REF</th>\n",
       "      <th>AUTHORS</th>\n",
       "      <th>TITLE</th>\n",
       "      <th>JOURNAL</th>\n",
       "      <th>VOL.</th>\n",
       "      <th>PAGES</th>\n",
       "      <th>YEAR</th>\n",
       "      <th>ORGANISM (UNIPROT)</th>\n",
       "      <th>PUBMED ID</th>\n",
       "      <th>SOURCE</th>\n",
       "    </tr>\n",
       "  </thead>\n",
       "  <tbody>\n",
       "    <tr>\n",
       "      <th>10</th>\n",
       "      <td>484915</td>\n",
       "      <td>Bystryck, L.V.; Dijkhuizen, L.; Harder, W.</td>\n",
       "      <td>Modification of flavin adenine dinucleotide in...</td>\n",
       "      <td>J. Gen. Microbiol.</td>\n",
       "      <td>137</td>\n",
       "      <td>2381-2386</td>\n",
       "      <td>1991</td>\n",
       "      <td>[Candida] boidinii, Ogataea angusta, Komagatae...</td>\n",
       "      <td>1770353</td>\n",
       "      <td>Manually annotated by BRENDA team</td>\n",
       "    </tr>\n",
       "    <tr>\n",
       "      <th>37</th>\n",
       "      <td>684565</td>\n",
       "      <td>Daniel, G.; Volc, J.; Filonova, L.; Plihal, O....</td>\n",
       "      <td>Characteristics of Gloeophyllum trabeum alcoho...</td>\n",
       "      <td>Appl. Environ. Microbiol.</td>\n",
       "      <td>73</td>\n",
       "      <td>6241-6253</td>\n",
       "      <td>2007</td>\n",
       "      <td>Gloeophyllum trabeum (A8DPS4), Gloeophyllum tr...</td>\n",
       "      <td>17660304</td>\n",
       "      <td>Manually annotated by BRENDA team</td>\n",
       "    </tr>\n",
       "    <tr>\n",
       "      <th>49</th>\n",
       "      <td>690209</td>\n",
       "      <td>Ito, T.; Fujimura, S.; Uchino, M.; Tanaka, N.;...</td>\n",
       "      <td>Distribution, diversity and regulation of alco...</td>\n",
       "      <td>Yeast</td>\n",
       "      <td>24</td>\n",
       "      <td>523-532</td>\n",
       "      <td>2007</td>\n",
       "      <td>[Candida] sonorensis (A5LGD9), [Candida] sonor...</td>\n",
       "      <td>17476699</td>\n",
       "      <td>Manually annotated by BRENDA team</td>\n",
       "    </tr>\n",
       "  </tbody>\n",
       "</table>\n",
       "</div>"
      ],
      "text/plain": [
       "       REF                                            AUTHORS  \\\n",
       "10  484915         Bystryck, L.V.; Dijkhuizen, L.; Harder, W.   \n",
       "37  684565  Daniel, G.; Volc, J.; Filonova, L.; Plihal, O....   \n",
       "49  690209  Ito, T.; Fujimura, S.; Uchino, M.; Tanaka, N.;...   \n",
       "\n",
       "                                                TITLE  \\\n",
       "10  Modification of flavin adenine dinucleotide in...   \n",
       "37  Characteristics of Gloeophyllum trabeum alcoho...   \n",
       "49  Distribution, diversity and regulation of alco...   \n",
       "\n",
       "                      JOURNAL VOL.      PAGES  YEAR  \\\n",
       "10         J. Gen. Microbiol.  137  2381-2386  1991   \n",
       "37  Appl. Environ. Microbiol.   73  6241-6253  2007   \n",
       "49                      Yeast   24    523-532  2007   \n",
       "\n",
       "                                   ORGANISM (UNIPROT) PUBMED ID  \\\n",
       "10  [Candida] boidinii, Ogataea angusta, Komagatae...   1770353   \n",
       "37  Gloeophyllum trabeum (A8DPS4), Gloeophyllum tr...  17660304   \n",
       "49  [Candida] sonorensis (A5LGD9), [Candida] sonor...  17476699   \n",
       "\n",
       "                               SOURCE  \n",
       "10  Manually annotated by BRENDA team  \n",
       "37  Manually annotated by BRENDA team  \n",
       "49  Manually annotated by BRENDA team  "
      ]
     },
     "execution_count": 10,
     "metadata": {},
     "output_type": "execute_result"
    }
   ],
   "source": [
    "ec_reference[ec_reference['PUBMED ID'].isin(['1770353', '17476699', '17660304'])]\n",
    "# [484915, 684565, 690209]"
   ]
  },
  {
   "cell_type": "markdown",
   "metadata": {},
   "source": [
    "Related organisms"
   ]
  },
  {
   "cell_type": "code",
   "execution_count": 11,
   "metadata": {},
   "outputs": [],
   "source": [
    "pid2orgs = {}\n",
    "for pid, orgs in zip(ec_reference['PUBMED ID'], ec_reference['ORGANISM (UNIPROT)']):\n",
    "    if not pid in pid2orgs.keys():\n",
    "        pid2orgs[pid] = [ org.strip().split('(')[0].strip() for org in orgs.split(',')]\n",
    "    else:\n",
    "        pid2orgs[pid] += [ org.strip().split('(')[0].strip() for org in orgs.split(',')]"
   ]
  },
  {
   "cell_type": "code",
   "execution_count": 12,
   "metadata": {},
   "outputs": [],
   "source": [
    "orgs = []\n",
    "for _orgs in pid2orgs.values():\n",
    "    orgs.extend(_orgs)\n",
    "orgs_reference = set(orgs)"
   ]
  },
  {
   "cell_type": "markdown",
   "metadata": {},
   "source": [
    "The sequences evidenced by Brenda Reference"
   ]
  },
  {
   "cell_type": "code",
   "execution_count": 13,
   "metadata": {},
   "outputs": [
    {
     "name": "stdout",
     "output_type": "stream",
     "text": [
      "18\n"
     ]
    },
    {
     "data": {
      "text/html": [
       "<div>\n",
       "<style scoped>\n",
       "    .dataframe tbody tr th:only-of-type {\n",
       "        vertical-align: middle;\n",
       "    }\n",
       "\n",
       "    .dataframe tbody tr th {\n",
       "        vertical-align: top;\n",
       "    }\n",
       "\n",
       "    .dataframe thead th {\n",
       "        text-align: right;\n",
       "    }\n",
       "</style>\n",
       "<table border=\"1\" class=\"dataframe\">\n",
       "  <thead>\n",
       "    <tr style=\"text-align: right;\">\n",
       "      <th></th>\n",
       "      <th>Entry</th>\n",
       "      <th>Entry Name</th>\n",
       "      <th>Organism</th>\n",
       "      <th>Length</th>\n",
       "    </tr>\n",
       "  </thead>\n",
       "  <tbody>\n",
       "    <tr>\n",
       "      <th>3</th>\n",
       "      <td>P04841</td>\n",
       "      <td>ALOX_PICAN</td>\n",
       "      <td>Pichia angusta (Yeast) (Hansenula polymorpha)</td>\n",
       "      <td>664</td>\n",
       "    </tr>\n",
       "    <tr>\n",
       "      <th>39</th>\n",
       "      <td>A5LGD9</td>\n",
       "      <td>A5LGD9_9ASCO</td>\n",
       "      <td>[Candida] sonorensis</td>\n",
       "      <td>656</td>\n",
       "    </tr>\n",
       "    <tr>\n",
       "      <th>40</th>\n",
       "      <td>A5LGE1</td>\n",
       "      <td>A5LGE1_9ASCO</td>\n",
       "      <td>Ogataea pignaliae</td>\n",
       "      <td>639</td>\n",
       "    </tr>\n",
       "    <tr>\n",
       "      <th>41</th>\n",
       "      <td>A5LGE2</td>\n",
       "      <td>A5LGE2_9ASCO</td>\n",
       "      <td>Ogataea pignaliae</td>\n",
       "      <td>656</td>\n",
       "    </tr>\n",
       "    <tr>\n",
       "      <th>75</th>\n",
       "      <td>A5LGE0</td>\n",
       "      <td>A5LGE0_9ASCO</td>\n",
       "      <td>[Candida] sonorensis</td>\n",
       "      <td>423</td>\n",
       "    </tr>\n",
       "    <tr>\n",
       "      <th>76</th>\n",
       "      <td>A5LGE3</td>\n",
       "      <td>A5LGE3_9ASCO</td>\n",
       "      <td>Ogataea methylovora</td>\n",
       "      <td>238</td>\n",
       "    </tr>\n",
       "    <tr>\n",
       "      <th>77</th>\n",
       "      <td>A5LGE4</td>\n",
       "      <td>A5LGE4_9ASCO</td>\n",
       "      <td>Ogataea minuta</td>\n",
       "      <td>249</td>\n",
       "    </tr>\n",
       "    <tr>\n",
       "      <th>78</th>\n",
       "      <td>A5LGE5</td>\n",
       "      <td>A5LGE5_9ASCO</td>\n",
       "      <td>[Candida] methanosorbosa</td>\n",
       "      <td>252</td>\n",
       "    </tr>\n",
       "    <tr>\n",
       "      <th>79</th>\n",
       "      <td>A5LGE6</td>\n",
       "      <td>A5LGE6_9ASCO</td>\n",
       "      <td>[Candida] succiphila</td>\n",
       "      <td>253</td>\n",
       "    </tr>\n",
       "    <tr>\n",
       "      <th>80</th>\n",
       "      <td>A5LGE7</td>\n",
       "      <td>A5LGE7_9ASCO</td>\n",
       "      <td>Kuraishia capsulata</td>\n",
       "      <td>248</td>\n",
       "    </tr>\n",
       "    <tr>\n",
       "      <th>81</th>\n",
       "      <td>A5LGE8</td>\n",
       "      <td>A5LGE8_9ASCO</td>\n",
       "      <td>Ogataea wickerhamii</td>\n",
       "      <td>252</td>\n",
       "    </tr>\n",
       "    <tr>\n",
       "      <th>82</th>\n",
       "      <td>A5LGE9</td>\n",
       "      <td>A5LGE9_9ASCO</td>\n",
       "      <td>Ogataea glucozyma</td>\n",
       "      <td>276</td>\n",
       "    </tr>\n",
       "    <tr>\n",
       "      <th>83</th>\n",
       "      <td>A5LGF0</td>\n",
       "      <td>A5LGF0_9ASCO</td>\n",
       "      <td>Ogataea henricii</td>\n",
       "      <td>246</td>\n",
       "    </tr>\n",
       "    <tr>\n",
       "      <th>84</th>\n",
       "      <td>A5LGF1</td>\n",
       "      <td>A5LGF1_9ASCO</td>\n",
       "      <td>Ogataea minuta</td>\n",
       "      <td>276</td>\n",
       "    </tr>\n",
       "    <tr>\n",
       "      <th>85</th>\n",
       "      <td>A5LGF2</td>\n",
       "      <td>A5LGF2_9ASCO</td>\n",
       "      <td>Ogataea naganishii</td>\n",
       "      <td>275</td>\n",
       "    </tr>\n",
       "    <tr>\n",
       "      <th>86</th>\n",
       "      <td>A5LGF3</td>\n",
       "      <td>A5LGF3_9ASCO</td>\n",
       "      <td>Ogataea philodendri</td>\n",
       "      <td>254</td>\n",
       "    </tr>\n",
       "    <tr>\n",
       "      <th>87</th>\n",
       "      <td>A5LGF4</td>\n",
       "      <td>A5LGF4_9ASCO</td>\n",
       "      <td>Ogataea trehalophila</td>\n",
       "      <td>276</td>\n",
       "    </tr>\n",
       "    <tr>\n",
       "      <th>88</th>\n",
       "      <td>A8DPS4</td>\n",
       "      <td>A8DPS4_GLOTR</td>\n",
       "      <td>Gloeophyllum trabeum (Brown rot fungus) (Agari...</td>\n",
       "      <td>651</td>\n",
       "    </tr>\n",
       "  </tbody>\n",
       "</table>\n",
       "</div>"
      ],
      "text/plain": [
       "     Entry    Entry Name                                           Organism  \\\n",
       "3   P04841    ALOX_PICAN      Pichia angusta (Yeast) (Hansenula polymorpha)   \n",
       "39  A5LGD9  A5LGD9_9ASCO                               [Candida] sonorensis   \n",
       "40  A5LGE1  A5LGE1_9ASCO                                  Ogataea pignaliae   \n",
       "41  A5LGE2  A5LGE2_9ASCO                                  Ogataea pignaliae   \n",
       "75  A5LGE0  A5LGE0_9ASCO                               [Candida] sonorensis   \n",
       "76  A5LGE3  A5LGE3_9ASCO                                Ogataea methylovora   \n",
       "77  A5LGE4  A5LGE4_9ASCO                                     Ogataea minuta   \n",
       "78  A5LGE5  A5LGE5_9ASCO                           [Candida] methanosorbosa   \n",
       "79  A5LGE6  A5LGE6_9ASCO                               [Candida] succiphila   \n",
       "80  A5LGE7  A5LGE7_9ASCO                                Kuraishia capsulata   \n",
       "81  A5LGE8  A5LGE8_9ASCO                                Ogataea wickerhamii   \n",
       "82  A5LGE9  A5LGE9_9ASCO                                  Ogataea glucozyma   \n",
       "83  A5LGF0  A5LGF0_9ASCO                                   Ogataea henricii   \n",
       "84  A5LGF1  A5LGF1_9ASCO                                     Ogataea minuta   \n",
       "85  A5LGF2  A5LGF2_9ASCO                                 Ogataea naganishii   \n",
       "86  A5LGF3  A5LGF3_9ASCO                                Ogataea philodendri   \n",
       "87  A5LGF4  A5LGF4_9ASCO                               Ogataea trehalophila   \n",
       "88  A8DPS4  A8DPS4_GLOTR  Gloeophyllum trabeum (Brown rot fungus) (Agari...   \n",
       "\n",
       "    Length  \n",
       "3      664  \n",
       "39     656  \n",
       "40     639  \n",
       "41     656  \n",
       "75     423  \n",
       "76     238  \n",
       "77     249  \n",
       "78     252  \n",
       "79     253  \n",
       "80     248  \n",
       "81     252  \n",
       "82     276  \n",
       "83     246  \n",
       "84     276  \n",
       "85     275  \n",
       "86     254  \n",
       "87     276  \n",
       "88     651  "
      ]
     },
     "execution_count": 13,
     "metadata": {},
     "output_type": "execute_result"
    }
   ],
   "source": [
    "uniprot_ec_filtered_by_reference = uniprot_ec[(uniprot_ec['Evidence Brenda'] == True)]\n",
    "print(uniprot_ec_filtered_by_reference.shape[0]) # 18 sequences\n",
    "uniprot_ec_filtered_by_reference[[\"Entry\", \"Entry Name\", \"Organism\", \"Length\"]]\n"
   ]
  },
  {
   "cell_type": "markdown",
   "metadata": {},
   "source": [
    "18 sequences were supported by Brenda's literature, however, 13 of them were too short in length."
   ]
  },
  {
   "cell_type": "markdown",
   "metadata": {},
   "source": [
    "Related sequences"
   ]
  },
  {
   "cell_type": "code",
   "execution_count": 14,
   "metadata": {},
   "outputs": [
    {
     "name": "stdout",
     "output_type": "stream",
     "text": [
      "14\n"
     ]
    },
    {
     "data": {
      "text/html": [
       "<div>\n",
       "<style scoped>\n",
       "    .dataframe tbody tr th:only-of-type {\n",
       "        vertical-align: middle;\n",
       "    }\n",
       "\n",
       "    .dataframe tbody tr th {\n",
       "        vertical-align: top;\n",
       "    }\n",
       "\n",
       "    .dataframe thead th {\n",
       "        text-align: right;\n",
       "    }\n",
       "</style>\n",
       "<table border=\"1\" class=\"dataframe\">\n",
       "  <thead>\n",
       "    <tr style=\"text-align: right;\">\n",
       "      <th></th>\n",
       "      <th>Entry</th>\n",
       "      <th>Entry Name</th>\n",
       "      <th>Organism</th>\n",
       "      <th>Length</th>\n",
       "    </tr>\n",
       "  </thead>\n",
       "  <tbody>\n",
       "    <tr>\n",
       "      <th>0</th>\n",
       "      <td>P04842</td>\n",
       "      <td>ALOX1_KOMPG</td>\n",
       "      <td>Komagataella phaffii (strain GS115 / ATCC 2086...</td>\n",
       "      <td>663</td>\n",
       "    </tr>\n",
       "    <tr>\n",
       "      <th>1</th>\n",
       "      <td>F2QY27</td>\n",
       "      <td>ALOX1_KOMPC</td>\n",
       "      <td>Komagataella phaffii (strain ATCC 76273 / CBS ...</td>\n",
       "      <td>663</td>\n",
       "    </tr>\n",
       "    <tr>\n",
       "      <th>2</th>\n",
       "      <td>F2R038</td>\n",
       "      <td>ALOX2_KOMPC</td>\n",
       "      <td>Komagataella phaffii (strain ATCC 76273 / CBS ...</td>\n",
       "      <td>663</td>\n",
       "    </tr>\n",
       "    <tr>\n",
       "      <th>5</th>\n",
       "      <td>C4R702</td>\n",
       "      <td>ALOX2_KOMPG</td>\n",
       "      <td>Komagataella phaffii (strain GS115 / ATCC 2086...</td>\n",
       "      <td>663</td>\n",
       "    </tr>\n",
       "    <tr>\n",
       "      <th>6</th>\n",
       "      <td>A0A024FB95</td>\n",
       "      <td>A0A024FB95_STABO</td>\n",
       "      <td>Starmerella bombicola (Yeast) (Candida bombicola)</td>\n",
       "      <td>681</td>\n",
       "    </tr>\n",
       "    <tr>\n",
       "      <th>8</th>\n",
       "      <td>A0A067YIW8</td>\n",
       "      <td>A0A067YIW8_9ASCO</td>\n",
       "      <td>Ogataea thermomethanolica (nom. inval.)</td>\n",
       "      <td>663</td>\n",
       "    </tr>\n",
       "    <tr>\n",
       "      <th>14</th>\n",
       "      <td>A0A1B2JBK5</td>\n",
       "      <td>A0A1B2JBK5_PICPA</td>\n",
       "      <td>Komagataella pastoris (Yeast) (Pichia pastoris)</td>\n",
       "      <td>663</td>\n",
       "    </tr>\n",
       "    <tr>\n",
       "      <th>15</th>\n",
       "      <td>A0A1B2JII2</td>\n",
       "      <td>A0A1B2JII2_PICPA</td>\n",
       "      <td>Komagataella pastoris (Yeast) (Pichia pastoris)</td>\n",
       "      <td>663</td>\n",
       "    </tr>\n",
       "    <tr>\n",
       "      <th>38</th>\n",
       "      <td>A0A977TIR6</td>\n",
       "      <td>A0A977TIR6_PHACH</td>\n",
       "      <td>Phanerodontia chrysosporium (White-rot fungus)...</td>\n",
       "      <td>653</td>\n",
       "    </tr>\n",
       "    <tr>\n",
       "      <th>50</th>\n",
       "      <td>C5MAH1</td>\n",
       "      <td>C5MAH1_CANTT</td>\n",
       "      <td>Candida tropicalis (strain ATCC MYA-3404 / T1)...</td>\n",
       "      <td>378</td>\n",
       "    </tr>\n",
       "    <tr>\n",
       "      <th>53</th>\n",
       "      <td>Q1JUK7</td>\n",
       "      <td>Q1JUK7_9ASCO</td>\n",
       "      <td>Ogataea minuta</td>\n",
       "      <td>663</td>\n",
       "    </tr>\n",
       "    <tr>\n",
       "      <th>59</th>\n",
       "      <td>Q6TAW1</td>\n",
       "      <td>Q6TAW1_OGAPI</td>\n",
       "      <td>Ogataea pini (Yeast) (Pichia pinus)</td>\n",
       "      <td>663</td>\n",
       "    </tr>\n",
       "    <tr>\n",
       "      <th>60</th>\n",
       "      <td>Q9UVU1</td>\n",
       "      <td>Q9UVU1_OGAME</td>\n",
       "      <td>Ogataea methanolica (Yeast) (Pichia methanolica)</td>\n",
       "      <td>663</td>\n",
       "    </tr>\n",
       "    <tr>\n",
       "      <th>61</th>\n",
       "      <td>Q9UVU2</td>\n",
       "      <td>Q9UVU2_OGAME</td>\n",
       "      <td>Ogataea methanolica (Yeast) (Pichia methanolica)</td>\n",
       "      <td>664</td>\n",
       "    </tr>\n",
       "  </tbody>\n",
       "</table>\n",
       "</div>"
      ],
      "text/plain": [
       "         Entry        Entry Name  \\\n",
       "0       P04842       ALOX1_KOMPG   \n",
       "1       F2QY27       ALOX1_KOMPC   \n",
       "2       F2R038       ALOX2_KOMPC   \n",
       "5       C4R702       ALOX2_KOMPG   \n",
       "6   A0A024FB95  A0A024FB95_STABO   \n",
       "8   A0A067YIW8  A0A067YIW8_9ASCO   \n",
       "14  A0A1B2JBK5  A0A1B2JBK5_PICPA   \n",
       "15  A0A1B2JII2  A0A1B2JII2_PICPA   \n",
       "38  A0A977TIR6  A0A977TIR6_PHACH   \n",
       "50      C5MAH1      C5MAH1_CANTT   \n",
       "53      Q1JUK7      Q1JUK7_9ASCO   \n",
       "59      Q6TAW1      Q6TAW1_OGAPI   \n",
       "60      Q9UVU1      Q9UVU1_OGAME   \n",
       "61      Q9UVU2      Q9UVU2_OGAME   \n",
       "\n",
       "                                             Organism  Length  \n",
       "0   Komagataella phaffii (strain GS115 / ATCC 2086...     663  \n",
       "1   Komagataella phaffii (strain ATCC 76273 / CBS ...     663  \n",
       "2   Komagataella phaffii (strain ATCC 76273 / CBS ...     663  \n",
       "5   Komagataella phaffii (strain GS115 / ATCC 2086...     663  \n",
       "6   Starmerella bombicola (Yeast) (Candida bombicola)     681  \n",
       "8             Ogataea thermomethanolica (nom. inval.)     663  \n",
       "14    Komagataella pastoris (Yeast) (Pichia pastoris)     663  \n",
       "15    Komagataella pastoris (Yeast) (Pichia pastoris)     663  \n",
       "38  Phanerodontia chrysosporium (White-rot fungus)...     653  \n",
       "50  Candida tropicalis (strain ATCC MYA-3404 / T1)...     378  \n",
       "53                                     Ogataea minuta     663  \n",
       "59                Ogataea pini (Yeast) (Pichia pinus)     663  \n",
       "60   Ogataea methanolica (Yeast) (Pichia methanolica)     663  \n",
       "61   Ogataea methanolica (Yeast) (Pichia methanolica)     664  "
      ]
     },
     "execution_count": 14,
     "metadata": {},
     "output_type": "execute_result"
    }
   ],
   "source": [
    "uniprot_ec['Evidence(Organism) Brenda'] = uniprot_ec['Organism'].apply(lambda x: x.split('(')[0].strip() in orgs_reference)\n",
    "uniprot_ec_filtered_by_organism = uniprot_ec[(uniprot_ec['Evidence(Organism) Brenda'] == True) & (uniprot_ec['Evidence Brenda'] == False)]\n",
    "print(uniprot_ec_filtered_by_organism.shape[0])\n",
    "uniprot_ec_filtered_by_organism[[\"Entry\", \"Entry Name\", \"Organism\", \"Length\"]]\n"
   ]
  },
  {
   "cell_type": "markdown",
   "metadata": {},
   "source": [
    "14 sequences were supported by Brenda's literature related organism. The length of C5MAH1 was too shorta."
   ]
  },
  {
   "cell_type": "markdown",
   "metadata": {},
   "source": [
    "### 1.3 Known sequences"
   ]
  },
  {
   "cell_type": "markdown",
   "metadata": {},
   "source": [
    "Create the file for each organism to store the fetched sequence from NCBI genbank database."
   ]
  },
  {
   "cell_type": "code",
   "execution_count": 15,
   "metadata": {},
   "outputs": [],
   "source": [
    "with open(filenames['organism'], \"r\") as f:\n",
    "    for org in f.read().split('\\n'):\n",
    "        org_path = join(dirnames['raw_sequence'], f\"{org}.txt\")\n",
    "        if not os.path.exists(org_path):\n",
    "            with open(org_path, \"w\") as fo:\n",
    "                fo.write(\"\")"
   ]
  },
  {
   "cell_type": "code",
   "execution_count": 16,
   "metadata": {},
   "outputs": [
    {
     "data": {
      "text/plain": [
       "21"
      ]
     },
     "execution_count": 16,
     "metadata": {},
     "output_type": "execute_result"
    }
   ],
   "source": [
    "from Bio import SeqIO\n",
    "seqs = []\n",
    "for f in os.listdir(dirnames['raw_sequence']):\n",
    "    for seqrecord in SeqIO.parse(join(dirnames['raw_sequence'], f), \"fasta\"):\n",
    "        seqs.append(seqrecord)\n",
    "SeqIO.write(seqs, filenames['sequence_fasta'], \"fasta\")"
   ]
  },
  {
   "cell_type": "markdown",
   "metadata": {},
   "source": [
    "The above is the workflow automatically inferred by data association. Then construct the known sequence library by reading the brenda literature and extracting the sequence information reported therein. It was stored into the `known_sequences` file. There are 22 sequences in total. (1 is duplicate)"
   ]
  },
  {
   "cell_type": "code",
   "execution_count": 17,
   "metadata": {},
   "outputs": [
    {
     "data": {
      "text/html": [
       "<div>\n",
       "<style scoped>\n",
       "    .dataframe tbody tr th:only-of-type {\n",
       "        vertical-align: middle;\n",
       "    }\n",
       "\n",
       "    .dataframe tbody tr th {\n",
       "        vertical-align: top;\n",
       "    }\n",
       "\n",
       "    .dataframe thead th {\n",
       "        text-align: right;\n",
       "    }\n",
       "</style>\n",
       "<table border=\"1\" class=\"dataframe\">\n",
       "  <thead>\n",
       "    <tr style=\"text-align: right;\">\n",
       "      <th></th>\n",
       "      <th>accession</th>\n",
       "      <th>ph</th>\n",
       "      <th>organism</th>\n",
       "      <th>taxid</th>\n",
       "      <th>pid</th>\n",
       "    </tr>\n",
       "  </thead>\n",
       "  <tbody>\n",
       "    <tr>\n",
       "      <th>0</th>\n",
       "      <td>EAA66666.1</td>\n",
       "      <td>Ascomycota</td>\n",
       "      <td>Aspergillus nidulans FGSC A4</td>\n",
       "      <td>227341</td>\n",
       "      <td>23525937</td>\n",
       "    </tr>\n",
       "    <tr>\n",
       "      <th>1</th>\n",
       "      <td>AAR89538.1</td>\n",
       "      <td>Ascomycota</td>\n",
       "      <td>Bipolaris victoriae</td>\n",
       "      <td>40125</td>\n",
       "      <td>11056160</td>\n",
       "    </tr>\n",
       "    <tr>\n",
       "      <th>2</th>\n",
       "      <td>AAV66467.2</td>\n",
       "      <td>Ascomycota</td>\n",
       "      <td>[Candida] boidinii</td>\n",
       "      <td>5477</td>\n",
       "      <td>16032762</td>\n",
       "    </tr>\n",
       "    <tr>\n",
       "      <th>3</th>\n",
       "      <td>AAV66468.1</td>\n",
       "      <td>Ascomycota</td>\n",
       "      <td>[Candida] boidinii</td>\n",
       "      <td>5477</td>\n",
       "      <td>16032762</td>\n",
       "    </tr>\n",
       "    <tr>\n",
       "      <th>4</th>\n",
       "      <td>AAF82788.1</td>\n",
       "      <td>Ascomycota</td>\n",
       "      <td>Fulvia fulva</td>\n",
       "      <td>5499</td>\n",
       "      <td>11277434</td>\n",
       "    </tr>\n",
       "  </tbody>\n",
       "</table>\n",
       "</div>"
      ],
      "text/plain": [
       "    accession          ph                      organism   taxid       pid\n",
       "0  EAA66666.1  Ascomycota  Aspergillus nidulans FGSC A4  227341  23525937\n",
       "1  AAR89538.1  Ascomycota           Bipolaris victoriae   40125  11056160\n",
       "2  AAV66467.2  Ascomycota            [Candida] boidinii    5477  16032762\n",
       "3  AAV66468.1  Ascomycota            [Candida] boidinii    5477  16032762\n",
       "4  AAF82788.1  Ascomycota                  Fulvia fulva    5499  11277434"
      ]
     },
     "execution_count": 17,
     "metadata": {},
     "output_type": "execute_result"
    }
   ],
   "source": [
    "known_sequences = pd.read_csv(filenames[\"known_sequence\"], sep=\"\\t\")\n",
    "known_sequences.head()\n",
    "\n",
    "# accession for NCBI Genbank ID\n",
    "# ph for Phylum\n",
    "# taxid: taxnomony ID in NCBI Taxonomy\n",
    "# pid for Pubmed ID"
   ]
  },
  {
   "cell_type": "markdown",
   "metadata": {},
   "source": [
    "## 2. Sequence mining"
   ]
  },
  {
   "cell_type": "markdown",
   "metadata": {},
   "source": [
    "Eliminate similar sequences by first clustering known sequences"
   ]
  },
  {
   "cell_type": "markdown",
   "metadata": {},
   "source": [
    "`cd-hit -i \"./data/aox/raw/sequence.fasta\" -o \"./data/aox/cache/sequence_cluster.fasta\" -c 0.9 -n 5 -T 12 -M 16000 -d 0`"
   ]
  },
  {
   "cell_type": "markdown",
   "metadata": {},
   "source": [
    "Perform structural comparisons to construct the inputs needed for HMM modeling.\n",
    "\n",
    "Use T-Coffee's online server with the uploaded sequences and structure `5hsa.pdb`."
   ]
  },
  {
   "cell_type": "markdown",
   "metadata": {},
   "source": [
    "`t_coffee -in=sequence_cluster.fasta -mode=expresso -blast=LOCAL -pdb_db=/db/pdb/derived_data_format/blast/2021-11-16/pdb_seqres.fa -pdb=5hsa.pdb -evaluate_mode=t_coffee_slow -output=score_html clustalw_aln fasta_aln score_ascii phylip -maxnseq=150 -maxlen=2500 -case=upper -seqnos=off -outorder=input -run_name=result -multi_core=4 -quiet=stdout`"
   ]
  },
  {
   "cell_type": "markdown",
   "metadata": {},
   "source": [
    "Download the `result.clustalw_aln` file. Convert the format to `.sto` as input for `hmmbuild`"
   ]
  },
  {
   "cell_type": "code",
   "execution_count": 18,
   "metadata": {},
   "outputs": [
    {
     "data": {
      "text/plain": [
       "1"
      ]
     },
     "execution_count": 18,
     "metadata": {},
     "output_type": "execute_result"
    }
   ],
   "source": [
    "from Bio import AlignIO\n",
    "AlignIO.convert(join(CACHEDIR, \"result.clustalw_aln\"), 'clustal', join(CACHEDIR, \"result.sto\"), 'stockholm')"
   ]
  },
  {
   "cell_type": "markdown",
   "metadata": {},
   "source": [
    "Build the HMM model."
   ]
  },
  {
   "cell_type": "markdown",
   "metadata": {},
   "source": [
    "`hmmbuild ./data/aox/cache/result.hmm ./data/aox/cache/result.sto`"
   ]
  },
  {
   "cell_type": "markdown",
   "metadata": {},
   "source": [
    "Upload `results.hmm` at [HMMER-online](https://www.ebi.ac.uk/Tools/hmmer/search/phmmer) against the **UniProt Reference Proteomes** database. Then download the results."
   ]
  },
  {
   "cell_type": "code",
   "execution_count": 19,
   "metadata": {},
   "outputs": [],
   "source": [
    "import os\n",
    "import json\n",
    "import requests\n",
    "\n",
    "def download_hmmsearch(base_url:str, max_:int, output_dir:str, step:int=1000):\n",
    "    \"\"\"\n",
    "    Downloads JSON data in chunks from the specified base URL and saves them into individual files.\n",
    "\n",
    "    \"\"\"\n",
    "    if not os.path.exists(output_dir):\n",
    "        os.makedirs(output_dir)\n",
    "\n",
    "    for start in range(1, max_, step):\n",
    "        end = start + step - 1\n",
    "        if end > max_:\n",
    "            end = max_\n",
    "\n",
    "        filename = f\"{start}-{end}.json\"\n",
    "        output_path = os.path.join(output_dir, filename)\n",
    "        if os.path.exists(output_path):\n",
    "            print(f\"All ready {output_path}\")\n",
    "            continue\n",
    "\n",
    "        # 构建参数字符串\n",
    "        params = {\n",
    "            \"output\": \"json\",\n",
    "            \"range\": f\"{start},{end}\"\n",
    "        }\n",
    "\n",
    "        response = requests.get(base_url, params=params)\n",
    "\n",
    "        if response.status_code == 200:\n",
    "            data = response.json()\n",
    "\n",
    "            with open(output_path, \"w\") as output_file:\n",
    "                json.dump(data, output_file, indent=4)\n",
    "\n",
    "            print(f\"Saved data to {output_path}\")\n",
    "        else:\n",
    "            print(f\"Failed to retrieve data for range {start}-{end}. Status code: {response.status_code}\")\n",
    "        # break\n",
    "    print(\"Data retrieval and storage completed.\")\n"
   ]
  },
  {
   "cell_type": "code",
   "execution_count": 20,
   "metadata": {},
   "outputs": [],
   "source": [
    "# Download in batches due to large number of sequences.\n",
    "\n",
    "# job_id = \"604D2B8E-7713-11EE-934A-6C75D2021FDD\"\n",
    "# max_ = 30204 # the total number of the sequences\n",
    "\n",
    "# download_hmmsearch(\n",
    "#     base_url = f\"https://www.ebi.ac.uk/Tools/hmmer/results/{job_id}/score\",\n",
    "#     max_ = max_,\n",
    "#     output_dir = join(CACHEDIR, \"hmmsearch\")\n",
    "# )"
   ]
  },
  {
   "cell_type": "code",
   "execution_count": 21,
   "metadata": {},
   "outputs": [],
   "source": [
    "# combine the results\n",
    "\n",
    "hmmsearch_search = []\n",
    "\n",
    "folder_path = join(CACHEDIR, \"hmmsearch\")\n",
    "for filename in os.listdir(folder_path):\n",
    "    if filename.endswith('.json'):\n",
    "        file_path = os.path.join(folder_path, filename)\n",
    "        with open(file_path, 'r') as file:\n",
    "            data = json.load(file)\n",
    "            hmmsearch_search.extend(data[\"results\"][\"hits\"])\n"
   ]
  },
  {
   "cell_type": "code",
   "execution_count": 22,
   "metadata": {},
   "outputs": [
    {
     "data": {
      "text/plain": [
       "30204"
      ]
     },
     "execution_count": 22,
     "metadata": {},
     "output_type": "execute_result"
    }
   ],
   "source": [
    "len(hmmsearch_search) # 30204"
   ]
  },
  {
   "cell_type": "markdown",
   "metadata": {},
   "source": [
    "Extract information and organizing it into a tabular format"
   ]
  },
  {
   "cell_type": "code",
   "execution_count": 23,
   "metadata": {},
   "outputs": [
    {
     "data": {
      "text/html": [
       "<div>\n",
       "<style scoped>\n",
       "    .dataframe tbody tr th:only-of-type {\n",
       "        vertical-align: middle;\n",
       "    }\n",
       "\n",
       "    .dataframe tbody tr th {\n",
       "        vertical-align: top;\n",
       "    }\n",
       "\n",
       "    .dataframe thead th {\n",
       "        text-align: right;\n",
       "    }\n",
       "</style>\n",
       "<table border=\"1\" class=\"dataframe\">\n",
       "  <thead>\n",
       "    <tr style=\"text-align: right;\">\n",
       "      <th></th>\n",
       "      <th>ph</th>\n",
       "      <th>kg</th>\n",
       "      <th>acc</th>\n",
       "      <th>desc</th>\n",
       "      <th>taxid</th>\n",
       "      <th>score</th>\n",
       "      <th>bias</th>\n",
       "      <th>evalue</th>\n",
       "      <th>bitscore</th>\n",
       "      <th>bias_domain</th>\n",
       "      <th>cevalue</th>\n",
       "      <th>aliaseq</th>\n",
       "      <th>alisqfrom</th>\n",
       "      <th>alisqto</th>\n",
       "      <th>aliId</th>\n",
       "      <th>aliSim</th>\n",
       "      <th>length</th>\n",
       "    </tr>\n",
       "  </thead>\n",
       "  <tbody>\n",
       "    <tr>\n",
       "      <th>0</th>\n",
       "      <td>Basidiomycota</td>\n",
       "      <td>Eukaryota</td>\n",
       "      <td>A0A409VB76_9AGAR</td>\n",
       "      <td>Uncharacterized protein</td>\n",
       "      <td>181874</td>\n",
       "      <td>1357.6</td>\n",
       "      <td>15.4</td>\n",
       "      <td>0.0</td>\n",
       "      <td>453.160126</td>\n",
       "      <td>0.04</td>\n",
       "      <td>2.600000e-135</td>\n",
       "      <td>QYDIIFAGGGPCSCIAASRLLNADPNLRILIVEYGSSTENVARHIQ...</td>\n",
       "      <td>11</td>\n",
       "      <td>502</td>\n",
       "      <td>0.421589</td>\n",
       "      <td>0.698574</td>\n",
       "      <td>491</td>\n",
       "    </tr>\n",
       "    <tr>\n",
       "      <th>1</th>\n",
       "      <td>Ascomycota</td>\n",
       "      <td>Eukaryota</td>\n",
       "      <td>W1QCJ3_OGAPD</td>\n",
       "      <td>Alcohol oxidase</td>\n",
       "      <td>871575</td>\n",
       "      <td>1312.2</td>\n",
       "      <td>0.0</td>\n",
       "      <td>0.0</td>\n",
       "      <td>1312.030762</td>\n",
       "      <td>0.00</td>\n",
       "      <td>0.000000e+00</td>\n",
       "      <td>MAIPDEFDIIVVGGGSTGCCVAGRLANLDdQNLTVALIEGGENNIN...</td>\n",
       "      <td>1</td>\n",
       "      <td>664</td>\n",
       "      <td>0.772247</td>\n",
       "      <td>0.987934</td>\n",
       "      <td>663</td>\n",
       "    </tr>\n",
       "    <tr>\n",
       "      <th>2</th>\n",
       "      <td>Ascomycota</td>\n",
       "      <td>Eukaryota</td>\n",
       "      <td>ALOX1_KOMPG</td>\n",
       "      <td>Alcohol oxidase 1</td>\n",
       "      <td>644223</td>\n",
       "      <td>1305.4</td>\n",
       "      <td>0.0</td>\n",
       "      <td>0.0</td>\n",
       "      <td>1305.187988</td>\n",
       "      <td>0.00</td>\n",
       "      <td>0.000000e+00</td>\n",
       "      <td>MAIPEEFDILVLGGGSSGSCIAGRLANLDHSLKVGLIEAGENNLNN...</td>\n",
       "      <td>1</td>\n",
       "      <td>663</td>\n",
       "      <td>0.769231</td>\n",
       "      <td>0.981900</td>\n",
       "      <td>662</td>\n",
       "    </tr>\n",
       "    <tr>\n",
       "      <th>3</th>\n",
       "      <td>Ascomycota</td>\n",
       "      <td>Eukaryota</td>\n",
       "      <td>A0A1E4T6V9_9ASCO</td>\n",
       "      <td>Alcohol oxidase</td>\n",
       "      <td>983967</td>\n",
       "      <td>1297.9</td>\n",
       "      <td>0.0</td>\n",
       "      <td>0.0</td>\n",
       "      <td>1297.710571</td>\n",
       "      <td>0.02</td>\n",
       "      <td>0.000000e+00</td>\n",
       "      <td>MAIPDEFDIIVVGGGSAGCPVAGRLANLDESLTVALIEAGENNVNN...</td>\n",
       "      <td>1</td>\n",
       "      <td>665</td>\n",
       "      <td>0.755656</td>\n",
       "      <td>0.972851</td>\n",
       "      <td>664</td>\n",
       "    </tr>\n",
       "    <tr>\n",
       "      <th>4</th>\n",
       "      <td>Ascomycota</td>\n",
       "      <td>Eukaryota</td>\n",
       "      <td>A0A1E4SXY7_9ASCO</td>\n",
       "      <td>Alcohol oxidase</td>\n",
       "      <td>983967</td>\n",
       "      <td>1297.3</td>\n",
       "      <td>0.0</td>\n",
       "      <td>0.0</td>\n",
       "      <td>1297.163940</td>\n",
       "      <td>0.01</td>\n",
       "      <td>0.000000e+00</td>\n",
       "      <td>MAIPDEFDIIVLGGGSTGCAIAGRLGNLDESLTVALIEGGENNINN...</td>\n",
       "      <td>1</td>\n",
       "      <td>664</td>\n",
       "      <td>0.751131</td>\n",
       "      <td>0.977376</td>\n",
       "      <td>663</td>\n",
       "    </tr>\n",
       "  </tbody>\n",
       "</table>\n",
       "</div>"
      ],
      "text/plain": [
       "              ph         kg               acc                     desc  \\\n",
       "0  Basidiomycota  Eukaryota  A0A409VB76_9AGAR  Uncharacterized protein   \n",
       "1     Ascomycota  Eukaryota      W1QCJ3_OGAPD          Alcohol oxidase   \n",
       "2     Ascomycota  Eukaryota       ALOX1_KOMPG        Alcohol oxidase 1   \n",
       "3     Ascomycota  Eukaryota  A0A1E4T6V9_9ASCO          Alcohol oxidase   \n",
       "4     Ascomycota  Eukaryota  A0A1E4SXY7_9ASCO          Alcohol oxidase   \n",
       "\n",
       "    taxid   score  bias  evalue     bitscore  bias_domain        cevalue  \\\n",
       "0  181874  1357.6  15.4     0.0   453.160126         0.04  2.600000e-135   \n",
       "1  871575  1312.2   0.0     0.0  1312.030762         0.00   0.000000e+00   \n",
       "2  644223  1305.4   0.0     0.0  1305.187988         0.00   0.000000e+00   \n",
       "3  983967  1297.9   0.0     0.0  1297.710571         0.02   0.000000e+00   \n",
       "4  983967  1297.3   0.0     0.0  1297.163940         0.01   0.000000e+00   \n",
       "\n",
       "                                             aliaseq  alisqfrom  alisqto  \\\n",
       "0  QYDIIFAGGGPCSCIAASRLLNADPNLRILIVEYGSSTENVARHIQ...         11      502   \n",
       "1  MAIPDEFDIIVVGGGSTGCCVAGRLANLDdQNLTVALIEGGENNIN...          1      664   \n",
       "2  MAIPEEFDILVLGGGSSGSCIAGRLANLDHSLKVGLIEAGENNLNN...          1      663   \n",
       "3  MAIPDEFDIIVVGGGSAGCPVAGRLANLDESLTVALIEAGENNVNN...          1      665   \n",
       "4  MAIPDEFDIIVLGGGSTGCAIAGRLGNLDESLTVALIEGGENNINN...          1      664   \n",
       "\n",
       "      aliId    aliSim  length  \n",
       "0  0.421589  0.698574     491  \n",
       "1  0.772247  0.987934     663  \n",
       "2  0.769231  0.981900     662  \n",
       "3  0.755656  0.972851     664  \n",
       "4  0.751131  0.977376     663  "
      ]
     },
     "execution_count": 23,
     "metadata": {},
     "output_type": "execute_result"
    }
   ],
   "source": [
    "extracted_info = []\n",
    "\n",
    "for item in hmmsearch_search:\n",
    "    extracted_item = {\n",
    "        'ph': item['ph'],\n",
    "        'kg': item['kg'],\n",
    "        'acc': item['acc'],\n",
    "        'desc': item['desc'],\n",
    "        'taxid': str(int(item['taxid'])),\n",
    "        'score': float(item['score']),\n",
    "        'bias': float(item['bias']),\n",
    "        'evalue': float(item['evalue']),\n",
    "    }\n",
    "    \n",
    "    # extract the info of the 'domains' list\n",
    "    if 'domains' in item and item['domains']:\n",
    "        domain = item['domains'][0]  # Assuming the list of domains contains at least one dictionary\n",
    "        extracted_item['bitscore'] = float(domain['bitscore'])\n",
    "        extracted_item['bias_domain'] = float(domain['bias'])\n",
    "        extracted_item['cevalue'] = float(domain['cevalue'])\n",
    "        extracted_item['aliaseq'] = domain['aliaseq']\n",
    "        extracted_item['alisqfrom'] = domain['alisqfrom']\n",
    "        extracted_item['alisqto'] = domain[\"alisqto\"]\n",
    "        extracted_item['aliId'] = float(domain['aliId'])\n",
    "        extracted_item['aliSim'] = float(domain['aliSim'])\n",
    "    \n",
    "    extracted_info.append(extracted_item)\n",
    "\n",
    "df_hmmsearch = pd.DataFrame(extracted_info).sort_values(by='score', ascending=False).reset_index().drop(columns=[\"index\"])\n",
    "df_hmmsearch['length'] = df_hmmsearch['alisqto'] - df_hmmsearch['alisqfrom']\n",
    "df_hmmsearch.to_csv(join(CACHEDIR, \"hmmsearch.tsv\"), sep='\\t', index=False)\n",
    "df_hmmsearch.head()"
   ]
  },
  {
   "cell_type": "code",
   "execution_count": 24,
   "metadata": {},
   "outputs": [
    {
     "data": {
      "image/png": "[encoded data removed]",
      "text/plain": [
       "<Figure size 3600x1800 with 2 Axes>"
      ]
     },
     "metadata": {},
     "output_type": "display_data"
    }
   ],
   "source": [
    "import matplotlib.pyplot as plt\n",
    "\n",
    "fig, axes = plt.subplots(1, 2, figsize=(12, 6), dpi=300)\n",
    "\n",
    "# Left - score\n",
    "axes[0].hist(df_hmmsearch['score'], bins=range(0, 2000, 50), color='skyblue', edgecolor='black')\n",
    "axes[0].set_title('Distribution of Score', fontsize=14)\n",
    "axes[0].set_xlabel('Score', fontsize=12)\n",
    "axes[0].set_ylabel('Frequency', fontsize=12)\n",
    "axes[0].grid(True, linestyle='--', alpha=0.7)\n",
    "\n",
    "# Right - length\n",
    "axes[1].hist(df_hmmsearch['length'], bins=range(0, 800, 50), color='lightgreen', edgecolor='black')\n",
    "axes[1].set_title('Distribution of Length', fontsize=14)\n",
    "axes[1].set_xlabel('Length', fontsize=12)\n",
    "axes[1].set_ylabel('Frequency', fontsize=12)\n",
    "axes[1].grid(True, linestyle='--', alpha=0.7)\n",
    "\n",
    "plt.tight_layout()\n",
    "\n",
    "plt.show()\n"
   ]
  },
  {
   "cell_type": "code",
   "execution_count": 25,
   "metadata": {},
   "outputs": [
    {
     "data": {
      "text/html": [
       "<div>\n",
       "<style scoped>\n",
       "    .dataframe tbody tr th:only-of-type {\n",
       "        vertical-align: middle;\n",
       "    }\n",
       "\n",
       "    .dataframe tbody tr th {\n",
       "        vertical-align: top;\n",
       "    }\n",
       "\n",
       "    .dataframe thead th {\n",
       "        text-align: right;\n",
       "    }\n",
       "</style>\n",
       "<table border=\"1\" class=\"dataframe\">\n",
       "  <thead>\n",
       "    <tr style=\"text-align: right;\">\n",
       "      <th></th>\n",
       "      <th>ph</th>\n",
       "      <th>kg</th>\n",
       "      <th>acc</th>\n",
       "      <th>desc</th>\n",
       "      <th>taxid</th>\n",
       "      <th>score</th>\n",
       "      <th>bias</th>\n",
       "      <th>evalue</th>\n",
       "      <th>bitscore</th>\n",
       "      <th>bias_domain</th>\n",
       "      <th>cevalue</th>\n",
       "      <th>aliaseq</th>\n",
       "      <th>alisqfrom</th>\n",
       "      <th>alisqto</th>\n",
       "      <th>aliId</th>\n",
       "      <th>aliSim</th>\n",
       "      <th>length</th>\n",
       "    </tr>\n",
       "  </thead>\n",
       "  <tbody>\n",
       "    <tr>\n",
       "      <th>1</th>\n",
       "      <td>Ascomycota</td>\n",
       "      <td>Eukaryota</td>\n",
       "      <td>W1QCJ3_OGAPD</td>\n",
       "      <td>Alcohol oxidase</td>\n",
       "      <td>871575</td>\n",
       "      <td>1312.2</td>\n",
       "      <td>0.0</td>\n",
       "      <td>0.0</td>\n",
       "      <td>1312.030762</td>\n",
       "      <td>0.00</td>\n",
       "      <td>0.0</td>\n",
       "      <td>MAIPDEFDIIVVGGGSTGCCVAGRLANLDdQNLTVALIEGGENNIN...</td>\n",
       "      <td>1</td>\n",
       "      <td>664</td>\n",
       "      <td>0.772247</td>\n",
       "      <td>0.987934</td>\n",
       "      <td>663</td>\n",
       "    </tr>\n",
       "    <tr>\n",
       "      <th>2</th>\n",
       "      <td>Ascomycota</td>\n",
       "      <td>Eukaryota</td>\n",
       "      <td>ALOX1_KOMPG</td>\n",
       "      <td>Alcohol oxidase 1</td>\n",
       "      <td>644223</td>\n",
       "      <td>1305.4</td>\n",
       "      <td>0.0</td>\n",
       "      <td>0.0</td>\n",
       "      <td>1305.187988</td>\n",
       "      <td>0.00</td>\n",
       "      <td>0.0</td>\n",
       "      <td>MAIPEEFDILVLGGGSSGSCIAGRLANLDHSLKVGLIEAGENNLNN...</td>\n",
       "      <td>1</td>\n",
       "      <td>663</td>\n",
       "      <td>0.769231</td>\n",
       "      <td>0.981900</td>\n",
       "      <td>662</td>\n",
       "    </tr>\n",
       "    <tr>\n",
       "      <th>3</th>\n",
       "      <td>Ascomycota</td>\n",
       "      <td>Eukaryota</td>\n",
       "      <td>A0A1E4T6V9_9ASCO</td>\n",
       "      <td>Alcohol oxidase</td>\n",
       "      <td>983967</td>\n",
       "      <td>1297.9</td>\n",
       "      <td>0.0</td>\n",
       "      <td>0.0</td>\n",
       "      <td>1297.710571</td>\n",
       "      <td>0.02</td>\n",
       "      <td>0.0</td>\n",
       "      <td>MAIPDEFDIIVVGGGSAGCPVAGRLANLDESLTVALIEAGENNVNN...</td>\n",
       "      <td>1</td>\n",
       "      <td>665</td>\n",
       "      <td>0.755656</td>\n",
       "      <td>0.972851</td>\n",
       "      <td>664</td>\n",
       "    </tr>\n",
       "    <tr>\n",
       "      <th>4</th>\n",
       "      <td>Ascomycota</td>\n",
       "      <td>Eukaryota</td>\n",
       "      <td>A0A1E4SXY7_9ASCO</td>\n",
       "      <td>Alcohol oxidase</td>\n",
       "      <td>983967</td>\n",
       "      <td>1297.3</td>\n",
       "      <td>0.0</td>\n",
       "      <td>0.0</td>\n",
       "      <td>1297.163940</td>\n",
       "      <td>0.01</td>\n",
       "      <td>0.0</td>\n",
       "      <td>MAIPDEFDIIVLGGGSTGCAIAGRLGNLDESLTVALIEGGENNINN...</td>\n",
       "      <td>1</td>\n",
       "      <td>664</td>\n",
       "      <td>0.751131</td>\n",
       "      <td>0.977376</td>\n",
       "      <td>663</td>\n",
       "    </tr>\n",
       "    <tr>\n",
       "      <th>5</th>\n",
       "      <td>Ascomycota</td>\n",
       "      <td>Eukaryota</td>\n",
       "      <td>A0A1E4SZH3_9ASCO</td>\n",
       "      <td>Alcohol oxidase</td>\n",
       "      <td>983967</td>\n",
       "      <td>1296.6</td>\n",
       "      <td>0.0</td>\n",
       "      <td>0.0</td>\n",
       "      <td>1296.432007</td>\n",
       "      <td>0.01</td>\n",
       "      <td>0.0</td>\n",
       "      <td>MAIPDEFDIIVVGGGSTGCAIAGRLGNLDENVTVALIEGGENNINN...</td>\n",
       "      <td>1</td>\n",
       "      <td>664</td>\n",
       "      <td>0.757164</td>\n",
       "      <td>0.975867</td>\n",
       "      <td>663</td>\n",
       "    </tr>\n",
       "  </tbody>\n",
       "</table>\n",
       "</div>"
      ],
      "text/plain": [
       "           ph         kg               acc               desc   taxid   score  \\\n",
       "1  Ascomycota  Eukaryota      W1QCJ3_OGAPD    Alcohol oxidase  871575  1312.2   \n",
       "2  Ascomycota  Eukaryota       ALOX1_KOMPG  Alcohol oxidase 1  644223  1305.4   \n",
       "3  Ascomycota  Eukaryota  A0A1E4T6V9_9ASCO    Alcohol oxidase  983967  1297.9   \n",
       "4  Ascomycota  Eukaryota  A0A1E4SXY7_9ASCO    Alcohol oxidase  983967  1297.3   \n",
       "5  Ascomycota  Eukaryota  A0A1E4SZH3_9ASCO    Alcohol oxidase  983967  1296.6   \n",
       "\n",
       "   bias  evalue     bitscore  bias_domain  cevalue  \\\n",
       "1   0.0     0.0  1312.030762         0.00      0.0   \n",
       "2   0.0     0.0  1305.187988         0.00      0.0   \n",
       "3   0.0     0.0  1297.710571         0.02      0.0   \n",
       "4   0.0     0.0  1297.163940         0.01      0.0   \n",
       "5   0.0     0.0  1296.432007         0.01      0.0   \n",
       "\n",
       "                                             aliaseq  alisqfrom  alisqto  \\\n",
       "1  MAIPDEFDIIVVGGGSTGCCVAGRLANLDdQNLTVALIEGGENNIN...          1      664   \n",
       "2  MAIPEEFDILVLGGGSSGSCIAGRLANLDHSLKVGLIEAGENNLNN...          1      663   \n",
       "3  MAIPDEFDIIVVGGGSAGCPVAGRLANLDESLTVALIEAGENNVNN...          1      665   \n",
       "4  MAIPDEFDIIVLGGGSTGCAIAGRLGNLDESLTVALIEGGENNINN...          1      664   \n",
       "5  MAIPDEFDIIVVGGGSTGCAIAGRLGNLDENVTVALIEGGENNINN...          1      664   \n",
       "\n",
       "      aliId    aliSim  length  \n",
       "1  0.772247  0.987934     663  \n",
       "2  0.769231  0.981900     662  \n",
       "3  0.755656  0.972851     664  \n",
       "4  0.751131  0.977376     663  \n",
       "5  0.757164  0.975867     663  "
      ]
     },
     "execution_count": 25,
     "metadata": {},
     "output_type": "execute_result"
    }
   ],
   "source": [
    "df_hmmsearch_600_700 = df_hmmsearch[\n",
    "        (df_hmmsearch['length'] <= 700) &\n",
    "        (df_hmmsearch['length'] >= 600)\n",
    "]\n",
    "df_hmmsearch_600_700.to_csv(join(CACHEDIR, \"hmmsearch_600_700.tsv\"), sep='\\t')\n",
    "df_hmmsearch_600_700.head()"
   ]
  },
  {
   "cell_type": "code",
   "execution_count": 26,
   "metadata": {},
   "outputs": [
    {
     "data": {
      "text/html": [
       "<div>\n",
       "<style scoped>\n",
       "    .dataframe tbody tr th:only-of-type {\n",
       "        vertical-align: middle;\n",
       "    }\n",
       "\n",
       "    .dataframe tbody tr th {\n",
       "        vertical-align: top;\n",
       "    }\n",
       "\n",
       "    .dataframe thead th {\n",
       "        text-align: right;\n",
       "    }\n",
       "</style>\n",
       "<table border=\"1\" class=\"dataframe\">\n",
       "  <thead>\n",
       "    <tr style=\"text-align: right;\">\n",
       "      <th></th>\n",
       "      <th>ph</th>\n",
       "      <th>kg</th>\n",
       "      <th>desc</th>\n",
       "      <th>taxid</th>\n",
       "    </tr>\n",
       "  </thead>\n",
       "  <tbody>\n",
       "    <tr>\n",
       "      <th>count</th>\n",
       "      <td>372</td>\n",
       "      <td>372</td>\n",
       "      <td>372</td>\n",
       "      <td>372</td>\n",
       "    </tr>\n",
       "    <tr>\n",
       "      <th>unique</th>\n",
       "      <td>3</td>\n",
       "      <td>1</td>\n",
       "      <td>47</td>\n",
       "      <td>349</td>\n",
       "    </tr>\n",
       "    <tr>\n",
       "      <th>top</th>\n",
       "      <td>Ascomycota</td>\n",
       "      <td>Eukaryota</td>\n",
       "      <td>Alcohol oxidase</td>\n",
       "      <td>1571157</td>\n",
       "    </tr>\n",
       "    <tr>\n",
       "      <th>freq</th>\n",
       "      <td>298</td>\n",
       "      <td>372</td>\n",
       "      <td>96</td>\n",
       "      <td>4</td>\n",
       "    </tr>\n",
       "  </tbody>\n",
       "</table>\n",
       "</div>"
      ],
      "text/plain": [
       "                ph         kg             desc    taxid\n",
       "count          372        372              372      372\n",
       "unique           3          1               47      349\n",
       "top     Ascomycota  Eukaryota  Alcohol oxidase  1571157\n",
       "freq           298        372               96        4"
      ]
     },
     "execution_count": 26,
     "metadata": {},
     "output_type": "execute_result"
    }
   ],
   "source": [
    "# Distribution of species\n",
    "df_hmmsearch_600_700[['ph','kg', 'desc', 'taxid']].describe()\n",
    "\n",
    "# ph for phylum\n",
    "# kg for kingdom\n",
    "# desc for description\n",
    "# taxid for NCBI Taxonomy ID"
   ]
  },
  {
   "cell_type": "code",
   "execution_count": 27,
   "metadata": {},
   "outputs": [
    {
     "data": {
      "text/html": [
       "<div>\n",
       "<style scoped>\n",
       "    .dataframe tbody tr th:only-of-type {\n",
       "        vertical-align: middle;\n",
       "    }\n",
       "\n",
       "    .dataframe tbody tr th {\n",
       "        vertical-align: top;\n",
       "    }\n",
       "\n",
       "    .dataframe thead th {\n",
       "        text-align: right;\n",
       "    }\n",
       "</style>\n",
       "<table border=\"1\" class=\"dataframe\">\n",
       "  <thead>\n",
       "    <tr style=\"text-align: right;\">\n",
       "      <th></th>\n",
       "      <th>score</th>\n",
       "      <th>cevalue</th>\n",
       "      <th>bitscore</th>\n",
       "      <th>length</th>\n",
       "    </tr>\n",
       "  </thead>\n",
       "  <tbody>\n",
       "    <tr>\n",
       "      <th>count</th>\n",
       "      <td>372.000000</td>\n",
       "      <td>3.720000e+02</td>\n",
       "      <td>372.000000</td>\n",
       "      <td>372.000000</td>\n",
       "    </tr>\n",
       "    <tr>\n",
       "      <th>mean</th>\n",
       "      <td>1176.053495</td>\n",
       "      <td>9.145969e-40</td>\n",
       "      <td>1175.524754</td>\n",
       "      <td>652.723118</td>\n",
       "    </tr>\n",
       "    <tr>\n",
       "      <th>std</th>\n",
       "      <td>213.080049</td>\n",
       "      <td>1.762815e-38</td>\n",
       "      <td>213.483683</td>\n",
       "      <td>14.088905</td>\n",
       "    </tr>\n",
       "    <tr>\n",
       "      <th>min</th>\n",
       "      <td>137.600000</td>\n",
       "      <td>0.000000e+00</td>\n",
       "      <td>128.965790</td>\n",
       "      <td>603.000000</td>\n",
       "    </tr>\n",
       "    <tr>\n",
       "      <th>25%</th>\n",
       "      <td>1145.650000</td>\n",
       "      <td>0.000000e+00</td>\n",
       "      <td>1145.014893</td>\n",
       "      <td>646.000000</td>\n",
       "    </tr>\n",
       "    <tr>\n",
       "      <th>50%</th>\n",
       "      <td>1239.900000</td>\n",
       "      <td>0.000000e+00</td>\n",
       "      <td>1239.581238</td>\n",
       "      <td>655.000000</td>\n",
       "    </tr>\n",
       "    <tr>\n",
       "      <th>75%</th>\n",
       "      <td>1269.325000</td>\n",
       "      <td>0.000000e+00</td>\n",
       "      <td>1269.151825</td>\n",
       "      <td>664.000000</td>\n",
       "    </tr>\n",
       "    <tr>\n",
       "      <th>max</th>\n",
       "      <td>1312.200000</td>\n",
       "      <td>3.400000e-37</td>\n",
       "      <td>1312.030762</td>\n",
       "      <td>699.000000</td>\n",
       "    </tr>\n",
       "  </tbody>\n",
       "</table>\n",
       "</div>"
      ],
      "text/plain": [
       "             score       cevalue     bitscore      length\n",
       "count   372.000000  3.720000e+02   372.000000  372.000000\n",
       "mean   1176.053495  9.145969e-40  1175.524754  652.723118\n",
       "std     213.080049  1.762815e-38   213.483683   14.088905\n",
       "min     137.600000  0.000000e+00   128.965790  603.000000\n",
       "25%    1145.650000  0.000000e+00  1145.014893  646.000000\n",
       "50%    1239.900000  0.000000e+00  1239.581238  655.000000\n",
       "75%    1269.325000  0.000000e+00  1269.151825  664.000000\n",
       "max    1312.200000  3.400000e-37  1312.030762  699.000000"
      ]
     },
     "execution_count": 27,
     "metadata": {},
     "output_type": "execute_result"
    }
   ],
   "source": [
    "# Distribution of the scores and lengths\n",
    "df_hmmsearch_600_700[['score', 'cevalue', 'bitscore', 'length']].describe()"
   ]
  },
  {
   "cell_type": "code",
   "execution_count": 28,
   "metadata": {},
   "outputs": [],
   "source": [
    "# acc: the Uniprot ID of sequences\n",
    "df_hmmsearch_600_700[['acc']].to_csv(join(CACHEDIR, \"hmmsearch_600_700.txt\"), header=False, index=False)"
   ]
  },
  {
   "cell_type": "markdown",
   "metadata": {},
   "source": [
    "Upload the file in UniProt database and download it to get the `fasta` format file named `hmmsearch_600_700.fasta`. Then add the known sequences to construct the `hmmsearch_600_700_added.fasta` file."
   ]
  },
  {
   "cell_type": "markdown",
   "metadata": {},
   "source": [
    "## 3. Sequence Evaluation"
   ]
  },
  {
   "cell_type": "markdown",
   "metadata": {},
   "source": [
    "### 3.1 seq_score"
   ]
  },
  {
   "cell_type": "markdown",
   "metadata": {},
   "source": [
    "Multiple Sequence Alignment with `hmmsearch`"
   ]
  },
  {
   "cell_type": "markdown",
   "metadata": {},
   "source": [
    "`hmmsearch -A \"./data/aox/cache/hmmsearch_600_700_added.sto\" \"./data/aox/cache/result.hmm\" \"./data/aox/cache/hmmsearch_600_700_added.fasta\" > \"./data/aox/cache/hmmsearch_600_700_added.out\"`"
   ]
  },
  {
   "cell_type": "markdown",
   "metadata": {},
   "source": [
    "Read in the results of the MSA and construct a mapping from the original amino acid index to the new a.a. id of the post-MSA sequence."
   ]
  },
  {
   "cell_type": "code",
   "execution_count": 29,
   "metadata": {},
   "outputs": [
    {
     "data": {
      "text/html": [
       "<div>\n",
       "<style scoped>\n",
       "    .dataframe tbody tr th:only-of-type {\n",
       "        vertical-align: middle;\n",
       "    }\n",
       "\n",
       "    .dataframe tbody tr th {\n",
       "        vertical-align: top;\n",
       "    }\n",
       "\n",
       "    .dataframe thead th {\n",
       "        text-align: right;\n",
       "    }\n",
       "</style>\n",
       "<table border=\"1\" class=\"dataframe\">\n",
       "  <thead>\n",
       "    <tr style=\"text-align: right;\">\n",
       "      <th></th>\n",
       "      <th>id</th>\n",
       "      <th>seq</th>\n",
       "    </tr>\n",
       "  </thead>\n",
       "  <tbody>\n",
       "    <tr>\n",
       "      <th>0</th>\n",
       "      <td>AAV66466.1/1-664</td>\n",
       "      <td>MAIPDEFDIIVVGGGST----GCALAGR----------LGNLD-EN...</td>\n",
       "    </tr>\n",
       "    <tr>\n",
       "      <th>1</th>\n",
       "      <td>AAF02494.1/1-664</td>\n",
       "      <td>MAIPDEFDIIVVGGGST----GCALAGR----------LGNLD-EN...</td>\n",
       "    </tr>\n",
       "    <tr>\n",
       "      <th>2</th>\n",
       "      <td>AAV66465.1/1-664</td>\n",
       "      <td>MAIPDEFDIIVVGGGST----GCAIAGR----------LGNLD-EN...</td>\n",
       "    </tr>\n",
       "    <tr>\n",
       "      <th>3</th>\n",
       "      <td>AAF02495.1/1-663</td>\n",
       "      <td>MAIPEEFDIIVVGGGSA----GCPTAGR----------LANLD-PN...</td>\n",
       "    </tr>\n",
       "    <tr>\n",
       "      <th>4</th>\n",
       "      <td>CAM84030.1/1-664</td>\n",
       "      <td>MAIPDEFDIIVVGGGST----GCCIAGR----------LANLDdQN...</td>\n",
       "    </tr>\n",
       "  </tbody>\n",
       "</table>\n",
       "</div>"
      ],
      "text/plain": [
       "                 id                                                seq\n",
       "0  AAV66466.1/1-664  MAIPDEFDIIVVGGGST----GCALAGR----------LGNLD-EN...\n",
       "1  AAF02494.1/1-664  MAIPDEFDIIVVGGGST----GCALAGR----------LGNLD-EN...\n",
       "2  AAV66465.1/1-664  MAIPDEFDIIVVGGGST----GCAIAGR----------LGNLD-EN...\n",
       "3  AAF02495.1/1-663  MAIPEEFDIIVVGGGSA----GCPTAGR----------LANLD-PN...\n",
       "4  CAM84030.1/1-664  MAIPDEFDIIVVGGGST----GCCIAGR----------LANLDdQN..."
      ]
     },
     "execution_count": 29,
     "metadata": {},
     "output_type": "execute_result"
    }
   ],
   "source": [
    "from Bio import AlignIO\n",
    "\n",
    "file_path = \"./data/aox/cache/hmmsearch_600_700_added.sto\"\n",
    "\n",
    "alignment = AlignIO.read(file_path, \"stockholm\")\n",
    "\n",
    "data = [[record.id, str(record.seq)] for record in alignment]\n",
    "df_align = pd.DataFrame(data, columns=[\"id\", \"seq\"])\n",
    "df_align.head()"
   ]
  },
  {
   "cell_type": "code",
   "execution_count": 30,
   "metadata": {},
   "outputs": [
    {
     "data": {
      "text/plain": [
       "'MAIPEEFDILVLGGGSS----GSCIAGR----------LANLD-HSLKVGLIEA------------------GENNLNNPWVYLPGI--Y---------PRNMKL----DSKTASFYTSN---PSPHLNGRRAIVPCANVLGGGSSINFM-------------------MYTRGSASDYDDFQ---A----E----G---WKTK--DLLPLMKK----TE-------TY-QRACN--NPDIHGFEGPIKVSFGNYTYPV-CQDFL-RAS-----ESQGIPYV------------------DDLE------DLVT--AH-----GAEHWLKWINRDTG--------------RRSDSAHAF-VHS-TM--R------NH--DNLYLI-CNTKVDK--IIVE-DG----R-AAAVRTV---P--SKPL-NP-------------------K----KP-SHKI-YRARKQI-----------------VLSCGTISSP-LVLQRSGFGDPIKLRAAGVKPLVNLPGVGRNFQDHYCFFSPYRI-KP-Q-YESFDDFVRGDAEIQ-KRVFDQWYA-----NGT-GPLATNGI----EAGVKIRP-----TPEELSQM--DE------------S-FQ-E------GY-R-EYFEDKPDKPVMH-Y--S---------IIAGFFGDHTKIP-PGKY--MTMFHFL--EYPFSRGSIHITS-PDPYAA-PDFDPG------FMND-ERDMAPMVWAYKKS-RETARRM--D---HFA-GEVTSHHPLFP---Y-------SSEARALEMD-LETSNAYG-GPLNLSAGLAHGSWTQPL--------KKP-T-A-K----N--E--G--H--V-TSNQ--VEL--H-P------D-IEY------D---EEDDKAIENY---------------------IREHTETTWHCLG--------TCSIGPREGSKIVKWGGVLDHRSNVYGVKGLKVGDLSVCPDNVG-------------------CNTYT------------------TALLIGEKTATLVGEDLGYSGEALDMTVPQFKL-GTYEKTGLARF'"
      ]
     },
     "execution_count": 30,
     "metadata": {},
     "output_type": "execute_result"
    }
   ],
   "source": [
    "ref_sequence_ncbi_id = \"AAB57849.1\"\n",
    "Reference_seq = df_align[df_align[\"id\"].str.startswith(ref_sequence_ncbi_id)][\"seq\"].values[0]\n",
    "Reference_seq"
   ]
  },
  {
   "cell_type": "code",
   "execution_count": 31,
   "metadata": {},
   "outputs": [],
   "source": [
    "from typing import Union, List, Dict\n",
    "\n",
    "def create_mapping(seq: Union[str, List[str]], first_id: int = 1) -> Dict[int, int]:\n",
    "    \"\"\"\n",
    "    Create a mapping from id of a sequence (without \"-\") to id in alignment (with \"-\").\n",
    "\n",
    "    \"\"\"\n",
    "    \n",
    "    mapping = {}\n",
    "    current_number = first_id  # Initialize the current identifier with the first_id\n",
    "\n",
    "    for i, char in enumerate(seq):\n",
    "        if char != \"-\":\n",
    "            mapping[current_number] = i  # Assign the current identifier to the position\n",
    "            current_number += 1  # Increment the current identifier for the next non-dash character\n",
    "\n",
    "    return mapping\n"
   ]
  },
  {
   "cell_type": "code",
   "execution_count": 32,
   "metadata": {},
   "outputs": [],
   "source": [
    "id2id_align = create_mapping(Reference_seq, first_id=1)"
   ]
  },
  {
   "cell_type": "code",
   "execution_count": 33,
   "metadata": {},
   "outputs": [
    {
     "name": "stdout",
     "output_type": "stream",
     "text": [
      "Catalytic Residue:\n",
      "567 H     942\n",
      "616 N     1018\n",
      "--------------------\n",
      "Pocket Residue:\n",
      "98 F     148\n",
      "566 W     941\n",
      "417 F     696\n",
      "--------------------\n",
      "PTS:\n",
      "660 L     1081\n",
      "661 A     1082\n",
      "662 R     1083\n",
      "663 F     1084\n",
      "--------------------\n",
      "GXGXXG:\n",
      "13 G     12\n",
      "14 G     13\n",
      "15 G     14\n",
      "16 S     15\n",
      "17 S     16\n",
      "18 G     21\n",
      "--------------------\n"
     ]
    }
   ],
   "source": [
    "dict_annotation_residues = {\n",
    "    \"Catalytic Residue\": [567, 616],\n",
    "    \"Pocket Residue\": [98, 566, 417],\n",
    "    \"PTS\": [660, 661, 662, 663],\n",
    "    \"GXGXXG\": range(13, 19),\n",
    "}\n",
    "for description, _ids in dict_annotation_residues.items():\n",
    "    print(f\"{description}:\")\n",
    "    for i in _ids:\n",
    "        print(f\"{i} {Reference_seq[id2id_align[i]]}     {id2id_align[i]}\")\n",
    "    print(\"-\" * 20)\n"
   ]
  },
  {
   "cell_type": "markdown",
   "metadata": {},
   "source": [
    "Read `hmmsearch_600_700_added.sto` using [Jalview](https://www.jalview.org/). Export the annotation to the file `hmmsearch_600_700_added.annotation.txt` as the reference for **seq_score** rules."
   ]
  },
  {
   "cell_type": "code",
   "execution_count": 34,
   "metadata": {},
   "outputs": [
    {
     "data": {
      "text/html": [
       "<div>\n",
       "<style scoped>\n",
       "    .dataframe tbody tr th:only-of-type {\n",
       "        vertical-align: middle;\n",
       "    }\n",
       "\n",
       "    .dataframe tbody tr th {\n",
       "        vertical-align: top;\n",
       "    }\n",
       "\n",
       "    .dataframe thead th {\n",
       "        text-align: right;\n",
       "    }\n",
       "</style>\n",
       "<table border=\"1\" class=\"dataframe\">\n",
       "  <thead>\n",
       "    <tr style=\"text-align: right;\">\n",
       "      <th>name</th>\n",
       "      <th>Reference Positions</th>\n",
       "      <th>Conservation</th>\n",
       "      <th>Quality</th>\n",
       "      <th>Consensus</th>\n",
       "      <th>Occupancy</th>\n",
       "      <th>Conservation_level</th>\n",
       "      <th>Conservation_description</th>\n",
       "      <th>Consensus_label</th>\n",
       "      <th>Consensus_description</th>\n",
       "    </tr>\n",
       "  </thead>\n",
       "  <tbody>\n",
       "    <tr>\n",
       "      <th>0</th>\n",
       "      <td>x</td>\n",
       "      <td>0.0,-,[4d0000]</td>\n",
       "      <td>415.11353</td>\n",
       "      <td>68.527916,M,M 68.5%</td>\n",
       "      <td>270</td>\n",
       "      <td>0</td>\n",
       "      <td>-</td>\n",
       "      <td>M</td>\n",
       "      <td>M 68.5%</td>\n",
       "    </tr>\n",
       "    <tr>\n",
       "      <th>1</th>\n",
       "      <td>x</td>\n",
       "      <td>1.0,1,small,[5d1500]</td>\n",
       "      <td>440.65067</td>\n",
       "      <td>47.715736,T,T 47.7%; A 10.7%; G 10.7%; V 4.8%;...</td>\n",
       "      <td>310</td>\n",
       "      <td>1</td>\n",
       "      <td>small</td>\n",
       "      <td>T</td>\n",
       "      <td>T 47.7%; A 10.7%; G 10.7%; V 4.8%; S 3.6%; P 1...</td>\n",
       "    </tr>\n",
       "  </tbody>\n",
       "</table>\n",
       "</div>"
      ],
      "text/plain": [
       "name Reference Positions          Conservation    Quality  \\\n",
       "0                      x        0.0,-,[4d0000]  415.11353   \n",
       "1                      x  1.0,1,small,[5d1500]  440.65067   \n",
       "\n",
       "name                                          Consensus  Occupancy  \\\n",
       "0                                   68.527916,M,M 68.5%        270   \n",
       "1     47.715736,T,T 47.7%; A 10.7%; G 10.7%; V 4.8%;...        310   \n",
       "\n",
       "name  Conservation_level Conservation_description Consensus_label  \\\n",
       "0                      0                        -               M   \n",
       "1                      1                    small               T   \n",
       "\n",
       "name                              Consensus_description  \n",
       "0                                               M 68.5%  \n",
       "1     T 47.7%; A 10.7%; G 10.7%; V 4.8%; S 3.6%; P 1...  "
      ]
     },
     "execution_count": 34,
     "metadata": {},
     "output_type": "execute_result"
    }
   ],
   "source": [
    "with open(join(CACHEDIR, \"hmmsearch_600_700_added.annotation.txt\"), \"r\") as f:\n",
    "    annotation = f.read()\n",
    "df_annotation_raw = pd.DataFrame([ line.split('\\t') for line in annotation.split('\\n\\n')[1].split('\\n')[1:]], columns=[\"Graph\", \"name\", \"comment\", \"content\"])\n",
    "df_annotation = df_annotation_raw[[\"name\"]]\n",
    "df_annotation = pd.DataFrame(df_annotation_raw[\"content\"].apply(lambda x:x.split('|')[:-1]).to_list()).T\n",
    "df_annotation.columns = df_annotation_raw[\"name\"]\n",
    "df_annotation[\"Conservation_level\"] = df_annotation[\"Conservation\"].apply(lambda x: int(float(x.split(',')[0])))\n",
    "df_annotation[\"Conservation_description\"] = df_annotation[\"Conservation\"].apply(lambda x: x.split(',')[-2].strip().replace(\" \", \", \"))\n",
    "df_annotation[\"Quality\"] = df_annotation[\"Quality\"].apply(lambda x: x.split(',')[0])\n",
    "df_annotation[\"Occupancy\"] = df_annotation[\"Occupancy\"].apply(lambda x: int(float(x.split(',')[0])))\n",
    "df_annotation[\"Consensus_label\"] =df_annotation[\"Consensus\"].apply(lambda x: x.split(',')[1])\n",
    "df_annotation[\"Consensus_description\"] =df_annotation[\"Consensus\"].apply(lambda x: x.split(',')[-1].strip())\n",
    "df_annotation.head(2)"
   ]
  },
  {
   "cell_type": "code",
   "execution_count": 35,
   "metadata": {},
   "outputs": [
    {
     "data": {
      "text/html": [
       "<div>\n",
       "<style scoped>\n",
       "    .dataframe tbody tr th:only-of-type {\n",
       "        vertical-align: middle;\n",
       "    }\n",
       "\n",
       "    .dataframe tbody tr th {\n",
       "        vertical-align: top;\n",
       "    }\n",
       "\n",
       "    .dataframe thead th {\n",
       "        text-align: right;\n",
       "    }\n",
       "</style>\n",
       "<table border=\"1\" class=\"dataframe\">\n",
       "  <thead>\n",
       "    <tr style=\"text-align: right;\">\n",
       "      <th></th>\n",
       "      <th>Position in Reference</th>\n",
       "      <th>Reference</th>\n",
       "      <th>Position in alignment</th>\n",
       "      <th>Consensus_label</th>\n",
       "      <th>Consensus_description</th>\n",
       "      <th>Occupancy</th>\n",
       "      <th>Conservation_level</th>\n",
       "      <th>Conservation_description</th>\n",
       "    </tr>\n",
       "  </thead>\n",
       "  <tbody>\n",
       "    <tr>\n",
       "      <th>0</th>\n",
       "      <td>567</td>\n",
       "      <td>H</td>\n",
       "      <td>942</td>\n",
       "      <td>H</td>\n",
       "      <td>H 99.2%; N 0.3%; R 0.3%</td>\n",
       "      <td>393</td>\n",
       "      <td>10</td>\n",
       "      <td>aromatic, charged, hydrophobic, polar, positiv...</td>\n",
       "    </tr>\n",
       "    <tr>\n",
       "      <th>1</th>\n",
       "      <td>616</td>\n",
       "      <td>N</td>\n",
       "      <td>1018</td>\n",
       "      <td>N</td>\n",
       "      <td>N 95.9%; H 3.3%</td>\n",
       "      <td>391</td>\n",
       "      <td>5</td>\n",
       "      <td>polar, !aliphatic, !negative, !proline, !tiny</td>\n",
       "    </tr>\n",
       "    <tr>\n",
       "      <th>2</th>\n",
       "      <td>98</td>\n",
       "      <td>F</td>\n",
       "      <td>148</td>\n",
       "      <td>F</td>\n",
       "      <td>F 96.2%; G 2.0%; A 1.3%</td>\n",
       "      <td>392</td>\n",
       "      <td>10</td>\n",
       "      <td>aromatic, hydrophobic, !aliphatic, !charged, !...</td>\n",
       "    </tr>\n",
       "    <tr>\n",
       "      <th>3</th>\n",
       "      <td>566</td>\n",
       "      <td>W</td>\n",
       "      <td>941</td>\n",
       "      <td>W</td>\n",
       "      <td>W 95.7%; L 3.0%; C 0.3%; R 0.3%; S 0.3%</td>\n",
       "      <td>392</td>\n",
       "      <td>7</td>\n",
       "      <td>hydrophobic, !charged, !negative, !positive, !...</td>\n",
       "    </tr>\n",
       "    <tr>\n",
       "      <th>4</th>\n",
       "      <td>417</td>\n",
       "      <td>F</td>\n",
       "      <td>696</td>\n",
       "      <td>F</td>\n",
       "      <td>F 95.2%; Y 2.5%; G 1.0%; A 0.3%; L 0.3%; W 0.3%</td>\n",
       "      <td>392</td>\n",
       "      <td>10</td>\n",
       "      <td>aromatic, hydrophobic, !aliphatic, !charged, !...</td>\n",
       "    </tr>\n",
       "    <tr>\n",
       "      <th>5</th>\n",
       "      <td>660</td>\n",
       "      <td>L</td>\n",
       "      <td>1081</td>\n",
       "      <td>L</td>\n",
       "      <td>L 41.1%; Q 0.8%; A 0.3%</td>\n",
       "      <td>166</td>\n",
       "      <td>0</td>\n",
       "      <td>-</td>\n",
       "    </tr>\n",
       "    <tr>\n",
       "      <th>6</th>\n",
       "      <td>661</td>\n",
       "      <td>A</td>\n",
       "      <td>1082</td>\n",
       "      <td>A</td>\n",
       "      <td>A 21.8%; S 17.5%; G 1.5%; H 0.3%</td>\n",
       "      <td>162</td>\n",
       "      <td>0</td>\n",
       "      <td>-</td>\n",
       "    </tr>\n",
       "    <tr>\n",
       "      <th>7</th>\n",
       "      <td>662</td>\n",
       "      <td>R</td>\n",
       "      <td>1083</td>\n",
       "      <td>R</td>\n",
       "      <td>R 38.8%</td>\n",
       "      <td>153</td>\n",
       "      <td>0</td>\n",
       "      <td>-</td>\n",
       "    </tr>\n",
       "    <tr>\n",
       "      <th>8</th>\n",
       "      <td>663</td>\n",
       "      <td>F</td>\n",
       "      <td>1084</td>\n",
       "      <td>L</td>\n",
       "      <td>L 11.4%; F 4.8%; Y 0.3%</td>\n",
       "      <td>65</td>\n",
       "      <td>0</td>\n",
       "      <td>-</td>\n",
       "    </tr>\n",
       "    <tr>\n",
       "      <th>9</th>\n",
       "      <td>13</td>\n",
       "      <td>G</td>\n",
       "      <td>12</td>\n",
       "      <td>G</td>\n",
       "      <td>G 98.2%; A 0.3%</td>\n",
       "      <td>388</td>\n",
       "      <td>10</td>\n",
       "      <td>hydrophobic, small, tiny, !aliphatic, !aromati...</td>\n",
       "    </tr>\n",
       "    <tr>\n",
       "      <th>10</th>\n",
       "      <td>14</td>\n",
       "      <td>G</td>\n",
       "      <td>13</td>\n",
       "      <td>G</td>\n",
       "      <td>G 98.5%</td>\n",
       "      <td>388</td>\n",
       "      <td>11</td>\n",
       "      <td>hydrophobic, small, tiny, !aliphatic, !aromati...</td>\n",
       "    </tr>\n",
       "    <tr>\n",
       "      <th>11</th>\n",
       "      <td>15</td>\n",
       "      <td>G</td>\n",
       "      <td>14</td>\n",
       "      <td>G</td>\n",
       "      <td>G 98.5%</td>\n",
       "      <td>388</td>\n",
       "      <td>11</td>\n",
       "      <td>hydrophobic, small, tiny, !aliphatic, !aromati...</td>\n",
       "    </tr>\n",
       "    <tr>\n",
       "      <th>12</th>\n",
       "      <td>16</td>\n",
       "      <td>S</td>\n",
       "      <td>15</td>\n",
       "      <td>S</td>\n",
       "      <td>S 74.6%; P 19.3%; T 3.8%; A 0.8%</td>\n",
       "      <td>388</td>\n",
       "      <td>6</td>\n",
       "      <td>small, !aliphatic, !aromatic, !charged, !negat...</td>\n",
       "    </tr>\n",
       "    <tr>\n",
       "      <th>13</th>\n",
       "      <td>17</td>\n",
       "      <td>S</td>\n",
       "      <td>16</td>\n",
       "      <td>C</td>\n",
       "      <td>C 36.3%; A 28.7%; S 18.0%; T 15.5%</td>\n",
       "      <td>388</td>\n",
       "      <td>7</td>\n",
       "      <td>small, !aliphatic, !aromatic, !charged, !negat...</td>\n",
       "    </tr>\n",
       "    <tr>\n",
       "      <th>14</th>\n",
       "      <td>18</td>\n",
       "      <td>G</td>\n",
       "      <td>21</td>\n",
       "      <td>G</td>\n",
       "      <td>G 98.0%; A 0.5%</td>\n",
       "      <td>388</td>\n",
       "      <td>10</td>\n",
       "      <td>hydrophobic, small, tiny, !aliphatic, !aromati...</td>\n",
       "    </tr>\n",
       "  </tbody>\n",
       "</table>\n",
       "</div>"
      ],
      "text/plain": [
       "    Position in Reference Reference  Position in alignment Consensus_label  \\\n",
       "0                     567         H                    942               H   \n",
       "1                     616         N                   1018               N   \n",
       "2                      98         F                    148               F   \n",
       "3                     566         W                    941               W   \n",
       "4                     417         F                    696               F   \n",
       "5                     660         L                   1081               L   \n",
       "6                     661         A                   1082               A   \n",
       "7                     662         R                   1083               R   \n",
       "8                     663         F                   1084               L   \n",
       "9                      13         G                     12               G   \n",
       "10                     14         G                     13               G   \n",
       "11                     15         G                     14               G   \n",
       "12                     16         S                     15               S   \n",
       "13                     17         S                     16               C   \n",
       "14                     18         G                     21               G   \n",
       "\n",
       "                              Consensus_description  Occupancy  \\\n",
       "0                           H 99.2%; N 0.3%; R 0.3%        393   \n",
       "1                                   N 95.9%; H 3.3%        391   \n",
       "2                           F 96.2%; G 2.0%; A 1.3%        392   \n",
       "3           W 95.7%; L 3.0%; C 0.3%; R 0.3%; S 0.3%        392   \n",
       "4   F 95.2%; Y 2.5%; G 1.0%; A 0.3%; L 0.3%; W 0.3%        392   \n",
       "5                           L 41.1%; Q 0.8%; A 0.3%        166   \n",
       "6                  A 21.8%; S 17.5%; G 1.5%; H 0.3%        162   \n",
       "7                                           R 38.8%        153   \n",
       "8                           L 11.4%; F 4.8%; Y 0.3%         65   \n",
       "9                                   G 98.2%; A 0.3%        388   \n",
       "10                                          G 98.5%        388   \n",
       "11                                          G 98.5%        388   \n",
       "12                 S 74.6%; P 19.3%; T 3.8%; A 0.8%        388   \n",
       "13               C 36.3%; A 28.7%; S 18.0%; T 15.5%        388   \n",
       "14                                  G 98.0%; A 0.5%        388   \n",
       "\n",
       "    Conservation_level                           Conservation_description  \n",
       "0                   10  aromatic, charged, hydrophobic, polar, positiv...  \n",
       "1                    5      polar, !aliphatic, !negative, !proline, !tiny  \n",
       "2                   10  aromatic, hydrophobic, !aliphatic, !charged, !...  \n",
       "3                    7  hydrophobic, !charged, !negative, !positive, !...  \n",
       "4                   10  aromatic, hydrophobic, !aliphatic, !charged, !...  \n",
       "5                    0                                                  -  \n",
       "6                    0                                                  -  \n",
       "7                    0                                                  -  \n",
       "8                    0                                                  -  \n",
       "9                   10  hydrophobic, small, tiny, !aliphatic, !aromati...  \n",
       "10                  11  hydrophobic, small, tiny, !aliphatic, !aromati...  \n",
       "11                  11  hydrophobic, small, tiny, !aliphatic, !aromati...  \n",
       "12                   6  small, !aliphatic, !aromatic, !charged, !negat...  \n",
       "13                   7  small, !aliphatic, !aromatic, !charged, !negat...  \n",
       "14                  10  hydrophobic, small, tiny, !aliphatic, !aromati...  "
      ]
     },
     "execution_count": 35,
     "metadata": {},
     "output_type": "execute_result"
    }
   ],
   "source": [
    "# The annotation of the picked residues\n",
    "ids = [ i for _ids in dict_annotation_residues.values() for i in _ids ]\n",
    "\n",
    "df_picked = pd.DataFrame(ids, columns=[\"Position in Reference\"])\n",
    "df_picked[\"Reference\"] = df_picked[\"Position in Reference\"].apply(lambda x: Reference_seq[id2id_align[x]])\n",
    "df_picked[\"Position in alignment\"] = df_picked[\"Position in Reference\"].apply(lambda x: id2id_align[x])\n",
    "df_picked_merge = df_picked.merge(\n",
    "    df_annotation[[\"Consensus_label\", \"Consensus_description\", \"Occupancy\", \"Conservation_level\", \"Conservation_description\"]], \n",
    "    left_on=\"Position in alignment\", right_index=True\n",
    ")\n",
    "df_picked_merge.to_csv(join(RESULTDIR, \"hmmsearch_600_700_added.annotation.residue_picked.txt\"), sep='\\t')\n",
    "df_picked_merge"
   ]
  },
  {
   "cell_type": "markdown",
   "metadata": {},
   "source": [
    "#### seq_score definition"
   ]
  },
  {
   "cell_type": "code",
   "execution_count": 36,
   "metadata": {},
   "outputs": [],
   "source": [
    "alphabet = ['-', 'A', 'C', 'D', 'E', 'F', 'G', 'H', 'I', 'K', 'L', 'M', 'N', 'P', 'Q', 'R', 'S', 'T', 'V', 'W', 'Y', 'X']\n",
    "# X for what?\n",
    "score_dict = {}\n",
    "for resid, resnames, score in [\n",
    "    (98, \"FWY\", 5), (417, \"FWY\", 2), (566, \"FWY\", 2),\n",
    "    (567, \"H\", 5), (616, \"HNP\", 5),\n",
    "    (13, \"G\", 5), (15, \"G\", 5), (18, \"G\", 5),\n",
    "    (660, \"-\", -0.1), (661, \"-\", -0.1), (662, \"-\", -0.1), (663, \"-\", -0.1),\n",
    "]:\n",
    "    if not resid in score_dict.keys():\n",
    "        score_dict[resid] = { resname:0 for resname in alphabet}\n",
    "    for resname in resnames:\n",
    "        score_dict[resid][resname] = score\n",
    "\n",
    "def score_seq(seq:str, score_dict:dict=score_dict, id2id_align:dict=id2id_align):\n",
    "    \"\"\"\n",
    "    seq_score:\n",
    "        seq (str): The amino acid sequence\n",
    "        score_dict (dict):  (resid, resname) -> score.\n",
    "        id2id_align (dict): original-id -> MSA-id.\n",
    "\n",
    "    \"\"\"\n",
    "    _score = 0\n",
    "    for resid in score_dict.keys():\n",
    "        resname = seq[id2id_align[resid]].upper()\n",
    "        _score += score_dict[resid][resname]\n",
    "    return _score"
   ]
  },
  {
   "cell_type": "markdown",
   "metadata": {},
   "source": [
    "Check if all active sequences fulfill the motif."
   ]
  },
  {
   "cell_type": "code",
   "execution_count": 37,
   "metadata": {},
   "outputs": [
    {
     "name": "stdout",
     "output_type": "stream",
     "text": [
      "0  EAA66666.1  33.9\n",
      "1  AAR89538.1  34.0\n",
      "2  AAV66467.2  34.0\n",
      "3  AAV66468.1  33.6\n",
      "4  AAF82788.1  34.0\n",
      "5  XP_001838223.2  33.6\n",
      "6  XP_007868339.1  33.6\n",
      "7  CAM84030.1  34.0\n",
      "8  CAM84031.1  32.0\n",
      "    H 567, N 616, F 98, R 566, F 417, L 660, A 661, R 662, F 663, G 13, G 14, G 15, S 16, T 17, G 18, \n",
      "9  CAM84032.1  34.0\n",
      "10  AAB57849.1  34.0\n",
      "11  AAB57850.1  34.0\n",
      "12  AFO55203.1  31.6\n",
      "    H 567, N 616, F 98, W 566, - 417, - 660, - 661, - 662, - 663, G 13, G 14, G 15, P 16, A 17, G 18, \n",
      "13  AHC95541.1  34.0\n",
      "14  AAL56054.1  33.9\n",
      "15  CDG66232.1  33.6\n",
      "17  AAF02494.1  34.0\n",
      "18  AAF02495.1  34.0\n",
      "19  AAQ99151.1  34.0\n",
      "20  AAV66465.1  34.0\n",
      "21  AAV66466.1  34.0\n"
     ]
    }
   ],
   "source": [
    "for i, acc in enumerate(known_sequences['accession']):\n",
    "    if sum(df_align['id'].str.startswith(acc)) > 0:\n",
    "        seq_ = df_align[df_align['id'].str.startswith(acc)]['seq'].values[0]\n",
    "        score_ = score_seq(seq_)\n",
    "        print(f\"{i}  {acc}  {score_:.1f}\")\n",
    "        if score_ < 33.5:\n",
    "            print(\" \" * 4, end=\"\")\n",
    "            for _id in ids:\n",
    "                print(seq_[id2id_align[_id]], _id, end=', ')\n",
    "            print()"
   ]
  },
  {
   "cell_type": "code",
   "execution_count": 38,
   "metadata": {},
   "outputs": [
    {
     "name": "stdout",
     "output_type": "stream",
     "text": [
      "363\n"
     ]
    }
   ],
   "source": [
    "df_align['seq_score'] = df_align['seq'].apply(score_seq)\n",
    "print(sum(df_align['seq_score'] >= 33.5)) # 363 = 344 + 19"
   ]
  },
  {
   "cell_type": "markdown",
   "metadata": {},
   "source": [
    "Of the sequences that satisfy the threshold, 344 are inferred and 19 are known."
   ]
  },
  {
   "cell_type": "code",
   "execution_count": 39,
   "metadata": {},
   "outputs": [
    {
     "data": {
      "image/png": "[encoded data removed]",
      "text/plain": [
       "<Figure size 1800x1200 with 1 Axes>"
      ]
     },
     "metadata": {},
     "output_type": "display_data"
    }
   ],
   "source": [
    "import matplotlib.pyplot as plt\n",
    "\n",
    "plt.figure(figsize=(6,4), dpi=300)\n",
    "plt.hist(df_align['seq_score'], bins=range(0,35,1), color='lightcoral', edgecolor='black')\n",
    "\n",
    "# 设置标题和标签\n",
    "plt.title('Distribution of Seq Scores', fontsize=16)\n",
    "plt.xlabel('Seq Score', fontsize=14)\n",
    "plt.ylabel('Frequency', fontsize=14)\n",
    "\n",
    "# 添加网格线以提高可读性\n",
    "plt.grid(True, linestyle='--', alpha=0.7)\n",
    "\n",
    "# 调整布局以防止重叠\n",
    "plt.tight_layout()\n",
    "\n",
    "# 显示图形\n",
    "plt.show()\n"
   ]
  },
  {
   "cell_type": "markdown",
   "metadata": {},
   "source": [
    "### 3.2 tax_score"
   ]
  },
  {
   "cell_type": "code",
   "execution_count": 40,
   "metadata": {},
   "outputs": [
    {
     "data": {
      "text/html": [
       "<div>\n",
       "<style scoped>\n",
       "    .dataframe tbody tr th:only-of-type {\n",
       "        vertical-align: middle;\n",
       "    }\n",
       "\n",
       "    .dataframe tbody tr th {\n",
       "        vertical-align: top;\n",
       "    }\n",
       "\n",
       "    .dataframe thead th {\n",
       "        text-align: right;\n",
       "    }\n",
       "</style>\n",
       "<table border=\"1\" class=\"dataframe\">\n",
       "  <thead>\n",
       "    <tr style=\"text-align: right;\">\n",
       "      <th></th>\n",
       "      <th>Organism</th>\n",
       "      <th>Commentary</th>\n",
       "      <th>Reference</th>\n",
       "    </tr>\n",
       "  </thead>\n",
       "  <tbody>\n",
       "    <tr>\n",
       "      <th>0</th>\n",
       "      <td>Achatina achatina</td>\n",
       "      <td>-</td>\n",
       "      <td>484921</td>\n",
       "    </tr>\n",
       "    <tr>\n",
       "      <th>1</th>\n",
       "      <td>Arion ater</td>\n",
       "      <td>-</td>\n",
       "      <td>484921</td>\n",
       "    </tr>\n",
       "    <tr>\n",
       "      <th>2</th>\n",
       "      <td>Arthrobacter globiformis</td>\n",
       "      <td>cf. EC 1.1.3.17</td>\n",
       "      <td>762910</td>\n",
       "    </tr>\n",
       "    <tr>\n",
       "      <th>3</th>\n",
       "      <td>Aspergillus ochraceus</td>\n",
       "      <td>-</td>\n",
       "      <td>675045</td>\n",
       "    </tr>\n",
       "    <tr>\n",
       "      <th>4</th>\n",
       "      <td>Aspergillus ochraceus</td>\n",
       "      <td>AIU 031</td>\n",
       "      <td>675045, 688123</td>\n",
       "    </tr>\n",
       "  </tbody>\n",
       "</table>\n",
       "</div>"
      ],
      "text/plain": [
       "                   Organism       Commentary       Reference\n",
       "0         Achatina achatina                -          484921\n",
       "1                Arion ater                -          484921\n",
       "2  Arthrobacter globiformis  cf. EC 1.1.3.17          762910\n",
       "3     Aspergillus ochraceus                -          675045\n",
       "4     Aspergillus ochraceus          AIU 031  675045, 688123"
      ]
     },
     "execution_count": 40,
     "metadata": {},
     "output_type": "execute_result"
    }
   ],
   "source": [
    "ec_organism = pd.read_csv(filenames['brenda_organism'], sep=\"\\t\")\n",
    "ec_organism.head()"
   ]
  },
  {
   "cell_type": "markdown",
   "metadata": {},
   "source": [
    "Download the files from the [NCBI Taxonomy ftp](https://ftp.ncbi.nlm.nih.gov/pub/taxonomy/) site and preprocessed to obtain the required mapping files.\n",
    "\n",
    "The preprocess script was the `.\\script\\process_ncbi_tax.ipynb`. The script only needs to be ran once for the downloaded database, and the cached results can be reused for each evaluation."
   ]
  },
  {
   "cell_type": "code",
   "execution_count": 41,
   "metadata": {},
   "outputs": [],
   "source": [
    "# TAXDUMPDIR = \"D:\\\\bioinformatics\\\\taxdump\\\\db\"\n",
    "# name2taxid = pd.read_csv(join(TAXDUMPDIR, \"name_taxid.tsv\"), sep=\"\\t\", index_col=0)['tax_id'].to_dict()\n",
    "# taxid2name = pd.read_csv(join(TAXDUMPDIR, \"taxid_name.tsv\"), sep=\"\\t\", index_col=0)['name_txt'].to_dict()\n",
    "# taxid2score = pd.read_csv(join(TAXDUMPDIR, \"taxid_counts.tsv\"), sep=\"\\t\", index_col=0)['score'].to_dict()\n",
    "# taxidrankedlineage = pd.read_csv(join(TAXDUMPDIR, \"taxidrankedlineage.tsv\"), sep=\"\\t\", index_col=0)"
   ]
  },
  {
   "cell_type": "markdown",
   "metadata": {},
   "source": [
    "Alternatively, a localized database used in the current process is compiled here to support the current script run."
   ]
  },
  {
   "cell_type": "code",
   "execution_count": 42,
   "metadata": {},
   "outputs": [],
   "source": [
    "TAXDUMPDIR_L = join(CACHEDIR, \"taxdump_db\")\n",
    "name2taxid = pd.read_csv(join(TAXDUMPDIR_L, \"name_taxid.tsv\"), sep=\"\\t\", index_col=0)['tax_id'].to_dict()\n",
    "taxid2name = pd.read_csv(join(TAXDUMPDIR_L, \"taxid_name.tsv\"), sep=\"\\t\", index_col=0)['name_txt'].to_dict()\n",
    "taxid2score = pd.read_csv(join(TAXDUMPDIR_L, \"taxid_counts.tsv\"), sep=\"\\t\", index_col=0)['score'].to_dict()\n",
    "taxidrankedlineage = pd.read_csv(join(TAXDUMPDIR_L, \"taxidrankedlineage.tsv\"), sep=\"\\t\", index_col=0)"
   ]
  },
  {
   "cell_type": "code",
   "execution_count": 43,
   "metadata": {},
   "outputs": [],
   "source": [
    "def organism2taxid(organism:str):\n",
    "    o = organism\n",
    "    taxid, cid, name = -1, 0, \"\"\n",
    "    while len(o):\n",
    "        cid += 1\n",
    "        if o in name2taxid.keys():\n",
    "            taxid = name2taxid[o]\n",
    "            name = taxid2name[taxid]\n",
    "            break\n",
    "        o = \" \".join(o.split(\" \")[:-1])\n",
    "    return taxid, cid, name"
   ]
  },
  {
   "cell_type": "code",
   "execution_count": 44,
   "metadata": {},
   "outputs": [],
   "source": [
    "data = []\n",
    "for org in ec_organism['Organism'].unique():\n",
    "    taxid, cid, name = organism2taxid(org)\n",
    "    data.append([org, taxid, cid, name])\n",
    "df_active_organisms = pd.DataFrame(data, columns=[\"Organism\", \"tax_id\", \"curate_id\", \"name_txt\"])"
   ]
  },
  {
   "cell_type": "code",
   "execution_count": 45,
   "metadata": {},
   "outputs": [
    {
     "data": {
      "text/html": [
       "<div>\n",
       "<style scoped>\n",
       "    .dataframe tbody tr th:only-of-type {\n",
       "        vertical-align: middle;\n",
       "    }\n",
       "\n",
       "    .dataframe tbody tr th {\n",
       "        vertical-align: top;\n",
       "    }\n",
       "\n",
       "    .dataframe thead th {\n",
       "        text-align: right;\n",
       "    }\n",
       "</style>\n",
       "<table border=\"1\" class=\"dataframe\">\n",
       "  <thead>\n",
       "    <tr style=\"text-align: right;\">\n",
       "      <th></th>\n",
       "      <th>Organism</th>\n",
       "      <th>tax_id</th>\n",
       "      <th>curate_id</th>\n",
       "      <th>name_txt</th>\n",
       "    </tr>\n",
       "  </thead>\n",
       "  <tbody>\n",
       "    <tr>\n",
       "      <th>0</th>\n",
       "      <td>Achatina achatina</td>\n",
       "      <td>1442373</td>\n",
       "      <td>1</td>\n",
       "      <td>Achatina achatina</td>\n",
       "    </tr>\n",
       "    <tr>\n",
       "      <th>1</th>\n",
       "      <td>Arion ater</td>\n",
       "      <td>145126</td>\n",
       "      <td>1</td>\n",
       "      <td>Arion ater</td>\n",
       "    </tr>\n",
       "    <tr>\n",
       "      <th>2</th>\n",
       "      <td>Arthrobacter globiformis</td>\n",
       "      <td>1665</td>\n",
       "      <td>1</td>\n",
       "      <td>Arthrobacter globiformis</td>\n",
       "    </tr>\n",
       "    <tr>\n",
       "      <th>3</th>\n",
       "      <td>Aspergillus ochraceus</td>\n",
       "      <td>40380</td>\n",
       "      <td>1</td>\n",
       "      <td>Aspergillus ochraceus</td>\n",
       "    </tr>\n",
       "    <tr>\n",
       "      <th>4</th>\n",
       "      <td>Aspergillus ochraceus AIU 031</td>\n",
       "      <td>40380</td>\n",
       "      <td>3</td>\n",
       "      <td>Aspergillus ochraceus</td>\n",
       "    </tr>\n",
       "  </tbody>\n",
       "</table>\n",
       "</div>"
      ],
      "text/plain": [
       "                        Organism   tax_id  curate_id                  name_txt\n",
       "0              Achatina achatina  1442373          1         Achatina achatina\n",
       "1                     Arion ater   145126          1                Arion ater\n",
       "2       Arthrobacter globiformis     1665          1  Arthrobacter globiformis\n",
       "3          Aspergillus ochraceus    40380          1     Aspergillus ochraceus\n",
       "4  Aspergillus ochraceus AIU 031    40380          3     Aspergillus ochraceus"
      ]
     },
     "execution_count": 45,
     "metadata": {},
     "output_type": "execute_result"
    }
   ],
   "source": [
    "df_active_organisms.to_csv(join(RESULTDIR, 'active_organisms.tsv'), sep='\\t', index=False)\n",
    "df_active_organisms.head()"
   ]
  },
  {
   "cell_type": "markdown",
   "metadata": {},
   "source": [
    "Compute the tax_score(*tax_id*)"
   ]
  },
  {
   "cell_type": "code",
   "execution_count": 46,
   "metadata": {},
   "outputs": [],
   "source": [
    "df_active_organisms_taxid = pd.DataFrame(df_active_organisms, columns=['tax_id'])\n",
    "df_active_organisms_taxid = df_active_organisms_taxid.merge(taxidrankedlineage, left_on='tax_id', right_on='tax_name_tax_id')\n",
    "active_taxids = df_active_organisms_taxid.stack().value_counts().to_dict()\n",
    "for key, value in active_taxids.items():\n",
    "    active_taxids[key] = value * taxid2score[key]"
   ]
  },
  {
   "cell_type": "markdown",
   "metadata": {},
   "source": [
    "#### Computation of tax_score"
   ]
  },
  {
   "cell_type": "markdown",
   "metadata": {},
   "source": [
    "Map the sequence to the taxid"
   ]
  },
  {
   "cell_type": "code",
   "execution_count": 47,
   "metadata": {},
   "outputs": [],
   "source": [
    "known_accessions = set(known_sequences['accession'])\n",
    "\n",
    "df_align['acc'] = df_align['id'].apply(lambda x: x.split('/')[-2].split('|')[-1])\n",
    "df_align['active_sequence'] = df_align['acc'].apply(lambda x: x in known_accessions)\n",
    "\n",
    "# active_sequence: if known(reported by the paper)"
   ]
  },
  {
   "cell_type": "code",
   "execution_count": 48,
   "metadata": {},
   "outputs": [],
   "source": [
    "# TODO: unify the dealing with '_'\n",
    "acc2taxid = df_hmmsearch_600_700.set_index('acc')['taxid'].to_dict()\n",
    "acc2taxid.update({\n",
    "    key.split('_')[0]: value\n",
    "        for key, value in acc2taxid.items()\n",
    "})\n",
    "# update the known sequences taxid to the dict\n",
    "active_accession2taxid = known_sequences.set_index('accession')['taxid'].to_dict()\n",
    "acc2taxid.update(active_accession2taxid)\n",
    "\n",
    "df_align['taxid'] = df_align['acc'].apply(lambda x: acc2taxid[x] if x in acc2taxid.keys() else acc2taxid[x.split('_')[0]]).astype(int)"
   ]
  },
  {
   "cell_type": "code",
   "execution_count": 49,
   "metadata": {},
   "outputs": [],
   "source": [
    "df_align_taxid = pd.DataFrame(df_align['taxid'].unique(), columns=['taxid'])\n",
    "df_align_taxid = df_align_taxid.merge(taxidrankedlineage, left_on='taxid', right_on='tax_name_tax_id')\n",
    "df_align_taxid['score'] = df_align_taxid.applymap(lambda x: active_taxids[x] if x in active_taxids.keys() else 0).sum(axis=1)\n",
    "\n",
    "sequence_taxid_score = df_align_taxid.set_index('taxid')['score'].to_dict()\n",
    "df_align['tax_score'] = df_align['taxid'].map(sequence_taxid_score)\n",
    "df_align['organism'] = df_align['taxid'].map(taxid2name)"
   ]
  },
  {
   "cell_type": "code",
   "execution_count": 50,
   "metadata": {},
   "outputs": [
    {
     "data": {
      "text/html": [
       "<div>\n",
       "<style scoped>\n",
       "    .dataframe tbody tr th:only-of-type {\n",
       "        vertical-align: middle;\n",
       "    }\n",
       "\n",
       "    .dataframe tbody tr th {\n",
       "        vertical-align: top;\n",
       "    }\n",
       "\n",
       "    .dataframe thead th {\n",
       "        text-align: right;\n",
       "    }\n",
       "</style>\n",
       "<table border=\"1\" class=\"dataframe\">\n",
       "  <thead>\n",
       "    <tr style=\"text-align: right;\">\n",
       "      <th></th>\n",
       "      <th>id</th>\n",
       "      <th>seq</th>\n",
       "      <th>seq_score</th>\n",
       "      <th>acc</th>\n",
       "      <th>active_sequence</th>\n",
       "      <th>taxid</th>\n",
       "      <th>tax_score</th>\n",
       "      <th>organism</th>\n",
       "    </tr>\n",
       "  </thead>\n",
       "  <tbody>\n",
       "    <tr>\n",
       "      <th>9</th>\n",
       "      <td>CAM84032.1/1-664</td>\n",
       "      <td>MAIPDEFDIIVVGGGST----GCCVAGR----------LANLDdQN...</td>\n",
       "      <td>34.0</td>\n",
       "      <td>CAM84032.1</td>\n",
       "      <td>True</td>\n",
       "      <td>870730</td>\n",
       "      <td>3.076742</td>\n",
       "      <td>Ogataea angusta</td>\n",
       "    </tr>\n",
       "    <tr>\n",
       "      <th>14</th>\n",
       "      <td>CAM84031.1/1-664</td>\n",
       "      <td>MAIPDEFDIIVVGGGST----GCCVAGR----------LANLDdQN...</td>\n",
       "      <td>32.0</td>\n",
       "      <td>CAM84031.1</td>\n",
       "      <td>True</td>\n",
       "      <td>870730</td>\n",
       "      <td>3.076742</td>\n",
       "      <td>Ogataea angusta</td>\n",
       "    </tr>\n",
       "    <tr>\n",
       "      <th>4</th>\n",
       "      <td>CAM84030.1/1-664</td>\n",
       "      <td>MAIPDEFDIIVVGGGST----GCCIAGR----------LANLDdQN...</td>\n",
       "      <td>34.0</td>\n",
       "      <td>CAM84030.1</td>\n",
       "      <td>True</td>\n",
       "      <td>870730</td>\n",
       "      <td>3.076742</td>\n",
       "      <td>Ogataea angusta</td>\n",
       "    </tr>\n",
       "    <tr>\n",
       "      <th>6</th>\n",
       "      <td>AAB57849.1/1-663</td>\n",
       "      <td>MAIPEEFDILVLGGGSS----GSCIAGR----------LANLD-HS...</td>\n",
       "      <td>34.0</td>\n",
       "      <td>AAB57849.1</td>\n",
       "      <td>True</td>\n",
       "      <td>4922</td>\n",
       "      <td>2.313146</td>\n",
       "      <td>Komagataella pastoris</td>\n",
       "    </tr>\n",
       "    <tr>\n",
       "      <th>19</th>\n",
       "      <td>AAB57850.1/1-663</td>\n",
       "      <td>MAIPEEFDILVLGGGSS----GSCIAGR----------LANLD-HS...</td>\n",
       "      <td>34.0</td>\n",
       "      <td>AAB57850.1</td>\n",
       "      <td>True</td>\n",
       "      <td>4922</td>\n",
       "      <td>2.313146</td>\n",
       "      <td>Komagataella pastoris</td>\n",
       "    </tr>\n",
       "  </tbody>\n",
       "</table>\n",
       "</div>"
      ],
      "text/plain": [
       "                  id                                                seq  \\\n",
       "9   CAM84032.1/1-664  MAIPDEFDIIVVGGGST----GCCVAGR----------LANLDdQN...   \n",
       "14  CAM84031.1/1-664  MAIPDEFDIIVVGGGST----GCCVAGR----------LANLDdQN...   \n",
       "4   CAM84030.1/1-664  MAIPDEFDIIVVGGGST----GCCIAGR----------LANLDdQN...   \n",
       "6   AAB57849.1/1-663  MAIPEEFDILVLGGGSS----GSCIAGR----------LANLD-HS...   \n",
       "19  AAB57850.1/1-663  MAIPEEFDILVLGGGSS----GSCIAGR----------LANLD-HS...   \n",
       "\n",
       "    seq_score         acc  active_sequence   taxid  tax_score  \\\n",
       "9        34.0  CAM84032.1             True  870730   3.076742   \n",
       "14       32.0  CAM84031.1             True  870730   3.076742   \n",
       "4        34.0  CAM84030.1             True  870730   3.076742   \n",
       "6        34.0  AAB57849.1             True    4922   2.313146   \n",
       "19       34.0  AAB57850.1             True    4922   2.313146   \n",
       "\n",
       "                 organism  \n",
       "9         Ogataea angusta  \n",
       "14        Ogataea angusta  \n",
       "4         Ogataea angusta  \n",
       "6   Komagataella pastoris  \n",
       "19  Komagataella pastoris  "
      ]
     },
     "execution_count": 50,
     "metadata": {},
     "output_type": "execute_result"
    }
   ],
   "source": [
    "df_align.sort_values(by='tax_score', ascending=False).head(5)"
   ]
  },
  {
   "cell_type": "markdown",
   "metadata": {},
   "source": [
    "### Summary"
   ]
  },
  {
   "cell_type": "markdown",
   "metadata": {},
   "source": [
    "save the results"
   ]
  },
  {
   "cell_type": "code",
   "execution_count": 51,
   "metadata": {},
   "outputs": [],
   "source": [
    "df_align[['id', 'acc', 'active_sequence', 'seq_score', 'taxid', 'organism', 'tax_score']].to_csv(\n",
    "    join(RESULTDIR, \"sequence_results.tsv\"), \n",
    "    sep='\\t', index=False\n",
    ")"
   ]
  },
  {
   "cell_type": "markdown",
   "metadata": {},
   "source": [
    "The result table can be inspected to select the top ranked sequences for further characterization."
   ]
  },
  {
   "cell_type": "markdown",
   "metadata": {},
   "source": [
    "## 4. Diversity"
   ]
  },
  {
   "cell_type": "markdown",
   "metadata": {},
   "source": [
    "### 4.1 Sequence-based"
   ]
  },
  {
   "cell_type": "markdown",
   "metadata": {},
   "source": [
    "Construct the sequence similarity networks to select representative sequences."
   ]
  },
  {
   "cell_type": "markdown",
   "metadata": {},
   "source": [
    "Pick the sequences with all catalytic and binding sites, and reasonable protein sequences."
   ]
  },
  {
   "cell_type": "code",
   "execution_count": 52,
   "metadata": {},
   "outputs": [],
   "source": [
    "df_align_picked = df_align[\n",
    "    (df_align['seq_score'] >= 33.5) & ~(df_align['seq'].apply(lambda x: 'X' in x))\n",
    "].copy()\n",
    "\n",
    "\n",
    "def deal_acc(x:str):\n",
    "    x = x.split('/')[0]\n",
    "    x = x.split(' ')[0]\n",
    "    if '|' in x:\n",
    "        x = x.split('|')[1]\n",
    "    return x\n",
    "\n",
    "df_align_picked['sequence_id'] = df_align_picked['id'].apply(deal_acc)\n",
    "picked_sequence_id = set(df_align_picked['sequence_id'])\n",
    "\n",
    "len(df_align_picked) # 360\n",
    "df_align_picked.to_csv(\n",
    "    join(RESULTDIR, \"sequence_picked_results.tsv\"), \n",
    "    sep='\\t', index=False\n",
    ")"
   ]
  },
  {
   "cell_type": "code",
   "execution_count": 53,
   "metadata": {},
   "outputs": [
    {
     "data": {
      "text/plain": [
       "360"
      ]
     },
     "execution_count": 53,
     "metadata": {},
     "output_type": "execute_result"
    }
   ],
   "source": [
    "from Bio import SeqIO\n",
    "from Bio.Seq import Seq\n",
    "from Bio.SeqRecord import SeqRecord\n",
    "\n",
    "seqs = []\n",
    "for seqrecord in SeqIO.parse(join(CACHEDIR, \"hmmsearch_600_700_added.fasta\"), \"fasta\"):\n",
    "    if deal_acc(seqrecord.id) in picked_sequence_id:\n",
    "        seqs.append(seqrecord)\n",
    "SeqIO.write(seqs, join(CACHEDIR, \"sequence_scored.fasta\"), \"fasta\")\n",
    "# 360"
   ]
  },
  {
   "cell_type": "markdown",
   "metadata": {},
   "source": [
    "Calculate the similarity between two two sequences using [USEARCH](https://www.drive5.com/usearch/)"
   ]
  },
  {
   "cell_type": "code",
   "execution_count": 54,
   "metadata": {},
   "outputs": [
    {
     "name": "stdout",
     "output_type": "stream",
     "text": [
      "cd d:\\Python\\aox\\enzyme-mining-aox\n"
     ]
    }
   ],
   "source": [
    "print(f\"cd {CURRENT_DIR}\")"
   ]
  },
  {
   "cell_type": "markdown",
   "metadata": {},
   "source": [
    "`D:/bioinformatics/usearch11.0.667_win32.exe -allpairs_global \"./data/aox/cache/sequence_scored.fasta\" -userout \"./data/aox/cache/sequence_scored.userout.tsv\" -userfields query+target+id+ql+tl -acceptall`"
   ]
  },
  {
   "cell_type": "markdown",
   "metadata": {},
   "source": [
    "deal with the results"
   ]
  },
  {
   "cell_type": "code",
   "execution_count": 55,
   "metadata": {},
   "outputs": [],
   "source": [
    "df_pairwise = pd.read_csv(join(CACHEDIR, \"sequence_scored.userout.tsv\"), sep='\\t', header=None)\n",
    "df_pairwise.columns = ['query', 'target', 'id', 'ql', 'tl']\n",
    "df_pairwise['query_sequence_id'] = df_pairwise['query'].apply(deal_acc)\n",
    "df_pairwise['target_sequence_id'] = df_pairwise['target'].apply(deal_acc)\n",
    "# 1 - id% as distance.\n",
    "df_pairwise['distance'] = df_pairwise['id'].apply(lambda x: 1-x*0.01)\n",
    "df1 = df_pairwise[['query_sequence_id', 'target_sequence_id', 'distance']].copy()\n",
    "df2 = df_pairwise[['target_sequence_id', 'query_sequence_id', 'distance']].copy()\n",
    "df2.columns = ['query_sequence_id', 'target_sequence_id', 'distance']\n",
    "df_distance_matrix = pd.concat([df1, df2]).pivot_table(index='query_sequence_id', columns='target_sequence_id', values='distance', aggfunc='sum').fillna(0)"
   ]
  },
  {
   "cell_type": "code",
   "execution_count": 56,
   "metadata": {},
   "outputs": [
    {
     "name": "stdout",
     "output_type": "stream",
     "text": [
      "(360, 360)\n"
     ]
    },
    {
     "data": {
      "text/html": [
       "<div>\n",
       "<style scoped>\n",
       "    .dataframe tbody tr th:only-of-type {\n",
       "        vertical-align: middle;\n",
       "    }\n",
       "\n",
       "    .dataframe tbody tr th {\n",
       "        vertical-align: top;\n",
       "    }\n",
       "\n",
       "    .dataframe thead th {\n",
       "        text-align: right;\n",
       "    }\n",
       "</style>\n",
       "<table border=\"1\" class=\"dataframe\">\n",
       "  <thead>\n",
       "    <tr style=\"text-align: right;\">\n",
       "      <th>target_sequence_id</th>\n",
       "      <th>A0A010RMG6</th>\n",
       "      <th>A0A017SR18</th>\n",
       "      <th>A0A060SVX6</th>\n",
       "      <th>A0A066X5A7</th>\n",
       "      <th>A0A067N510</th>\n",
       "    </tr>\n",
       "    <tr>\n",
       "      <th>query_sequence_id</th>\n",
       "      <th></th>\n",
       "      <th></th>\n",
       "      <th></th>\n",
       "      <th></th>\n",
       "      <th></th>\n",
       "    </tr>\n",
       "  </thead>\n",
       "  <tbody>\n",
       "    <tr>\n",
       "      <th>A0A010RMG6</th>\n",
       "      <td>0.000</td>\n",
       "      <td>0.231</td>\n",
       "      <td>0.486</td>\n",
       "      <td>0.054</td>\n",
       "      <td>0.522</td>\n",
       "    </tr>\n",
       "    <tr>\n",
       "      <th>A0A017SR18</th>\n",
       "      <td>0.231</td>\n",
       "      <td>0.000</td>\n",
       "      <td>0.484</td>\n",
       "      <td>0.228</td>\n",
       "      <td>0.509</td>\n",
       "    </tr>\n",
       "    <tr>\n",
       "      <th>A0A060SVX6</th>\n",
       "      <td>0.486</td>\n",
       "      <td>0.484</td>\n",
       "      <td>0.000</td>\n",
       "      <td>0.489</td>\n",
       "      <td>0.166</td>\n",
       "    </tr>\n",
       "    <tr>\n",
       "      <th>A0A066X5A7</th>\n",
       "      <td>0.054</td>\n",
       "      <td>0.228</td>\n",
       "      <td>0.489</td>\n",
       "      <td>0.000</td>\n",
       "      <td>0.525</td>\n",
       "    </tr>\n",
       "    <tr>\n",
       "      <th>A0A067N510</th>\n",
       "      <td>0.522</td>\n",
       "      <td>0.509</td>\n",
       "      <td>0.166</td>\n",
       "      <td>0.525</td>\n",
       "      <td>0.000</td>\n",
       "    </tr>\n",
       "  </tbody>\n",
       "</table>\n",
       "</div>"
      ],
      "text/plain": [
       "target_sequence_id  A0A010RMG6  A0A017SR18  A0A060SVX6  A0A066X5A7  A0A067N510\n",
       "query_sequence_id                                                             \n",
       "A0A010RMG6               0.000       0.231       0.486       0.054       0.522\n",
       "A0A017SR18               0.231       0.000       0.484       0.228       0.509\n",
       "A0A060SVX6               0.486       0.484       0.000       0.489       0.166\n",
       "A0A066X5A7               0.054       0.228       0.489       0.000       0.525\n",
       "A0A067N510               0.522       0.509       0.166       0.525       0.000"
      ]
     },
     "execution_count": 56,
     "metadata": {},
     "output_type": "execute_result"
    }
   ],
   "source": [
    "print(df_distance_matrix.shape)\n",
    "df_distance_matrix.iloc[:5, :5]"
   ]
  },
  {
   "cell_type": "markdown",
   "metadata": {},
   "source": [
    "The distance matrix could be used in many ways, for example, for clustering, constructing phylogenetic tree or constructing sequence similarity networks(SSN)."
   ]
  },
  {
   "cell_type": "markdown",
   "metadata": {},
   "source": [
    "#### Cluster"
   ]
  },
  {
   "cell_type": "markdown",
   "metadata": {},
   "source": [
    "An example of clustering of the sequences to the defined number of clusters."
   ]
  },
  {
   "cell_type": "code",
   "execution_count": 57,
   "metadata": {},
   "outputs": [
    {
     "name": "stdout",
     "output_type": "stream",
     "text": [
      "360\n",
      "[  5  67 122  69  97]\n"
     ]
    }
   ],
   "source": [
    "from sklearn.cluster import AgglomerativeClustering\n",
    "import numpy as np\n",
    "\n",
    "# set the number of clusters\n",
    "n_clusters = 5\n",
    "\n",
    "\n",
    "agg_clustering = AgglomerativeClustering(n_clusters=n_clusters, metric='precomputed', linkage='complete')\n",
    "cluster_labels = agg_clustering.fit_predict(df_distance_matrix)\n",
    "\n",
    "print(len(cluster_labels)) # 360\n",
    "cluster_counts = np.bincount(np.array(cluster_labels))\n",
    "print(cluster_counts)"
   ]
  },
  {
   "cell_type": "markdown",
   "metadata": {},
   "source": [
    "#### Phylogenetic Tree"
   ]
  },
  {
   "cell_type": "markdown",
   "metadata": {},
   "source": [
    "The visualization is supported by [i-TOL](https://itol.embl.de/)."
   ]
  },
  {
   "cell_type": "code",
   "execution_count": 58,
   "metadata": {},
   "outputs": [
    {
     "name": "stdout",
     "output_type": "stream",
     "text": [
      "With Distance Information:\n",
      "(((61:0.000000,(242:0.000000,(8:0.000000,17:0.000000):0.094000):0.151067):0.264920,(((219:0.000000,((338:0.000000,(64:0.000000,114:0.000000):0.062000):0.071638,((307:0.000000,(63:0.000000,136:0.000000):0.077000):0.087180,(191:0.000000,312:0.000000):0.094000):0.105540):0.119566):0.168815,(((100:0.000000,(2:0.000000,119:0.000000):0.038000):0.073207,((173:0.000000,234:0.000000):0.014000,(132:0.000000,(209:0.000000,331:0.000000):0.000000):0.099304):0.106429):0.122762,((210:0.000000,212:0.000000):0.074000,(18:0.000000,(285:0.000000,309:0.000000):0.077000):0.087504):0.127665):0.220829):0.266567,((((67:0.000000,236:0.000000):0.057000,(345:0.000000,(221:0.000000,(220:0.000000,230:0.000000):0.043000):0.096594):0.102802):0.261416,(((77:0.000000,88:0.000000):0.014000,(4:0.000000,(((337:0.000000,359:0.000000):0.000000,(65:0.000000,233:0.000000):0.062000):0.085697,(171:0.000000,(5:0.000000,(237:0.000000,292:0.000000):0.123000):0.144593):0.157110):0.175703):0.192126):0.207245,(6:0.000000,((20:0.000000,21:0.000000):0.062000,(((126:0.000000,(133:0.000000,134:0.000000):0.020000):0.026141,(227:0.000000,286:0.000000):0.063000):0.156253,((231:0.000000,(263:0.000000,358:0.000000):0.000000):0.101614,((47:0.000000,(35:0.000000,(128:0.000000,(213:0.000000,(340:0.000000,(22:0.000000,101:0.000000):0.086000):0.113921):0.116769):0.130264):0.139146):0.159789,(235:0.000000,((33:0.000000,193:0.000000):0.123000,(232:0.000000,310:0.000000):0.125000):0.137018):0.171301):0.197272):0.204696):0.229861):0.241239):0.257949):0.299496):0.307764,(117:0.000000,((317:0.000000,(62:0.000000,69:0.000000):0.084000):0.096847,((60:0.000000,66:0.000000):0.002000,(45:0.000000,127:0.000000):0.130000):0.178902):0.252802):0.343017):0.402482):0.516615):0.889397,(((346:0.000000,((265:0.000000,280:0.000000):0.002000,(270:0.000000,(264:0.000000,323:0.000000):0.000000):0.002309):0.042585):0.211085,((274:0.000000,275:0.000000):0.041000,((276:0.000000,(284:0.000000,(283:0.000000,342:0.000000):0.003000):0.008660):0.113020,(((272:0.000000,(266:0.000000,273:0.000000):0.041000):0.072524,(82:0.000000,83:0.000000):0.074000):0.125837,(84:0.000000,267:0.000000):0.141000):0.210919):0.344096):0.451411):0.626847,((((282:0.000000,(298:0.000000,(43:0.000000,189:0.000000):0.009000):0.030935):0.045908,(((311:0.000000,339:0.000000):0.003000,(102:0.000000,(211:0.000000,322:0.000000):0.003000):0.063485):0.091508,((53:0.000000,(0:0.000000,86:0.000000):0.012000):0.028671,((216:0.000000,(214:0.000000,254:0.000000):0.005000):0.022942,((58:0.000000,68:0.000000):0.007000,(3:0.000000,287:0.000000):0.022000):0.035560):0.067369):0.103331):0.177400):0.328281,((((198:0.000000,199:0.000000):0.007000,(281:0.000000,(186:0.000000,200:0.000000):0.001000):0.010970):0.014285,(((293:0.000000,(357:0.000000,(352:0.000000,(321:0.000000,(320:0.000000,(34:0.000000,135:0.000000):0.000000):0.000000):0.000000):0.000000):0.000000):0.001309,(334:0.000000,(143:0.000000,350:0.000000):0.003000):0.011416):0.018519,(((36:0.000000,159:0.000000):0.000000,(179:0.000000,(78:0.000000,145:0.000000):0.016000):0.046947):0.053509,(177:0.000000,180:0.000000):0.055000):0.065734):0.148685):0.245316,((((208:0.000000,(207:0.000000,(203:0.000000,217:0.000000):0.020000):0.020672):0.030128,(206:0.000000,(204:0.000000,205:0.000000):0.014000):0.033096):0.068903,(((256:0.000000,300:0.000000):0.028000,(19:0.000000,306:0.000000):0.041000):0.177258,(((57:0.000000,(194:0.000000,(87:0.000000,(240:0.000000,241:0.000000):0.011000):0.065511):0.087840):0.158334,((13:0.000000,146:0.000000):0.102000,((122:0.000000,(120:0.000000,121:0.000000):0.049000):0.073255,(333:0.000000,((54:0.000000,118:0.000000):0.099000,(225:0.000000,344:0.000000):0.107000):0.126539):0.141165):0.157232):0.192343):0.220651,((291:0.000000,336:0.000000):0.108000,(228:0.000000,(113:0.000000,(222:0.000000,(257:0.000000,(105:0.000000,201:0.000000):0.015000):0.044456):0.070666):0.089992):0.149393):0.221656):0.281978):0.337518):0.377491,((296:0.000000,(14:0.000000,(297:0.000000,(301:0.000000,(70:0.000000,326:0.000000):0.069000):0.107149):0.127765):0.145524):0.168213,(((158:0.000000,295:0.000000):0.021000,((156:0.000000,(147:0.000000,303:0.000000):0.019000):0.040509,(178:0.000000,(302:0.000000,(40:0.000000,157:0.000000):0.001000):0.030039):0.044081):0.066389):0.086290,(195:0.000000,((197:0.000000,(75:0.000000,196:0.000000):0.052000):0.071986,(154:0.000000,(42:0.000000,148:0.000000):0.047000):0.133650):0.137312):0.178554):0.368076):0.407919):0.463937):0.530213):0.667293,(((((((304:0.000000,335:0.000000):0.016000,(80:0.000000,308:0.000000):0.076000):0.095089,(183:0.000000,(155:0.000000,((140:0.000000,(141:0.000000,142:0.000000):0.026000):0.038254,(160:0.000000,(76:0.000000,91:0.000000):0.026000):0.049866):0.091406):0.113668):0.125276):0.138365,((229:0.000000,259:0.000000):0.033000,(172:0.000000,184:0.000000):0.133000):0.145870):0.158735,(125:0.000000,((151:0.000000,152:0.000000):0.070000,(247:0.000000,(((218:0.000000,(299:0.000000,318:0.000000):0.004000):0.016166,(223:0.000000,224:0.000000):0.021000):0.041130,((262:0.000000,351:0.000000):0.042000,(176:0.000000,238:0.000000):0.050000):0.077182):0.108725):0.167818):0.177011):0.238919):0.389232,(((38:0.000000,(115:0.000000,294:0.000000):0.000000):0.003464,((316:0.000000,(137:0.000000,150:0.000000):0.032000):0.090627,((55:0.000000,315:0.000000):0.026000,(268:0.000000,319:0.000000):0.045000):0.169389):0.239014):0.302652,((((289:0.000000,325:0.000000):0.098000,((329:0.000000,(314:0.000000,(313:0.000000,(271:0.000000,349:0.000000):0.002000):0.015011):0.022664):0.029411,(288:0.000000,(73:0.000000,(72:0.000000,170:0.000000):0.050000):0.073914):0.086964):0.104130):0.112318,(24:0.000000,((226:0.000000,332:0.000000):0.126000,(255:0.000000,(59:0.000000,(258:0.000000,(153:0.000000,(116:0.000000,(71:0.000000,161:0.000000):0.057000):0.080749):0.087958):0.096542):0.117812):0.137607):0.144265):0.162904):0.208979,(((9:0.000000,(10:0.000000,(11:0.000000,12:0.000000):0.045000):0.084996):0.091103,(56:0.000000,(215:0.000000,(187:0.000000,(124:0.000000,(123:0.000000,188:0.000000):0.002000):0.008083):0.008554):0.076084):0.147801):0.299757,(190:0.000000,(((41:0.000000,90:0.000000):0.030000,(239:0.000000,330:0.000000):0.056000):0.071014,(144:0.000000,149:0.000000):0.081000):0.266833):0.307883):0.373787):0.401474):0.524756):0.780857,((((30:0.000000,(25:0.000000,28:0.000000):0.034000):0.056851,((355:0.000000,(305:0.000000,356:0.000000):0.075000):0.097991,(31:0.000000,(7:0.000000,23:0.000000):0.086000):0.116962):0.127066):0.145563,((49:0.000000,343:0.000000):0.098000,((29:0.000000,(32:0.000000,(74:0.000000,(27:0.000000,354:0.000000):0.027000):0.032909):0.033459):0.041628,(79:0.000000,(26:0.000000,353:0.000000):0.049000):0.057530):0.131753):0.219403):0.228153,((111:0.000000,((112:0.000000,(109:0.000000,(269:0.000000,277:0.000000):0.000000):0.010392):0.028931,(108:0.000000,(52:0.000000,(348:0.000000,(16:0.000000,(48:0.000000,(15:0.000000,(107:0.000000,(106:0.000000,(44:0.000000,51:0.000000):0.005000):0.005686):0.007885):0.011649):0.013716):0.020391):0.028379):0.036868):0.063812):0.064131):0.075138,((((99:0.000000,(162:0.000000,166:0.000000):0.005000):0.011240,(165:0.000000,175:0.000000):0.033000):0.046347,((163:0.000000,167:0.000000):0.044000,((97:0.000000,(92:0.000000,(192:0.000000,(185:0.000000,261:0.000000):0.001000):0.004041):0.013772):0.021895,((103:0.000000,164:0.000000):0.016000,(168:0.000000,174:0.000000):0.028000):0.040663):0.084532):0.128331):0.221208,(((290:0.000000,328:0.000000):0.000000,((93:0.000000,96:0.000000):0.033000,(50:0.000000,182:0.000000):0.081000):0.110234):0.131350,(347:0.000000,(((260:0.000000,278:0.000000):0.069000,((130:0.000000,(89:0.000000,129:0.000000):0.071000):0.107974,((202:0.000000,341:0.000000):0.033000,(95:0.000000,(94:0.000000,249:0.000000):0.078000):0.108882):0.140210):0.181313):0.191620,((327:0.000000,(243:0.000000,(252:0.000000,(246:0.000000,(((279:0.000000,(104:0.000000,169:0.000000):0.000000):0.000000,(131:0.000000,(245:0.000000,(37:0.000000,244:0.000000):0.003000):0.005508):0.009730):0.012762,((250:0.000000,(248:0.000000,251:0.000000):0.006000):0.008563,(85:0.000000,(46:0.000000,253:0.000000):0.009000):0.018412):0.031943):0.047469):0.058703):0.059864):0.080195):0.160297,((81:0.000000,(1:0.000000,98:0.000000):0.011000):0.028804,(39:0.000000,((138:0.000000,(181:0.000000,324:0.000000):0.094000):0.113848,(110:0.000000,139:0.000000):0.128000):0.138786):0.157276):0.236442):0.268121):0.306164):0.324433):0.383934):0.464404):0.667067):0.835169):1.214982):1.578833):1.623777):4.915929\n",
      "Without Distance Information:\n",
      "(((61,(242,(8,17))),(((219,((338,(64,114)),((307,(63,136)),(191,312)))),(((100,(2,119)),((173,234),(132,(209,331)))),((210,212),(18,(285,309))))),((((67,236),(345,(221,(220,230)))),(((77,88),(4,(((337,359),(65,233)),(171,(5,(237,292)))))),(6,((20,21),(((126,(133,134)),(227,286)),((231,(263,358)),((47,(35,(128,(213,(340,(22,101)))))),(235,((33,193),(232,310)))))))))),(117,((317,(62,69)),((60,66),(45,127))))))),(((346,((265,280),(270,(264,323)))),((274,275),((276,(284,(283,342))),(((272,(266,273)),(82,83)),(84,267))))),((((282,(298,(43,189))),(((311,339),(102,(211,322))),((53,(0,86)),((216,(214,254)),((58,68),(3,287)))))),((((198,199),(281,(186,200))),(((293,(357,(352,(321,(320,(34,135)))))),(334,(143,350))),(((36,159),(179,(78,145))),(177,180)))),((((208,(207,(203,217))),(206,(204,205))),(((256,300),(19,306)),(((57,(194,(87,(240,241)))),((13,146),((122,(120,121)),(333,((54,118),(225,344)))))),((291,336),(228,(113,(222,(257,(105,201))))))))),((296,(14,(297,(301,(70,326))))),(((158,295),((156,(147,303)),(178,(302,(40,157))))),(195,((197,(75,196)),(154,(42,148))))))))),(((((((304,335),(80,308)),(183,(155,((140,(141,142)),(160,(76,91)))))),((229,259),(172,184))),(125,((151,152),(247,(((218,(299,318)),(223,224)),((262,351),(176,238))))))),(((38,(115,294)),((316,(137,150)),((55,315),(268,319)))),((((289,325),((329,(314,(313,(271,349)))),(288,(73,(72,170))))),(24,((226,332),(255,(59,(258,(153,(116,(71,161))))))))),(((9,(10,(11,12))),(56,(215,(187,(124,(123,188)))))),(190,(((41,90),(239,330)),(144,149))))))),((((30,(25,28)),((355,(305,356)),(31,(7,23)))),((49,343),((29,(32,(74,(27,354)))),(79,(26,353))))),((111,((112,(109,(269,277))),(108,(52,(348,(16,(48,(15,(107,(106,(44,51))))))))))),((((99,(162,166)),(165,175)),((163,167),((97,(92,(192,(185,261)))),((103,164),(168,174))))),(((290,328),((93,96),(50,182))),(347,(((260,278),((130,(89,129)),((202,341),(95,(94,249))))),((327,(243,(252,(246,(((279,(104,169)),(131,(245,(37,244)))),((250,(248,251)),(85,(46,253)))))))),((81,(1,98)),(39,((138,(181,324)),(110,139)))))))))))))))\n"
     ]
    }
   ],
   "source": [
    "from scipy.cluster.hierarchy import linkage, to_tree\n",
    "from scipy.spatial.distance import squareform\n",
    "import numpy as np\n",
    "\n",
    "# Use the squareform function to transform the distance matrix into the raw data matrix\n",
    "df_data_matrix = squareform(df_distance_matrix)\n",
    "\n",
    "# Calculate the linkage matrix using the linkage function\n",
    "linkage_matrix = linkage(df_data_matrix, method='ward')\n",
    "\n",
    "# Convert connection matrices into tree objects\n",
    "tree = to_tree(linkage_matrix)\n",
    "\n",
    "\n",
    "def get_newick(node, leaf_names:list, include_distance=True):\n",
    "    \"\"\"\n",
    "    Generate a string in Newick format\n",
    "    \"\"\"\n",
    "    if node.is_leaf():\n",
    "        return f\"{leaf_names[node.id]}\" + (f\":{node.dist:.6f}\" if include_distance else \"\")\n",
    "    else:\n",
    "        left_newick = get_newick(node.left, leaf_names, include_distance)\n",
    "        right_newick = get_newick(node.right, leaf_names, include_distance)\n",
    "        return f\"({left_newick},{right_newick})\" + (f\":{node.dist:.6f}\" if include_distance else \"\")\n",
    "\n",
    "leaf_names = [str(i) for i in range(len(df_distance_matrix))]\n",
    "newick_tree_with_distance = get_newick(tree, leaf_names, include_distance=True)\n",
    "newick_tree_without_distance = get_newick(tree, leaf_names, include_distance=False)\n",
    "\n",
    "# Output a tree in Newick format that includes distance information\n",
    "print(\"With Distance Information:\")\n",
    "print(newick_tree_with_distance)\n",
    "\n",
    "# Output a tree in Newick format that does not include distance information\n",
    "print(\"Without Distance Information:\")\n",
    "print(newick_tree_without_distance)\n"
   ]
  },
  {
   "cell_type": "code",
   "execution_count": 59,
   "metadata": {},
   "outputs": [],
   "source": [
    "# save the tree and annotations.\n",
    "ITOL_DIR = join(DATADIR, \"graph\", \"itol\")\n",
    "\n",
    "with open(join(ITOL_DIR, \"sequence_scored.with_distance.newick\"), \"w\") as f:\n",
    "    f.write(newick_tree_with_distance)\n",
    "with open(join(ITOL_DIR, \"sequence_scored.without_distance.newick\"), \"w\") as f:\n",
    "    f.write(newick_tree_without_distance)\n",
    "pd.DataFrame(df_distance_matrix.index).to_csv(join(CACHEDIR, \"sequence_scored.index.tsv\"), index=False, header=False)"
   ]
  },
  {
   "cell_type": "markdown",
   "metadata": {},
   "source": [
    "Please refer to the `4-itol-visualization.ipynb` for more about the annotation of the tree."
   ]
  },
  {
   "cell_type": "markdown",
   "metadata": {},
   "source": [
    "#### Sequence Similarity Network"
   ]
  },
  {
   "cell_type": "markdown",
   "metadata": {},
   "source": [
    "The Visualization was supported by [CytoScape](https://cytoscape.org/)."
   ]
  },
  {
   "cell_type": "code",
   "execution_count": 60,
   "metadata": {},
   "outputs": [],
   "source": [
    "SSN_DIR = join(DATADIR, \"graph\", \"acc\")\n",
    "\n",
    "df_pairwise_ssn = df_pairwise[['query', 'target', 'id']].copy()\n",
    "df_pairwise_ssn['query'] = df_pairwise_ssn['query'].apply(deal_acc)\n",
    "df_pairwise_ssn['target'] = df_pairwise_ssn['target'].apply(deal_acc)\n",
    "df_pairwise_ssn = df_pairwise_ssn[['query', 'target', 'id']]\n",
    "df_pairwise_ssn.to_csv(join(SSN_DIR, \"edges.tsv\"), sep='\\t')"
   ]
  },
  {
   "cell_type": "code",
   "execution_count": 61,
   "metadata": {},
   "outputs": [
    {
     "name": "stdout",
     "output_type": "stream",
     "text": [
      "360\n",
      "358\n"
     ]
    },
    {
     "data": {
      "text/html": [
       "<div>\n",
       "<style scoped>\n",
       "    .dataframe tbody tr th:only-of-type {\n",
       "        vertical-align: middle;\n",
       "    }\n",
       "\n",
       "    .dataframe tbody tr th {\n",
       "        vertical-align: top;\n",
       "    }\n",
       "\n",
       "    .dataframe thead th {\n",
       "        text-align: right;\n",
       "    }\n",
       "</style>\n",
       "<table border=\"1\" class=\"dataframe\">\n",
       "  <thead>\n",
       "    <tr style=\"text-align: right;\">\n",
       "      <th></th>\n",
       "      <th>accession</th>\n",
       "      <th>sequence_id</th>\n",
       "      <th>active_sequence</th>\n",
       "      <th>taxid</th>\n",
       "      <th>class_tax_id</th>\n",
       "      <th>phylum_tax_id</th>\n",
       "      <th>score</th>\n",
       "      <th>class</th>\n",
       "      <th>phylum</th>\n",
       "      <th>active_tax</th>\n",
       "    </tr>\n",
       "  </thead>\n",
       "  <tbody>\n",
       "    <tr>\n",
       "      <th>0</th>\n",
       "      <td>A0A010RMG6</td>\n",
       "      <td>A0A010RMG6</td>\n",
       "      <td>False</td>\n",
       "      <td>1445577</td>\n",
       "      <td>147550</td>\n",
       "      <td>4890</td>\n",
       "      <td>0.000250</td>\n",
       "      <td>Sordariomycetes</td>\n",
       "      <td>Ascomycota</td>\n",
       "      <td>False</td>\n",
       "    </tr>\n",
       "    <tr>\n",
       "      <th>1</th>\n",
       "      <td>A0A017SR18</td>\n",
       "      <td>A0A017SR18</td>\n",
       "      <td>False</td>\n",
       "      <td>1388766</td>\n",
       "      <td>147545</td>\n",
       "      <td>4890</td>\n",
       "      <td>0.000967</td>\n",
       "      <td>Eurotiomycetes</td>\n",
       "      <td>Ascomycota</td>\n",
       "      <td>False</td>\n",
       "    </tr>\n",
       "    <tr>\n",
       "      <th>2</th>\n",
       "      <td>A0A060SVX6</td>\n",
       "      <td>A0A060SVX6</td>\n",
       "      <td>False</td>\n",
       "      <td>5643</td>\n",
       "      <td>155619</td>\n",
       "      <td>5204</td>\n",
       "      <td>0.000816</td>\n",
       "      <td>Agaricomycetes</td>\n",
       "      <td>Basidiomycota</td>\n",
       "      <td>False</td>\n",
       "    </tr>\n",
       "    <tr>\n",
       "      <th>3</th>\n",
       "      <td>A0A066X5A7</td>\n",
       "      <td>A0A066X5A7</td>\n",
       "      <td>False</td>\n",
       "      <td>1173701</td>\n",
       "      <td>147550</td>\n",
       "      <td>4890</td>\n",
       "      <td>0.000250</td>\n",
       "      <td>Sordariomycetes</td>\n",
       "      <td>Ascomycota</td>\n",
       "      <td>False</td>\n",
       "    </tr>\n",
       "    <tr>\n",
       "      <th>4</th>\n",
       "      <td>A0A067N510</td>\n",
       "      <td>A0A067N510</td>\n",
       "      <td>False</td>\n",
       "      <td>1137138</td>\n",
       "      <td>155619</td>\n",
       "      <td>5204</td>\n",
       "      <td>0.000219</td>\n",
       "      <td>Agaricomycetes</td>\n",
       "      <td>Basidiomycota</td>\n",
       "      <td>False</td>\n",
       "    </tr>\n",
       "  </tbody>\n",
       "</table>\n",
       "</div>"
      ],
      "text/plain": [
       "    accession sequence_id  active_sequence    taxid  class_tax_id  \\\n",
       "0  A0A010RMG6  A0A010RMG6            False  1445577        147550   \n",
       "1  A0A017SR18  A0A017SR18            False  1388766        147545   \n",
       "2  A0A060SVX6  A0A060SVX6            False     5643        155619   \n",
       "3  A0A066X5A7  A0A066X5A7            False  1173701        147550   \n",
       "4  A0A067N510  A0A067N510            False  1137138        155619   \n",
       "\n",
       "   phylum_tax_id     score            class         phylum  active_tax  \n",
       "0           4890  0.000250  Sordariomycetes     Ascomycota       False  \n",
       "1           4890  0.000967   Eurotiomycetes     Ascomycota       False  \n",
       "2           5204  0.000816   Agaricomycetes  Basidiomycota       False  \n",
       "3           4890  0.000250  Sordariomycetes     Ascomycota       False  \n",
       "4           5204  0.000219   Agaricomycetes  Basidiomycota       False  "
      ]
     },
     "execution_count": 61,
     "metadata": {},
     "output_type": "execute_result"
    }
   ],
   "source": [
    "df_nodes = pd.DataFrame(list(df_distance_matrix.index), columns=['accession'])\n",
    "print(len(df_nodes))\n",
    "df_nodes = df_nodes.merge(df_align_picked[['sequence_id', 'active_sequence', 'taxid']], left_on='accession', right_on='sequence_id')\n",
    "df_nodes = df_nodes.merge(df_align_taxid[['taxid', 'class_tax_id', 'phylum_tax_id', 'score']])\n",
    "df_nodes['class'] = df_nodes['class_tax_id'].apply(lambda x: taxid2name[x])\n",
    "df_nodes['phylum'] = df_nodes['phylum_tax_id'].apply(lambda x: taxid2name[x])\n",
    "df_nodes['active_tax'] = df_nodes['score'].apply(lambda x: x > 0.01)\n",
    "print(len(df_nodes)) # 358? lost 2?\n",
    "df_nodes.head(5)\n"
   ]
  },
  {
   "cell_type": "code",
   "execution_count": 62,
   "metadata": {},
   "outputs": [],
   "source": [
    "df_nodes[['accession', 'class', 'phylum', 'active_sequence', 'active_tax', 'score']].to_csv(join(SSN_DIR, 'nodes.tsv'), sep='\\t')"
   ]
  },
  {
   "cell_type": "markdown",
   "metadata": {},
   "source": [
    "Please refer to the `3-ssn-visualization.ipynb` for more about the SSN."
   ]
  },
  {
   "cell_type": "markdown",
   "metadata": {},
   "source": [
    "### 4.2 Structure Similarity"
   ]
  },
  {
   "cell_type": "markdown",
   "metadata": {},
   "source": [
    "Predict the structure using the SWISS-MODEL server."
   ]
  },
  {
   "cell_type": "code",
   "execution_count": 63,
   "metadata": {},
   "outputs": [
    {
     "data": {
      "text/html": [
       "<div>\n",
       "<style scoped>\n",
       "    .dataframe tbody tr th:only-of-type {\n",
       "        vertical-align: middle;\n",
       "    }\n",
       "\n",
       "    .dataframe tbody tr th {\n",
       "        vertical-align: top;\n",
       "    }\n",
       "\n",
       "    .dataframe thead th {\n",
       "        text-align: right;\n",
       "    }\n",
       "</style>\n",
       "<table border=\"1\" class=\"dataframe\">\n",
       "  <thead>\n",
       "    <tr style=\"text-align: right;\">\n",
       "      <th></th>\n",
       "      <th>Name</th>\n",
       "      <th>Sequence</th>\n",
       "    </tr>\n",
       "  </thead>\n",
       "  <tbody>\n",
       "    <tr>\n",
       "      <th>0</th>\n",
       "      <td>AAV66466.1</td>\n",
       "      <td>MAIPDEFDIIVVGGGSTGCALAGRLGNLDENLTVALIEGGENNINN...</td>\n",
       "    </tr>\n",
       "    <tr>\n",
       "      <th>1</th>\n",
       "      <td>AAF02494.1</td>\n",
       "      <td>MAIPDEFDIIVVGGGSTGCALAGRLGNLDENVTVALIEGGENNINN...</td>\n",
       "    </tr>\n",
       "    <tr>\n",
       "      <th>2</th>\n",
       "      <td>AAV66465.1</td>\n",
       "      <td>MAIPDEFDIIVVGGGSTGCAIAGRLGNLDENLTVALIEGGENNINN...</td>\n",
       "    </tr>\n",
       "    <tr>\n",
       "      <th>3</th>\n",
       "      <td>AAF02495.1</td>\n",
       "      <td>MAIPEEFDIIVVGGGSAGCPTAGRLANLDPNLTVALIEAGENNINN...</td>\n",
       "    </tr>\n",
       "    <tr>\n",
       "      <th>4</th>\n",
       "      <td>CAM84030.1</td>\n",
       "      <td>MAIPDEFDIIVVGGGSTGCCIAGRLANLDdQNLTVALIEGGENNIN...</td>\n",
       "    </tr>\n",
       "  </tbody>\n",
       "</table>\n",
       "</div>"
      ],
      "text/plain": [
       "         Name                                           Sequence\n",
       "0  AAV66466.1  MAIPDEFDIIVVGGGSTGCALAGRLGNLDENLTVALIEGGENNINN...\n",
       "1  AAF02494.1  MAIPDEFDIIVVGGGSTGCALAGRLGNLDENVTVALIEGGENNINN...\n",
       "2  AAV66465.1  MAIPDEFDIIVVGGGSTGCAIAGRLGNLDENLTVALIEGGENNINN...\n",
       "3  AAF02495.1  MAIPEEFDIIVVGGGSAGCPTAGRLANLDPNLTVALIEAGENNINN...\n",
       "4  CAM84030.1  MAIPDEFDIIVVGGGSTGCCIAGRLANLDdQNLTVALIEGGENNIN..."
      ]
     },
     "execution_count": 63,
     "metadata": {},
     "output_type": "execute_result"
    }
   ],
   "source": [
    "PREDDIR = join(DATADIR, \"pred\")\n",
    "\n",
    "# Prepare the enzymes DataFrame for the function query_enzyme()\n",
    "enzymes = df_align_picked[['acc', 'seq']].copy()\n",
    "enzymes['trnc_seq'] = enzymes['seq'].str.replace(\"-\",\"\")\n",
    "enzymes = enzymes.reset_index().drop(columns=['index', 'seq'])\n",
    "enzymes.columns = ['Name', 'Sequence']\n",
    "enzymes.head(5)"
   ]
  },
  {
   "cell_type": "code",
   "execution_count": 64,
   "metadata": {},
   "outputs": [],
   "source": [
    "from script.swiss_model import log_main, query_enzymes\n",
    "\n",
    "# log_main(True)\n",
    "# query_enzymes(enzymes, pdbdir=join(PREDDIR, 'pdb'), verbose=True)"
   ]
  },
  {
   "cell_type": "markdown",
   "metadata": {},
   "source": [
    "*The prediction results of structures were not uploaded due to the large size of the structure file. Here, structure prediction can be realized using other tools such as AlphaFold, ESMFold, etc.*"
   ]
  },
  {
   "cell_type": "code",
   "execution_count": 65,
   "metadata": {},
   "outputs": [],
   "source": [
    "# enzymes.head(5)"
   ]
  },
  {
   "cell_type": "code",
   "execution_count": 66,
   "metadata": {},
   "outputs": [],
   "source": [
    "# query_enzymes(enzymes, pdbdir=join(PREDDIR, 'pdb'), verbose=True)"
   ]
  },
  {
   "cell_type": "code",
   "execution_count": 67,
   "metadata": {},
   "outputs": [],
   "source": [
    "# enzymes.to_csv(join(PREDDIR, 'enzymes.tsv'), sep=\"\\t\")"
   ]
  },
  {
   "cell_type": "markdown",
   "metadata": {},
   "source": [
    "[TM-align](https://zhanggroup.org/TM-align/) for a 1-vs-1 structural alignment."
   ]
  },
  {
   "cell_type": "markdown",
   "metadata": {},
   "source": [
    "`cd /mnt/d/python/aox/enzyme-mining-aox/data/aox/pred`\n",
    "\n",
    "`chmod +x run_tmalign.sh`\n",
    "\n",
    "`./run_tmalign.sh`"
   ]
  },
  {
   "cell_type": "markdown",
   "metadata": {},
   "source": [
    "Deal with TM-align results."
   ]
  },
  {
   "cell_type": "code",
   "execution_count": 68,
   "metadata": {},
   "outputs": [
    {
     "name": "stdout",
     "output_type": "stream",
     "text": [
      "Extracted TM-score: 0.99992\n"
     ]
    }
   ],
   "source": [
    "def extract_tm_score(file_path):\n",
    "    with open(file_path, 'r') as file:\n",
    "        file_content = file.read()\n",
    "\n",
    "    # Finding the start and end of the TM-score\n",
    "    tm_score_start = file_content.find(\"TM-score=\")\n",
    "    if tm_score_start != -1:\n",
    "        tm_score_end = file_content.find(\" (if normalized by length of Chain_1)\", tm_score_start)\n",
    "        if tm_score_end != -1:\n",
    "            # Extract TM-score values\n",
    "            tm_score_value = file_content[tm_score_start + len(\"TM-score=\"):tm_score_end].strip()\n",
    "            return tm_score_value\n",
    "        else:\n",
    "            return None  # TM-score end not found\n",
    "    else:\n",
    "        return None  # TM-score start not found\n",
    "\n",
    "# An example\n",
    "file_path = join(PREDDIR, \"align\", \"0_1.align.txt\")\n",
    "tm_score = extract_tm_score(file_path)\n",
    "if tm_score is not None:\n",
    "    print(f\"Extracted TM-score: {tm_score}\")\n",
    "else:\n",
    "    print(\"TM-score not found in the file.\")"
   ]
  },
  {
   "cell_type": "markdown",
   "metadata": {},
   "source": [
    "*The results of the alignment were not uploaded due to its large size.*"
   ]
  },
  {
   "cell_type": "code",
   "execution_count": 69,
   "metadata": {},
   "outputs": [],
   "source": [
    "data = []\n",
    "\n",
    "folder_path = join(PREDDIR, \"align\")\n",
    "for filename in os.listdir(folder_path):\n",
    "    if filename.endswith(\".align.txt\"):\n",
    "        i, j = filename.split(\".\")[0].split(\"_\")\n",
    "        i, j = int(i), int(j)\n",
    "\n",
    "        score = extract_tm_score(os.path.join(folder_path, filename))\n",
    "\n",
    "        data.append([i, j, score])"
   ]
  },
  {
   "cell_type": "code",
   "execution_count": 70,
   "metadata": {},
   "outputs": [],
   "source": [
    "df_structure_sim = pd.DataFrame(data)\n",
    "df_structure_sim.columns = ['i', 'j', 'tmscore']\n",
    "df_structure_sim['tmscore'] = df_structure_sim['tmscore'].astype(float)"
   ]
  },
  {
   "cell_type": "code",
   "execution_count": 71,
   "metadata": {},
   "outputs": [
    {
     "data": {
      "image/png": "[encoded data removed]",
      "text/plain": [
       "<Figure size 1800x1800 with 1 Axes>"
      ]
     },
     "metadata": {},
     "output_type": "display_data"
    }
   ],
   "source": [
    "import matplotlib.pyplot as plt\n",
    "import numpy as np\n",
    "\n",
    "tmscore_list = df_structure_sim['tmscore'].to_list()\n",
    "\n",
    "plt.figure(figsize=(6, 6), dpi=300)\n",
    "\n",
    "bins = int((1.00 - 0.86) / 0.01)\n",
    "plt.hist(tmscore_list, bins=bins, edgecolor='black')\n",
    "\n",
    "plt.xlim(0.86, 1.00)\n",
    "plt.ylim(0, 25000)\n",
    "plt.xticks(np.arange(0.86, 1.0, 0.02), fontsize=14)\n",
    "plt.yticks(np.arange(0, 25001, 5000), fontsize=14)\n",
    "\n",
    "plt.xlabel('TM-Score', fontsize=16)\n",
    "plt.ylabel('Frequency', fontsize=16)\n",
    "\n",
    "plt.show()"
   ]
  }
 ],
 "metadata": {
  "kernelspec": {
   "display_name": "enzyme_mining38",
   "language": "python",
   "name": "python3"
  },
  "language_info": {
   "codemirror_mode": {
    "name": "ipython",
    "version": 3
   },
   "file_extension": ".py",
   "mimetype": "text/x-python",
   "name": "python",
   "nbconvert_exporter": "python",
   "pygments_lexer": "ipython3",
   "version": "3.8.20"
  }
 },
 "nbformat": 4,
 "nbformat_minor": 2
}
