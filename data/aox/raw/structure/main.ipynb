{
 "cells": [
  {
   "cell_type": "code",
   "execution_count": 1,
   "metadata": {},
   "outputs": [],
   "source": [
    "import pymol\n",
    "import numpy as np\n",
    "import pandas as pd\n",
    "from pymol import cmd\n",
    "from matplotlib.colors import to_rgb\n",
    "\n",
    "pymol.finish_launching()\n",
    "cmd.bg_color('white')"
   ]
  },
  {
   "cell_type": "code",
   "execution_count": null,
   "metadata": {},
   "outputs": [
    {
     "data": {
      "text/plain": [
       "1"
      ]
     },
     "execution_count": 2,
     "metadata": {},
     "output_type": "execute_result"
    }
   ],
   "source": [
    "cmd.load(\"./5hsa.A.pdb\", \"protein\")\n",
    "# cmd.load(\"./methanol.pdb\", 'methanol')"
   ]
  },
  {
   "cell_type": "code",
   "execution_count": 6,
   "metadata": {},
   "outputs": [],
   "source": [
    "cmd.show('surface', 'protein')\n",
    "cmd.set('transparency', 0.8, 'protein')"
   ]
  },
  {
   "cell_type": "code",
   "execution_count": 3,
   "metadata": {},
   "outputs": [],
   "source": [
    "domains = {\n",
    "    \"fad_binding\": list(range(1,156)) + list(range(192,307)) + list(range(568,664)),\n",
    "    \"substrate_binding\": list(range(156,192)) + list(range(307, 568))\n",
    "}\n",
    "cmd.set_color(\"color1\", to_rgb('#7B207B')) # purple\n",
    "cmd.set_color(\"color2\", to_rgb('#C0BC00')) # yellow\n",
    "\n",
    "\n",
    "for resid in domains['fad_binding']:\n",
    "    # pymol.util.cbaw(f'protein and resi {resid}')\n",
    "    cmd.color(\"color1\", f'protein and resi {resid}')\n",
    "for resid in domains['substrate_binding']:\n",
    "    # pymol.util.cbab(f'protein and resi {resid}')\n",
    "    cmd.color(\"color2\", f'protein and resi {resid}')\n"
   ]
  },
  {
   "cell_type": "code",
   "execution_count": 5,
   "metadata": {},
   "outputs": [],
   "source": [
    "\n",
    "\n",
    "residues = {\n",
    "    \"catalysis\": [567, 616],\n",
    "    \"substrate_binding\": [98, 566, 417],\n",
    "    \"fad_nucleic_acid_binding\": [13, 14, 15, 16, 17, 18],\n",
    "    # \"pts\": [660, 661, 662, 663],\n",
    "    \"fad\": [701],\n",
    "}\n",
    "\n",
    "for resid in residues['catalysis']:\n",
    "    _selection = f'protein and resi {resid}'\n",
    "    cmd.show('licorice', _selection)\n",
    "    cmd.util.cbam(_selection + ' and sidechain') # light magenta\n",
    "\n",
    "for resid in residues['substrate_binding']:\n",
    "    _selection = f'protein and resi {resid}'\n",
    "    cmd.show('licorice', _selection)\n",
    "    cmd.util.cbay(_selection + ' and sidechain') # yellow\n",
    "\n",
    "for resid in residues['fad_nucleic_acid_binding']:\n",
    "    _selection = f'protein and resi {resid}'\n",
    "    cmd.show('licorice', _selection)\n",
    "    cmd.util.cbao(_selection) # bright orange\n",
    "\n",
    "# for resid in residues['pts']:\n",
    "#     _selection = f'protein and resi {resid} and sidechain'\n",
    "#     cmd.show('licorice', _selection)\n",
    "#     cmd.util.cbaw(_selection)\n",
    "\n",
    "for resid in residues['fad']:\n",
    "    _selection = f'protein and resi {resid}'\n",
    "    cmd.show('licorice', _selection)\n",
    "    cmd.util.cbaw(_selection) # white\n"
   ]
  },
  {
   "cell_type": "code",
   "execution_count": null,
   "metadata": {},
   "outputs": [],
   "source": []
  }
 ],
 "metadata": {
  "kernelspec": {
   "display_name": "pymol310_open",
   "language": "python",
   "name": "python3"
  },
  "language_info": {
   "name": "python",
   "version": "3.10.16"
  }
 },
 "nbformat": 4,
 "nbformat_minor": 2
}
