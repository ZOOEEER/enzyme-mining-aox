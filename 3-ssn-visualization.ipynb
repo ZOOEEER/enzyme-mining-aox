{
 "cells": [
  {
   "cell_type": "markdown",
   "metadata": {},
   "source": [
    "Styles and layouts were manually adjusted in Cytoscape. The 60%-100% SSN and 85-100% SSN were saved as pngs, corresponding to the taxomony of class and phylum levels, respectively."
   ]
  },
  {
   "cell_type": "code",
   "execution_count": 1,
   "metadata": {},
   "outputs": [
    {
     "name": "stdout",
     "output_type": "stream",
     "text": [
      "d:\\Python\\aox\\enzyme-mining-aox\n"
     ]
    }
   ],
   "source": [
    "import os\n",
    "from os.path import join\n",
    "import pandas as pd\n",
    "import numpy as np\n",
    "CURRENT_DIR = os.getcwd()\n",
    "print(CURRENT_DIR)"
   ]
  },
  {
   "cell_type": "code",
   "execution_count": 2,
   "metadata": {},
   "outputs": [],
   "source": [
    "DATADIR = os.path.join(CURRENT_DIR, \"data\", \"aox\")\n",
    "SSN_DIR = join(DATADIR, \"graph\", \"acc\")\n",
    "\n",
    "filenames = {\n",
    "    \"uniprot_sequence\": join(DATADIR, \"raw\", \"uniprot_sequence.tsv\"), # reported sequence in UniProt\n",
    "    \"sequence_fasta\": join(DATADIR, \"raw\", \"sequence.fasta\"), # reported sequence to be active (referenced sequence)\n",
    "    \"experiment_result\": join(DATADIR, \"result\", \"experiment_result.tsv\"), # the experiment results\n",
    "\n",
    "    # graph\n",
    "    \"node\": join(SSN_DIR, \"nodes.tsv\"),\n",
    "    \"edge\": join(SSN_DIR, \"edges.tsv\"),\n",
    "\n",
    "    # results\n",
    "    \"nodes_annotate\": join(SSN_DIR, \"nodes_annotate.tsv\"),\n",
    "    \"node_new\": join(SSN_DIR, \"node_new.tsv\"),\n",
    "    \"edge_new\": join(SSN_DIR, \"edge_new.tsv\")\n",
    "}"
   ]
  },
  {
   "cell_type": "code",
   "execution_count": 3,
   "metadata": {},
   "outputs": [
    {
     "name": "stdout",
     "output_type": "stream",
     "text": [
      "['P04842', 'F2QY27', 'F2R038', 'P04841', 'Q00922', 'C4R702']\n"
     ]
    }
   ],
   "source": [
    "# Labeling nodes that report to be active\n",
    "uniprot_sequence = pd.read_csv(filenames['uniprot_sequence'], sep='\\t')\n",
    "reviewed_active_acc = uniprot_sequence[uniprot_sequence['Reviewed'] == 'reviewed']['Entry'].to_list()\n",
    "print(reviewed_active_acc)"
   ]
  },
  {
   "cell_type": "code",
   "execution_count": 4,
   "metadata": {},
   "outputs": [],
   "source": [
    "# Disambiguation: uniprot and NCBI accession\n",
    "ncbi_uniprot_map = [\n",
    "    ['EAA66666.1', 'Q5BFW3'],\n",
    "    ['AAR89538.1', 'Q9C1S3'],\n",
    "    ['AAV66468.1', 'Q5S057'],\n",
    "    ['AAV66467.2', 'Q5S058'],\n",
    "    ['AAF82788.1', 'Q9P304'],\n",
    "    ['XP_001838223.2', 'A8P219'],\n",
    "    ['XP_007868339.1', 'S7RFS3'], # A8DPS4\n",
    "    ['CAM84030.1', 'A6PZG7'],\n",
    "    ['CAM84031.1', 'A6PZG8'],\n",
    "    ['CAM84032.1', 'A6PZG9'],\n",
    "    ['AAB57849.1', 'F2QY27'],\n",
    "    ['AAB57850.1', 'F2R038'],\n",
    "    ['AFO55203.1', 'I7CMK2'],\n",
    "    ['AHC95541.1', 'A0A067YIW8'],\n",
    "    ['AAL56054.1', 'Q8X1N1'],\n",
    "    ['UXW61383.1', 'A0A977TIR6'],\n",
    "    ['AAF02495.1', 'Q9UVU1'],\n",
    "    ['AAF02494.1', 'Q9UVU2'],\n",
    "    ['AAQ99151.1', 'Q6TAW1'],\n",
    "    ['AAV66465.1', 'Q5S060'],\n",
    "    ['AAV66466.1', 'Q5S059'],\n",
    "    ['CDG66232.1', 'T2M2J4']\n",
    "]\n",
    "ncbi_uniprot_map = {\n",
    "    k:v for k,v in ncbi_uniprot_map\n",
    "}"
   ]
  },
  {
   "cell_type": "code",
   "execution_count": 5,
   "metadata": {},
   "outputs": [
    {
     "name": "stdout",
     "output_type": "stream",
     "text": [
      "['EAA66666.1', 'AAR89538.1', 'AAV66468.1', 'AAV66467.2', 'AAF82788.1', 'XP_001838223.2', 'XP_007868339.1', 'CAM84030.1', 'CAM84031.1', 'CAM84032.1', 'AAB57849.1', 'AAB57850.1', 'AFO55203.1', 'AHC95541.1', 'AAL56054.1', 'UXW61383.1', 'AAF02495.1', 'AAF02494.1', 'AAQ99151.1', 'AAV66465.1', 'AAV66466.1']\n",
      "['Q5BFW3', 'Q9C1S3', 'Q5S057', 'Q5S058', 'Q9P304', 'A8P219', 'S7RFS3', 'A6PZG7', 'A6PZG8', 'A6PZG9', 'F2QY27', 'F2R038', 'I7CMK2', 'A0A067YIW8', 'Q8X1N1', 'A0A977TIR6', 'Q9UVU1', 'Q9UVU2', 'Q6TAW1', 'Q5S060', 'Q5S059']\n"
     ]
    }
   ],
   "source": [
    "from Bio import SeqIO\n",
    "\n",
    "seqs = []\n",
    "for seqrecord in SeqIO.parse(filenames['sequence_fasta'], \"fasta\"):\n",
    "    seqs.append([seqrecord.id, str(seqrecord.seq)])\n",
    "ncbi_sequences = pd.DataFrame(seqs, columns=['ncbi id', 'sequence'])\n",
    "referenced_active_acc = ncbi_sequences['ncbi id'].to_list()\n",
    "print(referenced_active_acc) # 21\n",
    "referenced_active_acc = [\n",
    "   ncbi_uniprot_map[a] for a in referenced_active_acc\n",
    "]\n",
    "print(referenced_active_acc)"
   ]
  },
  {
   "cell_type": "code",
   "execution_count": 6,
   "metadata": {},
   "outputs": [],
   "source": [
    "# Labeling of experimental results (selected nodes and nodes with activity)\n",
    "experiment_result = pd.read_csv(filenames['experiment_result'], sep='\\t')\n",
    "selected_acc = experiment_result['name'].to_list()"
   ]
  },
  {
   "cell_type": "code",
   "execution_count": 7,
   "metadata": {},
   "outputs": [
    {
     "name": "stdout",
     "output_type": "stream",
     "text": [
      "43\n",
      "43\n"
     ]
    }
   ],
   "source": [
    "# The sequences used for the experiments were unique\n",
    "print(len(set(selected_acc))) # 31\n",
    "print(len(set(ncbi_uniprot_map.get(a,a) for a in selected_acc))) # 31"
   ]
  },
  {
   "cell_type": "code",
   "execution_count": 8,
   "metadata": {},
   "outputs": [],
   "source": [
    "experiment_result['r_name'] = experiment_result['name'].apply(lambda x: ncbi_uniprot_map.get(x, x))\n",
    "\n",
    "selected_acc = experiment_result['r_name'].to_list()\n",
    "valid_active_acc = experiment_result[experiment_result['activity(mU/mg)'] > 0]['r_name'].to_list()\n",
    "unsolute_acc = experiment_result[experiment_result['inclusion'] == 1]['r_name'].to_list()\n",
    "solute_nonactive_acc = experiment_result[(experiment_result['inclusion'] == 0) & (experiment_result['activity(mU/mg)'] < 0.1)]['r_name'].to_list()"
   ]
  },
  {
   "cell_type": "code",
   "execution_count": 9,
   "metadata": {},
   "outputs": [],
   "source": [
    "accs = []\n",
    "for acc in set(reviewed_active_acc + referenced_active_acc + selected_acc):\n",
    "    if acc in selected_acc:\n",
    "        label_selected = 1\n",
    "    else:\n",
    "        label_selected = 0\n",
    "    if acc in unsolute_acc:\n",
    "        label_active = 3 # unsolute\n",
    "    elif acc in solute_nonactive_acc:\n",
    "        label_active = 2 # solute but not active\n",
    "    else:\n",
    "        label_active = 1 # valid or reported to be active\n",
    "    accs.append([acc, label_selected, label_active])\n",
    "df_acc = pd.DataFrame(accs, columns=['accession', 'selected', 'active'])\n",
    "df_acc.to_csv(filenames['nodes_annotate'], sep='\\t', )"
   ]
  },
  {
   "cell_type": "code",
   "execution_count": 10,
   "metadata": {},
   "outputs": [
    {
     "data": {
      "text/html": [
       "<div>\n",
       "<style scoped>\n",
       "    .dataframe tbody tr th:only-of-type {\n",
       "        vertical-align: middle;\n",
       "    }\n",
       "\n",
       "    .dataframe tbody tr th {\n",
       "        vertical-align: top;\n",
       "    }\n",
       "\n",
       "    .dataframe thead th {\n",
       "        text-align: right;\n",
       "    }\n",
       "</style>\n",
       "<table border=\"1\" class=\"dataframe\">\n",
       "  <thead>\n",
       "    <tr style=\"text-align: right;\">\n",
       "      <th></th>\n",
       "      <th>accession</th>\n",
       "      <th>class</th>\n",
       "      <th>phylum</th>\n",
       "      <th>active_sequence</th>\n",
       "      <th>active_tax</th>\n",
       "      <th>score</th>\n",
       "    </tr>\n",
       "  </thead>\n",
       "  <tbody>\n",
       "    <tr>\n",
       "      <th>0</th>\n",
       "      <td>A0A010RMG6</td>\n",
       "      <td>Sordariomycetes</td>\n",
       "      <td>Ascomycota</td>\n",
       "      <td>False</td>\n",
       "      <td>False</td>\n",
       "      <td>0.000250</td>\n",
       "    </tr>\n",
       "    <tr>\n",
       "      <th>1</th>\n",
       "      <td>A0A017SR18</td>\n",
       "      <td>Eurotiomycetes</td>\n",
       "      <td>Ascomycota</td>\n",
       "      <td>False</td>\n",
       "      <td>False</td>\n",
       "      <td>0.000967</td>\n",
       "    </tr>\n",
       "    <tr>\n",
       "      <th>2</th>\n",
       "      <td>A0A060SVX6</td>\n",
       "      <td>Agaricomycetes</td>\n",
       "      <td>Basidiomycota</td>\n",
       "      <td>False</td>\n",
       "      <td>False</td>\n",
       "      <td>0.000816</td>\n",
       "    </tr>\n",
       "    <tr>\n",
       "      <th>3</th>\n",
       "      <td>A0A066X5A7</td>\n",
       "      <td>Sordariomycetes</td>\n",
       "      <td>Ascomycota</td>\n",
       "      <td>False</td>\n",
       "      <td>False</td>\n",
       "      <td>0.000250</td>\n",
       "    </tr>\n",
       "    <tr>\n",
       "      <th>4</th>\n",
       "      <td>A0A067N510</td>\n",
       "      <td>Agaricomycetes</td>\n",
       "      <td>Basidiomycota</td>\n",
       "      <td>False</td>\n",
       "      <td>False</td>\n",
       "      <td>0.000219</td>\n",
       "    </tr>\n",
       "    <tr>\n",
       "      <th>...</th>\n",
       "      <td>...</td>\n",
       "      <td>...</td>\n",
       "      <td>...</td>\n",
       "      <td>...</td>\n",
       "      <td>...</td>\n",
       "      <td>...</td>\n",
       "    </tr>\n",
       "    <tr>\n",
       "      <th>352</th>\n",
       "      <td>W9W4X4</td>\n",
       "      <td>Eurotiomycetes</td>\n",
       "      <td>Ascomycota</td>\n",
       "      <td>False</td>\n",
       "      <td>False</td>\n",
       "      <td>0.000489</td>\n",
       "    </tr>\n",
       "    <tr>\n",
       "      <th>353</th>\n",
       "      <td>W9X977</td>\n",
       "      <td>Eurotiomycetes</td>\n",
       "      <td>Ascomycota</td>\n",
       "      <td>False</td>\n",
       "      <td>False</td>\n",
       "      <td>0.000489</td>\n",
       "    </tr>\n",
       "    <tr>\n",
       "      <th>354</th>\n",
       "      <td>W9Y7V1</td>\n",
       "      <td>Eurotiomycetes</td>\n",
       "      <td>Ascomycota</td>\n",
       "      <td>False</td>\n",
       "      <td>False</td>\n",
       "      <td>0.000489</td>\n",
       "    </tr>\n",
       "    <tr>\n",
       "      <th>355</th>\n",
       "      <td>W9YRP8</td>\n",
       "      <td>Eurotiomycetes</td>\n",
       "      <td>Ascomycota</td>\n",
       "      <td>False</td>\n",
       "      <td>False</td>\n",
       "      <td>0.000489</td>\n",
       "    </tr>\n",
       "    <tr>\n",
       "      <th>356</th>\n",
       "      <td>X0CZJ3</td>\n",
       "      <td>Sordariomycetes</td>\n",
       "      <td>Ascomycota</td>\n",
       "      <td>False</td>\n",
       "      <td>False</td>\n",
       "      <td>0.000250</td>\n",
       "    </tr>\n",
       "  </tbody>\n",
       "</table>\n",
       "<p>355 rows × 6 columns</p>\n",
       "</div>"
      ],
      "text/plain": [
       "      accession            class         phylum  active_sequence  active_tax  \\\n",
       "0    A0A010RMG6  Sordariomycetes     Ascomycota            False       False   \n",
       "1    A0A017SR18   Eurotiomycetes     Ascomycota            False       False   \n",
       "2    A0A060SVX6   Agaricomycetes  Basidiomycota            False       False   \n",
       "3    A0A066X5A7  Sordariomycetes     Ascomycota            False       False   \n",
       "4    A0A067N510   Agaricomycetes  Basidiomycota            False       False   \n",
       "..          ...              ...            ...              ...         ...   \n",
       "352      W9W4X4   Eurotiomycetes     Ascomycota            False       False   \n",
       "353      W9X977   Eurotiomycetes     Ascomycota            False       False   \n",
       "354      W9Y7V1   Eurotiomycetes     Ascomycota            False       False   \n",
       "355      W9YRP8   Eurotiomycetes     Ascomycota            False       False   \n",
       "356      X0CZJ3  Sordariomycetes     Ascomycota            False       False   \n",
       "\n",
       "        score  \n",
       "0    0.000250  \n",
       "1    0.000967  \n",
       "2    0.000816  \n",
       "3    0.000250  \n",
       "4    0.000219  \n",
       "..        ...  \n",
       "352  0.000489  \n",
       "353  0.000489  \n",
       "354  0.000489  \n",
       "355  0.000489  \n",
       "356  0.000250  \n",
       "\n",
       "[355 rows x 6 columns]"
      ]
     },
     "execution_count": 10,
     "metadata": {},
     "output_type": "execute_result"
    }
   ],
   "source": [
    "# De-duplication for nodes and edges\n",
    "nodes = pd.read_csv(filenames['node'], sep='\\t', index_col=0)\n",
    "nodes['accession'] = nodes['accession'].apply(lambda x: ncbi_uniprot_map.get(x,x))\n",
    "nodes = nodes.drop_duplicates(subset=['accession'])\n",
    "nodes"
   ]
  },
  {
   "cell_type": "code",
   "execution_count": 11,
   "metadata": {},
   "outputs": [],
   "source": [
    "new_nodes = pd.merge(nodes, df_acc, right_on='accession', left_on='accession', how='left').fillna(0.0)\n",
    "new_nodes = pd.concat([new_nodes, pd.DataFrame([\n",
    "        ['A0A428UCX7', 'Sordariomycetes', 'Ascomycota', False, False, 2.497227114343E-4, 0.0, 0.0 ],\n",
    "        ['S8FNA5', 'Agaricomycetes', 'Basidiomycota', False, False, 8.159640056539E-4, 0.0, 0.0]\n",
    "    ], columns = new_nodes.columns)]\n",
    ").reset_index(drop=True)\n",
    "new_nodes.to_csv(filenames['node_new'], sep='\\t')"
   ]
  },
  {
   "cell_type": "code",
   "execution_count": 12,
   "metadata": {},
   "outputs": [],
   "source": [
    "edges = pd.read_csv(filenames['edge'], sep='\\t', index_col=0)\n",
    "edges['query'] = edges['query'].apply(lambda x: ncbi_uniprot_map.get(x,x))\n",
    "edges['target'] = edges['target'].apply(lambda x: ncbi_uniprot_map.get(x,x))\n",
    "edges = edges[edges['query'] != edges['target']] # self-loop\n",
    "edges['q-t'] = [\n",
    "    ''.join(sorted([i, j]))\n",
    "    for i, j in zip(edges['query'], edges['target'])\n",
    "]\n",
    "edges = edges.drop_duplicates(subset=['q-t'])\n",
    "edges = edges.drop(columns=['q-t'])\n",
    "edges.to_csv(filenames['edge_new'], sep='\\t')"
   ]
  }
 ],
 "metadata": {
  "kernelspec": {
   "display_name": "enzyme_mining38",
   "language": "python",
   "name": "python3"
  },
  "language_info": {
   "codemirror_mode": {
    "name": "ipython",
    "version": 3
   },
   "file_extension": ".py",
   "mimetype": "text/x-python",
   "name": "python",
   "nbconvert_exporter": "python",
   "pygments_lexer": "ipython3",
   "version": "3.8.20"
  }
 },
 "nbformat": 4,
 "nbformat_minor": 2
}
