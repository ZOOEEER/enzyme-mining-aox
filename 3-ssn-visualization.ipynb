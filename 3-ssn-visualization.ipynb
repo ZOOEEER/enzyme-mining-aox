{
 "cells": [
  {
   "cell_type": "markdown",
   "metadata": {},
   "source": [
    "Styles and layouts were manually adjusted in Cytoscape. The 60%-100% SSN and 85-100% SSN were saved as pngs, corresponding to the taxomony of class and phylum levels, respectively."
   ]
  }
 ],
 "metadata": {
  "kernelspec": {
   "display_name": "enzyme_mining38",
   "language": "python",
   "name": "python3"
  },
  "language_info": {
   "name": "python",
   "version": "3.8.20"
  }
 },
 "nbformat": 4,
 "nbformat_minor": 2
}
