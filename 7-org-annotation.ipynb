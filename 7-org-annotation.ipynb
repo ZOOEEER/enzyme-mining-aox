{
 "cells": [
  {
   "cell_type": "markdown",
   "metadata": {},
   "source": [
    "This script is used for the identification and disambiguation of organisms."
   ]
  },
  {
   "cell_type": "code",
   "execution_count": 1,
   "metadata": {},
   "outputs": [
    {
     "name": "stdout",
     "output_type": "stream",
     "text": [
      "d:\\Python\\aox\\enzyme-mining-aox\n"
     ]
    }
   ],
   "source": [
    "import os\n",
    "from os.path import join\n",
    "import pandas as pd\n",
    "import numpy as np\n",
    "CURRENT_DIR = os.getcwd()\n",
    "print(CURRENT_DIR)"
   ]
  },
  {
   "cell_type": "code",
   "execution_count": 2,
   "metadata": {},
   "outputs": [],
   "source": [
    "DATADIR = os.path.join(CURRENT_DIR, \"data\", \"aox\")\n",
    "CURATEDIR = os.path.join(DATADIR, \"graph\", \"ref_org_acc\", \"curate\")\n",
    "CACHEDIR = join(DATADIR, \"cache\") # for sequence mining and analysis\n",
    "\n",
    "filenames = {\n",
    "    # download or curate from the database website\n",
    "    \"brenda_organism_xml\": join(DATADIR, \"raw\", \"brenda_organism.xml\"), # organism part xml from brenda\n",
    "    \"uniprot_sequence\": join(DATADIR, \"raw\", \"uniprot_sequence.tsv\"),\n",
    "    \"uniprot_sequence_enhanced\": join(DATADIR, \"raw\", \"uniprot_sequence_enhanced.tsv\"), # the same accession with the organism ID\n",
    "\n",
    "    # results\n",
    "    \"organism\": join(CURATEDIR, \"organisms.tsv\")\n",
    "}"
   ]
  },
  {
   "cell_type": "code",
   "execution_count": 3,
   "metadata": {},
   "outputs": [
    {
     "data": {
      "text/plain": [
       "107"
      ]
     },
     "execution_count": 3,
     "metadata": {},
     "output_type": "execute_result"
    }
   ],
   "source": [
    "import re\n",
    "\n",
    "file_path = 'your_file.txt'\n",
    "pattern = r'javascript:Org\\(\\'([-\\d]+)\\'\\)\\\">([^<]+)</a>'\n",
    "with open(filenames['brenda_organism_xml'], 'r', encoding='utf-8') as file:\n",
    "    content = file.read()\n",
    "\n",
    "matches = re.findall(pattern, content)\n",
    "\n",
    "len(matches) # 107"
   ]
  },
  {
   "cell_type": "code",
   "execution_count": 14,
   "metadata": {},
   "outputs": [
    {
     "data": {
      "text/plain": [
       "61"
      ]
     },
     "execution_count": 14,
     "metadata": {},
     "output_type": "execute_result"
    }
   ],
   "source": [
    "brenda_organism = pd.DataFrame(matches, columns=['taxid', 'name'])\n",
    "len(brenda_organism['taxid'].unique()) # 61"
   ]
  },
  {
   "cell_type": "code",
   "execution_count": 11,
   "metadata": {},
   "outputs": [
    {
     "data": {
      "text/plain": [
       "57"
      ]
     },
     "execution_count": 11,
     "metadata": {},
     "output_type": "execute_result"
    }
   ],
   "source": [
    "uniprot_organism = pd.read_csv(filenames['uniprot_sequence_enhanced'], sep='\\t')[['Organism', 'Organism (ID)']]\n",
    "uniprot_organism = uniprot_organism.rename(columns={\n",
    "    \"Organism\": 'name',\n",
    "    'Organism (ID)': 'taxid'\n",
    "})\n",
    "len(uniprot_organism['taxid'].unique())"
   ]
  },
  {
   "cell_type": "code",
   "execution_count": 6,
   "metadata": {},
   "outputs": [
    {
     "data": {
      "text/html": [
       "<div>\n",
       "<style scoped>\n",
       "    .dataframe tbody tr th:only-of-type {\n",
       "        vertical-align: middle;\n",
       "    }\n",
       "\n",
       "    .dataframe tbody tr th {\n",
       "        vertical-align: top;\n",
       "    }\n",
       "\n",
       "    .dataframe thead th {\n",
       "        text-align: right;\n",
       "    }\n",
       "</style>\n",
       "<table border=\"1\" class=\"dataframe\">\n",
       "  <thead>\n",
       "    <tr style=\"text-align: right;\">\n",
       "      <th></th>\n",
       "      <th>taxid</th>\n",
       "      <th>name</th>\n",
       "    </tr>\n",
       "  </thead>\n",
       "  <tbody>\n",
       "    <tr>\n",
       "      <th>0</th>\n",
       "      <td>1442373</td>\n",
       "      <td>Achatina achatina</td>\n",
       "    </tr>\n",
       "    <tr>\n",
       "      <th>1</th>\n",
       "      <td>145126</td>\n",
       "      <td>Arion ater</td>\n",
       "    </tr>\n",
       "    <tr>\n",
       "      <th>2</th>\n",
       "      <td>1665</td>\n",
       "      <td>Arthrobacter globiformis</td>\n",
       "    </tr>\n",
       "    <tr>\n",
       "      <th>3</th>\n",
       "      <td>40380</td>\n",
       "      <td>Aspergillus ochraceus</td>\n",
       "    </tr>\n",
       "    <tr>\n",
       "      <th>5</th>\n",
       "      <td>-777</td>\n",
       "      <td>Aspergillus ochraceus AIU 031</td>\n",
       "    </tr>\n",
       "    <tr>\n",
       "      <th>...</th>\n",
       "      <td>...</td>\n",
       "      <td>...</td>\n",
       "    </tr>\n",
       "    <tr>\n",
       "      <th>180</th>\n",
       "      <td>425011</td>\n",
       "      <td>Aspergillus niger (strain ATCC MYA-4892 / CBS ...</td>\n",
       "    </tr>\n",
       "    <tr>\n",
       "      <th>195</th>\n",
       "      <td>104355</td>\n",
       "      <td>Gloeophyllum trabeum (Brown rot fungus) (Agari...</td>\n",
       "    </tr>\n",
       "    <tr>\n",
       "      <th>196</th>\n",
       "      <td>6945</td>\n",
       "      <td>Ixodes scapularis (Black-legged tick) (Deer tick)</td>\n",
       "    </tr>\n",
       "    <tr>\n",
       "      <th>197</th>\n",
       "      <td>441959</td>\n",
       "      <td>Talaromyces stipitatus (strain ATCC 10500 / CB...</td>\n",
       "    </tr>\n",
       "    <tr>\n",
       "      <th>201</th>\n",
       "      <td>153609</td>\n",
       "      <td>Moniliophthora perniciosa (Witches'-broom dise...</td>\n",
       "    </tr>\n",
       "  </tbody>\n",
       "</table>\n",
       "<p>105 rows × 2 columns</p>\n",
       "</div>"
      ],
      "text/plain": [
       "       taxid                                               name\n",
       "0    1442373                                  Achatina achatina\n",
       "1     145126                                         Arion ater\n",
       "2       1665                           Arthrobacter globiformis\n",
       "3      40380                              Aspergillus ochraceus\n",
       "5       -777                      Aspergillus ochraceus AIU 031\n",
       "..       ...                                                ...\n",
       "180   425011  Aspergillus niger (strain ATCC MYA-4892 / CBS ...\n",
       "195   104355  Gloeophyllum trabeum (Brown rot fungus) (Agari...\n",
       "196     6945  Ixodes scapularis (Black-legged tick) (Deer tick)\n",
       "197   441959  Talaromyces stipitatus (strain ATCC 10500 / CB...\n",
       "201   153609  Moniliophthora perniciosa (Witches'-broom dise...\n",
       "\n",
       "[105 rows x 2 columns]"
      ]
     },
     "execution_count": 6,
     "metadata": {},
     "output_type": "execute_result"
    }
   ],
   "source": [
    "organisms = pd.concat([brenda_organism, uniprot_organism], axis=0, ignore_index=True, sort=False).fillna(\"\")\n",
    "organisms['taxid'] = organisms['taxid'].astype(str)\n",
    "organisms = organisms.drop_duplicates(subset=['taxid', 'name'])\n",
    "organisms # 105"
   ]
  },
  {
   "cell_type": "markdown",
   "metadata": {},
   "source": [
    "map the id to ranks"
   ]
  },
  {
   "cell_type": "code",
   "execution_count": 7,
   "metadata": {},
   "outputs": [],
   "source": [
    "# TAXDUMPDIR = \"D:\\\\bioinformatics\\\\taxdump\\\\db\"\n",
    "# taxid2rank = pd.read_csv(join(TAXDUMPDIR, \"taxid_rank.tsv\"), sep=\"\\t\", index_col=0)['rank'].to_dict()\n",
    "\n",
    "# the cached\n",
    "TAXDUMPDIR_L = join(CACHEDIR, \"taxdump_db\")\n",
    "taxid2rank = pd.read_csv(join(TAXDUMPDIR_L, \"taxid_rank.tsv\"), sep=\"\\t\", index_col=0)['rank'].to_dict()\n",
    "\n",
    "organisms['rank'] = organisms['taxid'].apply(lambda x: taxid2rank.get(int(x), \"\"))"
   ]
  },
  {
   "cell_type": "code",
   "execution_count": 15,
   "metadata": {},
   "outputs": [],
   "source": [
    "_type = []\n",
    "for i, row in organisms.iterrows():\n",
    "    i_type = 2 # kingdom, phylum\n",
    "    if row['rank'] in ['species', 'no rank']:\n",
    "        i_type = 1\n",
    "    elif row['rank'] in ['', 'strain']:\n",
    "        i_type = -1 # non-map in NCBI Tax\n",
    "    _type.append(i_type)\n",
    "\n",
    "organisms['type'] = _type\n",
    "organisms_sorted = organisms.sort_values(by=['name'], ascending=[True]).reset_index(drop=True)\n",
    "organisms_sorted[organisms_sorted['type'] != -1].to_csv(filenames[\"organism\"], sep='\\t', index=None)"
   ]
  }
 ],
 "metadata": {
  "kernelspec": {
   "display_name": "enzyme_mining38",
   "language": "python",
   "name": "python3"
  },
  "language_info": {
   "codemirror_mode": {
    "name": "ipython",
    "version": 3
   },
   "file_extension": ".py",
   "mimetype": "text/x-python",
   "name": "python",
   "nbconvert_exporter": "python",
   "pygments_lexer": "ipython3",
   "version": "3.8.20"
  }
 },
 "nbformat": 4,
 "nbformat_minor": 2
}
