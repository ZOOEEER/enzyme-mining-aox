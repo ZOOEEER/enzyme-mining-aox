{
 "cells": [
  {
   "cell_type": "markdown",
   "metadata": {},
   "source": [
    "Download the files from the [NCBI Taxonomy ftp](https://ftp.ncbi.nlm.nih.gov/pub/taxonomy/) site and preprocessed to obtain the required mapping files.\n",
    "\n",
    "The script only needs to be ran once for the downloaded database, and the cached results can be reused for each evaluation."
   ]
  },
  {
   "cell_type": "code",
   "execution_count": 1,
   "metadata": {},
   "outputs": [],
   "source": [
    "import os\n",
    "from os.path import join\n",
    "import pandas as pd\n",
    "\n",
    "OLD_DATADIR = \"D:\\\\bioinformatics\\\\taxdump\\\\new_taxdump\"\n",
    "NEW_DATADIR = \"D:\\\\bioinformatics\\\\taxdump\\\\db\"\n",
    "paths = {\n",
    "    # original\n",
    "    \"name\": join(OLD_DATADIR, \"names.dmp\"),\n",
    "    \"rankedlineage\": join(OLD_DATADIR, \"rankedlineage.dmp\"),\n",
    "\n",
    "    # cached, processed\n",
    "    \"taxid_name\": join(NEW_DATADIR, \"taxid_name.tsv\"),\n",
    "    \"name_taxid\": join(NEW_DATADIR, \"name_taxid.tsv\"),\n",
    "    \"taxid_rankedlineage\": join(NEW_DATADIR, \"taxidrankedlineage.tsv\"),\n",
    "    \"taxid_counts\": join(NEW_DATADIR, \"taxid_counts.tsv\")\n",
    "}"
   ]
  },
  {
   "cell_type": "markdown",
   "metadata": {},
   "source": [
    "name -> taxid and taxid -> name"
   ]
  },
  {
   "cell_type": "code",
   "execution_count": null,
   "metadata": {},
   "outputs": [],
   "source": [
    "names = pd.read_csv(paths['name'], sep='|', header=None)\n",
    "names = names.drop(columns=[4])\n",
    "names.columns = [\"tax_id\", \"name_txt\", \"unique name\", \"name class\"]\n",
    "for col in ['name_txt', 'unique name', 'name class']:\n",
    "    names[col] = names[col].apply(lambda x: x.strip(\"\\t\"))\n",
    "taxid2name = names[names['name class'] == \"scientific name\"][['tax_id', 'name_txt']]\n",
    "taxid2name.to_csv(paths['taxid_name'], sep=\"\\t\", index=False)\n",
    "\n",
    "name2taxid = names[names['name_txt'].duplicated() == False][[\"name_txt\", \"tax_id\"]]\n",
    "name2taxid.to_csv(paths['name_taxid'], sep=\"\\t\", index=False)"
   ]
  },
  {
   "cell_type": "markdown",
   "metadata": {},
   "source": [
    "taxid -> rankedlineage"
   ]
  },
  {
   "cell_type": "code",
   "execution_count": null,
   "metadata": {},
   "outputs": [],
   "source": [
    "import pandas as pd\n",
    "name2taxid_dict = pd.read_csv(paths['name_taxid'], sep=\"\\t\", index_col=0)['tax_id'].to_dict()\n",
    "rankedlineage = pd.read_csv(paths[\"rankedlineage\"], sep='\\t', header=None)\n",
    "rankedlineage = rankedlineage.drop(columns=[1,3,5,7,9,11,13,15,17,19]).set_index(0).fillna('')\n",
    "rankedlineage.columns = [\"tax_name\", \"species\", \"genus\", \"family\", \"order\", \"class\", \"phylum\", \"kingdom\", \"superkingdom\"]\n",
    "for c in rankedlineage.columns:\n",
    "    rankedlineage[f\"{c}_tax_id\"] = rankedlineage[c].apply(lambda x: name2taxid_dict[x] if x in name2taxid_dict.keys() else 0)\n",
    "rankedlineage[[\"tax_name_tax_id\", \"species_tax_id\", \"genus_tax_id\", \"family_tax_id\", \"order_tax_id\", \"class_tax_id\", \"phylum_tax_id\", \"kingdom_tax_id\", \"superkingdom_tax_id\"]].to_csv(paths['taxid_rankedlineage'], sep=\"\\t\", index=False)"
   ]
  },
  {
   "cell_type": "markdown",
   "metadata": {},
   "source": [
    "taxid -> counts"
   ]
  },
  {
   "cell_type": "code",
   "execution_count": 2,
   "metadata": {},
   "outputs": [],
   "source": [
    "taxidrankedlineage = pd.read_csv(paths['taxid_rankedlineage'], sep=\"\\t\", index_col=0)\n",
    "taxidrankedlineage['tax_name_tax_id'] = taxidrankedlineage.index\n",
    "taxidcounts = pd.DataFrame(taxidrankedlineage.stack().value_counts(), columns=['count'])\n",
    "taxidcounts['score'] = taxidcounts['count'].apply(lambda x: 1/x)\n",
    "taxidcounts.loc[0, \"score\"] = 0\n",
    "taxidcounts.to_csv(paths['taxid_counts'], sep='\\t', index=True)"
   ]
  }
 ],
 "metadata": {
  "kernelspec": {
   "display_name": "enzyme_mining38",
   "language": "python",
   "name": "python3"
  },
  "language_info": {
   "codemirror_mode": {
    "name": "ipython",
    "version": 3
   },
   "file_extension": ".py",
   "mimetype": "text/x-python",
   "name": "python",
   "nbconvert_exporter": "python",
   "pygments_lexer": "ipython3",
   "version": "3.8.20"
  }
 },
 "nbformat": 4,
 "nbformat_minor": 2
}
