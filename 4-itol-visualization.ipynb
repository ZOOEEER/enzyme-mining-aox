{
 "cells": [
  {
   "cell_type": "markdown",
   "metadata": {},
   "source": [
    "build the annotation file for style and layout in iTOL."
   ]
  },
  {
   "cell_type": "code",
   "execution_count": 1,
   "metadata": {},
   "outputs": [
    {
     "name": "stdout",
     "output_type": "stream",
     "text": [
      "d:\\Python\\aox\\enzyme-mining-aox\n"
     ]
    }
   ],
   "source": [
    "import os\n",
    "from os.path import join\n",
    "import pandas as pd\n",
    "import numpy as np\n",
    "CURRENT_DIR = os.getcwd()\n",
    "print(CURRENT_DIR)"
   ]
  },
  {
   "cell_type": "code",
   "execution_count": 2,
   "metadata": {},
   "outputs": [],
   "source": [
    "DATADIR = os.path.join(CURRENT_DIR, \"data\", \"aox\")\n",
    "CACHEDIR = join(DATADIR, \"cache\")\n",
    "RESULTDIR = join(DATADIR, \"result\")\n",
    "SSN_DIR = join(DATADIR, \"graph\", \"acc\")\n",
    "ITOL_DIR = join(DATADIR, \"graph\", \"itol\")\n",
    "\n",
    "filenames = {\n",
    "    # download or curate from the database website\n",
    "    \"labels_annotation\": join(ITOL_DIR, \"labels_annotation.txt\"),\n",
    "    \"range_color_class_annotation\": join(ITOL_DIR, \"range_color_class_annotation.txt\"),\n",
    "    \"range_color_phylum_annotation\": join(ITOL_DIR, \"range_color_phylum_annotation.txt\"),\n",
    "    \"binary_annotation\": join(ITOL_DIR, \"binary_annotation.txt\"),\n",
    "\n",
    "\n",
    "    # styles\n",
    "    \"phylum_style\": join(SSN_DIR, \"phylum_styles.xml\"),\n",
    "    \"class_style\": join(SSN_DIR, \"class_styles.xml\"),\n",
    "\n",
    "    # data\n",
    "    \"sequence_scored.index\": join(CACHEDIR, \"sequence_scored.index.tsv\"),\n",
    "    \"df_align_picked\": join(RESULTDIR, \"sequence_picked_results.tsv\"),\n",
    "}"
   ]
  },
  {
   "cell_type": "markdown",
   "metadata": {},
   "source": [
    "load data from the cached files"
   ]
  },
  {
   "cell_type": "code",
   "execution_count": 3,
   "metadata": {},
   "outputs": [],
   "source": [
    "df_distance_matrix_index = pd.read_csv(filenames['sequence_scored.index'], sep='\\t', header=None)\n",
    "sequence_index = list(df_distance_matrix_index[0])\n",
    "df_align_picked = pd.read_csv(filenames['df_align_picked'], sep='\\t')\n",
    "\n",
    "TAXDUMPDIR_L = join(CACHEDIR, \"taxdump_db\")\n",
    "taxid2name = pd.read_csv(join(TAXDUMPDIR_L, \"taxid_name.tsv\"), sep=\"\\t\", index_col=0)['name_txt'].to_dict()\n",
    "taxidrankedlineage = pd.read_csv(join(TAXDUMPDIR_L, \"taxidrankedlineage.tsv\"), sep=\"\\t\", index_col=0)\n",
    "\n",
    "\n",
    "df_align_picked_taxid = pd.DataFrame(df_align_picked['taxid'].unique(), columns=['taxid'])\n",
    "df_align_picked_taxid = df_align_picked_taxid.merge(taxidrankedlineage, left_on='taxid', right_on='tax_name_tax_id')\n"
   ]
  },
  {
   "cell_type": "markdown",
   "metadata": {},
   "source": [
    "make the colormap corresponding to the SSN styles"
   ]
  },
  {
   "cell_type": "code",
   "execution_count": 4,
   "metadata": {},
   "outputs": [],
   "source": [
    "import xml.etree.ElementTree as ET\n",
    "tree = ET.parse(filenames['phylum_style'])\n",
    "root = tree.getroot()\n",
    "visual_property = root.find(\".//visualProperty[@name='NODE_FILL_COLOR']\")\n",
    "phylum2color = {entry.get('attributeValue'):entry.get('value') for entry in visual_property.findall(\".//discreteMappingEntry\") }\n",
    "\n",
    "df_phylum_colors = pd.DataFrame(df_align_picked_taxid['phylum_tax_id'].unique(), columns=['phylum_tax_id'])\n",
    "df_phylum_colors['phylum'] = df_phylum_colors['phylum_tax_id'].apply(lambda x: taxid2name[x])\n",
    "df_phylum_colors['color'] = df_phylum_colors['phylum'].apply(lambda x: phylum2color[x])\n",
    "\n",
    "# phylum_colors\n",
    "phylum_tax_id2color = df_phylum_colors.set_index('phylum_tax_id')['color'].to_dict()"
   ]
  },
  {
   "cell_type": "code",
   "execution_count": 5,
   "metadata": {},
   "outputs": [],
   "source": [
    "import xml.etree.ElementTree as ET\n",
    "tree = ET.parse(filenames['class_style'])\n",
    "root = tree.getroot()\n",
    "visual_property = root.find(\".//visualProperty[@name='NODE_FILL_COLOR']\")\n",
    "class2color = {entry.get('attributeValue'):entry.get('value') for entry in visual_property.findall(\".//discreteMappingEntry\") }\n",
    "\n",
    "df_class_colors = pd.DataFrame(df_align_picked_taxid['class_tax_id'].unique(), columns=['class_tax_id'])\n",
    "df_class_colors['class'] = df_class_colors['class_tax_id'].apply(lambda x: taxid2name[x])\n",
    "df_class_colors['color'] = df_class_colors['class'].apply(lambda x: class2color[x])\n",
    "\n",
    "# class_colors\n",
    "class_tax_id2color = df_class_colors.set_index('class_tax_id')['color'].to_dict()"
   ]
  },
  {
   "cell_type": "code",
   "execution_count": 6,
   "metadata": {},
   "outputs": [],
   "source": [
    "taxid2class_tax_id = df_align_picked_taxid.set_index('taxid')['class_tax_id'].to_dict()\n",
    "taxid2phylum_tax_id = df_align_picked_taxid.set_index('taxid')['phylum_tax_id'].to_dict()\n",
    "\n",
    "sid2taxid = df_align_picked.set_index('sequence_id')['taxid'].to_dict()"
   ]
  },
  {
   "cell_type": "markdown",
   "metadata": {},
   "source": [
    "make the files"
   ]
  },
  {
   "cell_type": "code",
   "execution_count": 7,
   "metadata": {},
   "outputs": [],
   "source": [
    "with open(filenames['labels_annotation'], \"w\") as f:\n",
    "    f.write(\"LABELS\\n\")\n",
    "    f.write(\"SEPARATOR COMMA\\n\")\n",
    "    f.write(\"DATA\\n\")\n",
    "    for i, query in enumerate(sequence_index):\n",
    "        f.write(f\"{i},{query}\\n\")\n"
   ]
  },
  {
   "cell_type": "code",
   "execution_count": 13,
   "metadata": {},
   "outputs": [],
   "source": [
    "with open(filenames['range_color_class_annotation'], \"w\") as f:\n",
    "    f.write(\"TREE_COLORS\\n\")\n",
    "    f.write(\"SEPARATOR COMMA\\n\")\n",
    "    f.write(\"DATA\\n\")\n",
    "    for i, query in enumerate(sequence_index):\n",
    "        try:\n",
    "            class_tax_id = taxid2class_tax_id[sid2taxid[query]]\n",
    "            class_name = taxid2name[class_tax_id]\n",
    "            color = class_tax_id2color[class_tax_id]\n",
    "            f.write(f\"{i},range,{color},{class_name}\\n\")\n",
    "        except KeyError:\n",
    "            continue"
   ]
  },
  {
   "cell_type": "code",
   "execution_count": 14,
   "metadata": {},
   "outputs": [],
   "source": [
    "with open(filenames['range_color_phylum_annotation'], \"w\") as f:\n",
    "    f.write(\"TREE_COLORS\\n\")\n",
    "    f.write(\"SEPARATOR COMMA\\n\")\n",
    "    f.write(\"DATA\\n\")\n",
    "    for i, query in enumerate(sequence_index):\n",
    "        try:\n",
    "            phylum_tax_id = taxid2phylum_tax_id[sid2taxid[query]]\n",
    "            phylum_name = taxid2name[phylum_tax_id]\n",
    "            color = phylum_tax_id2color[phylum_tax_id]\n",
    "            f.write(f\"{i},range,{color},{phylum_name}\\n\")\n",
    "        except KeyError:\n",
    "            continue"
   ]
  },
  {
   "cell_type": "code",
   "execution_count": 15,
   "metadata": {},
   "outputs": [],
   "source": [
    "sid2active_sequence = df_align_picked.set_index('sequence_id')['active_sequence'].to_dict()\n",
    "sid2active_taxid = df_align_picked.set_index('sequence_id')['tax_score'].to_dict()\n",
    "threshold_active_taxid = 0.01\n",
    "\n",
    "with open(filenames[\"binary_annotation\"], \"w\") as f:\n",
    "    f.write(\"DATASET_BINARY\\n\")\n",
    "    f.write(\"SEPARATOR COMMA\\n\")\n",
    "    f.write(\"DATASET_LABEL,label1\\n\")\n",
    "    f.write(\"COLOR,#ff0000\\n\")\n",
    "    f.write(\"FIELD_SHAPES,1,2\\n\")\n",
    "    f.write(\"FIELD_LABELS,,\\n\")\n",
    "    f.write(\"#FIELD_COLORS,#ff0000,#ffff00\\n\")\n",
    "    f.write(\"DATA\\n\")\n",
    "    for i, query in enumerate(sequence_index):\n",
    "        active_sequence = 1 if sid2active_sequence[query] else -1\n",
    "        active_organism = 1 if sid2active_taxid[query] >= threshold_active_taxid else -1\n",
    "        f.write(f\"{i},{active_sequence},{active_organism}\\n\")"
   ]
  }
 ],
 "metadata": {
  "kernelspec": {
   "display_name": "enzyme_mining38",
   "language": "python",
   "name": "python3"
  },
  "language_info": {
   "codemirror_mode": {
    "name": "ipython",
    "version": 3
   },
   "file_extension": ".py",
   "mimetype": "text/x-python",
   "name": "python",
   "nbconvert_exporter": "python",
   "pygments_lexer": "ipython3",
   "version": "3.8.20"
  }
 },
 "nbformat": 4,
 "nbformat_minor": 2
}
